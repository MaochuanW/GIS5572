{
 "cells": [
  {
   "cell_type": "code",
   "execution_count": 1,
   "metadata": {},
   "outputs": [],
   "source": [
    "import arcpy\n",
    "import psycopg2\n",
    "from psycopg2 import sql\n",
    "from psycopg2.extras import RealDictCursor"
   ]
  },
  {
   "cell_type": "code",
   "execution_count": null,
   "metadata": {},
   "outputs": [],
   "source": [
    "conn= psycopg2.connect(host = '35.223.186.20',\n",
    "                             database = 'lab0',\n",
    "                             user = 'postgres',\n",
    "                             password = '')\n",
    "cur = conn.cursor()\n",
    "\n",
    "create_table_query = sql.SQL(\"CREATE TABLE table2 (polygon geometry)\")\n",
    "cur.execute(create_table_query)\n",
    "\n",
    "conn.commit()\n",
    "cur.close()\n",
    "conn.close()"
   ]
  },
  {
   "cell_type": "code",
   "execution_count": null,
   "metadata": {},
   "outputs": [],
   "source": [
    "# Create a polygon using ArcPy geometry primitives\n",
    "polygon = arcpy.Polygon(arcpy.Array([arcpy.Point(1, 1), arcpy.Point(1, 2), arcpy.Point(2, 2), arcpy.Point(2, 1)]))\n",
    "\n",
    "# Convert the polygon to WKT\n",
    "wkt = polygon.WKT\n",
    "\n",
    "# Connect to the PostGIS database using psycopg2\n",
    "conn= psycopg2.connect(host = '35.223.186.20',\n",
    "                             database = 'lab0',\n",
    "                             user = 'postgres',\n",
    "                             password = '')\n",
    "\n",
    "# Create a cursor\n",
    "cur = conn.cursor()\n",
    "\n",
    "# Define the insert statement\n",
    "insert_stmt = \"INSERT INTO mytable (geom) VALUES (ST_GeomFromText('{}', 4326))\".format(wkt)\n",
    "\n",
    "\n",
    "# Execute the insert statement\n",
    "cur.execute(insert_stmt)\n",
    "\n",
    "# Commit the transaction\n",
    "conn.commit()\n",
    "\n",
    "# Close the cursor and the database connection\n",
    "cur.close()\n",
    "conn.close()\n"
   ]
  },
  {
   "cell_type": "code",
   "execution_count": null,
   "metadata": {},
   "outputs": [],
   "source": [
    "sudo apt-get update\n",
    "sudo apt-get install postgis\n",
    "pip install psycopg2-binary\n",
    "pip install Flask\n"
   ]
  },
  {
   "cell_type": "code",
   "execution_count": null,
   "metadata": {},
   "outputs": [],
   "source": [
    "#make a .py file of the following file and upload to VM ssh\n",
    "\n",
    "import psycopg2\n",
    "from flask import Flask, jsonify\n",
    "from psycopg2 import sql\n",
    "from psycopg2.extras import RealDictCursor\n",
    "\n",
    "app = Flask(__name__)\n",
    "\n",
    "@app.route('/get_polygon', methods=['get'])\n",
    "def get_polygon():\n",
    "    conn= psycopg2.connect(host = '35.223.186.20',\n",
    "                             database = 'lab0',\n",
    "                             user = 'postgres',\n",
    "                             password = '')\n",
    "\n",
    "    cur = conn.cursor(cursor_factory=RealDictCursor)\n",
    "    cur.execute(sql.SQL(\"SELECT mytable, ST_AsGeoJSON(geom)::json AS geometry FROM mytable WHERE id = %s\"), (1,))\n",
    "    result = cur.fetchone()\n",
    "    cur.close()\n",
    "    conn.close()\n",
    "    return jsonify(result)\n",
    "\n",
    "#name the .py file \"app.py\", then upload this app.py file to your ssh on google VM"
   ]
  },
  {
   "cell_type": "code",
   "execution_count": null,
   "metadata": {},
   "outputs": [],
   "source": [
    "export FLASK_APP=app.py\n",
    "flask run --host=0.0.0.0"
   ]
  },
  {
   "cell_type": "code",
   "execution_count": null,
   "metadata": {},
   "outputs": [],
   "source": [
    "import requests\n",
    "\n",
    "url = \"http://34.27.164.176:5000/get_polygon\"\n",
    "response = requests.get(url)\n",
    "\n",
    "if response.status_code == 200:\n",
    "    geojson = response.json()\n",
    "    with open(\"C:/Users/wang8837/Desktop/geokson/my_geojson_file.geojson\", \"w\") as f:\n",
    "        f.write(str(json))\n",
    "        print(\"GeoJSON file saved to C:/my_geojson_file.geojson\")\n",
    "else:\n",
    "    print(\"Failed to retrieve geojson data from the URL.\")"
   ]
  },
  {
   "cell_type": "code",
   "execution_count": null,
   "metadata": {},
   "outputs": [],
   "source": [
    "import json\n",
    "\n",
    "# First JSON\n",
    "json_string_1 = '{\"geometry\":{\"coordinates\":[[[[1.00012207,1.00012207],[2.00012207,1.00012207],[2.00012207,2.00012207],[1.00012207,2.00012207],[1.00012207,1.00012207]]]],\"type\":\"MultiPolygon\"},\"mytable\":\"(1,0106000020E61000000100000001030000000100000005000000000000008000F03F000000008000F03F0000000040000040000000008000F03F00000000400000400000000040000040000000008000F03F0000000040000040000000008000F03F000000008000F03F)\"}'\n",
    "\n",
    "# Load the JSON string as a Python object\n",
    "json_obj_1 = json.loads(json_string_1)\n",
    "\n",
    "# Convert the first JSON object to the second JSON object\n",
    "json_obj_2 = {\n",
    "    \"type\": \"FeatureCollection\",\n",
    "    \"features\": [\n",
    "        {\n",
    "            \"type\": \"Feature\",\n",
    "            \"geometry\": json_obj_1['geometry'],\n",
    "            \"properties\": {\n",
    "                \"mytable\": json_obj_1['mytable']\n",
    "            }\n",
    "        }\n",
    "    ]\n",
    "}\n",
    "\n",
    "# Convert the Python object to a JSON string\n",
    "json_string_2 = json.dumps(json_obj_2)\n",
    "\n",
    "# Print the resulting JSON string\n",
    "print(json_string_2)\n",
    "\n",
    "# Parse the JSON string into a dictionary\n",
    "json_dict = json.loads(json_string_2)\n",
    "\n",
    "# Save the dictionary as a JSON file\n",
    "with open('C:/Users/wang8837/Desktop/geokson/esri_json.json', 'w') as json_file:\n",
    "    json.dump(json_dict, json_file)\n",
    "#This code will create a file called my_geojson_file.json in the current working directory and write the contents of json_dict to it in JSON format.\n",
    "\n",
    "\n",
    "\n",
    "\n"
   ]
  },
  {
   "cell_type": "code",
   "execution_count": 4,
   "metadata": {},
   "outputs": [
    {
     "name": "stdout",
     "output_type": "stream",
     "text": [
      "https://services.arcgis.com/8df8p0NlLFEShl0r/arcgis/rest/services/7u/FeatureServer\n"
     ]
    }
   ],
   "source": [
    "import arcpy\n",
    "from arcgis.gis import GIS\n",
    "from arcgis.features import FeatureLayerCollection\n",
    "\n",
    "# Connect to your ArcGIS Online organization\n",
    "gis = arcgis.gis.GIS(\"home\")\n",
    "\n",
    "# Upload the GeoJSON file as a new item\n",
    "item = gis.content.add({'type': 'GeoJson'}, 'C:/Users/Maochuan/OneDrive/桌面/7u.json')\n",
    "\n",
    "# Publish the new item as a feature layer\n",
    "feature_layer_item = item.publish()\n",
    "\n",
    "# Get the feature layer URL and print it\n",
    "feature_layer_url = feature_layer_item.url\n",
    "print(feature_layer_url)"
   ]
  },
  {
   "cell_type": "code",
   "execution_count": 1,
   "metadata": {},
   "outputs": [],
   "source": []
  }
 ],
 "metadata": {
  "kernelspec": {
   "display_name": "ArcGISPro",
   "language": "Python",
   "name": "python3"
  },
  "language_info": {
   "file_extension": ".py",
   "name": "python",
   "version": "3"
  }
 },
 "nbformat": 4,
 "nbformat_minor": 2
}
