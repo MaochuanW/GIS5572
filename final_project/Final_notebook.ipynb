{
 "cells": [
  {
   "cell_type": "markdown",
   "metadata": {},
   "source": [
    "#  Stink Bug Pipline"
   ]
  },
  {
   "cell_type": "markdown",
   "metadata": {},
   "source": [
    "This notebook grab the city data and brown stink bug survey data from Minnesota. It then processes the data to conduct QAQC steps, which is to check the coordinate system and convert it to 4326 for POSTGIS, and identify duplicate cities. In the end, it creates a table that calculate distance between cities"
   ]
  },
  {
   "cell_type": "code",
   "execution_count": 1,
   "metadata": {},
   "outputs": [],
   "source": [
    "import arcpy\n",
    "import json\n",
    "import zipfile\n",
    "import pprint\n",
    "import requests\n",
    "from arcpy import env\n",
    "import os\n",
    "from zipfile import ZipFile\n",
    "import random\n",
    "import time\n",
    "import pandas as pd\n",
    "from dbfread import DBF\n",
    "import numpy as np"
   ]
  },
  {
   "cell_type": "code",
   "execution_count": 48,
   "metadata": {},
   "outputs": [
    {
     "name": "stdout",
     "output_type": "stream",
     "text": [
      "Data extraction is done!\n"
     ]
    }
   ],
   "source": [
    "# Function to download a file from a URL and unzip it\n",
    "def get_data(url, local_directory):\n",
    "    response = requests.get(url)\n",
    "    file_name = os.path.join(local_directory, url.split(\"/\")[-1])\n",
    "\n",
    "    with open(file_name, \"wb\") as f:\n",
    "        f.write(response.content)\n",
    "        \n",
    "    with ZipFile(file_name, \"r\") as zip_ref:\n",
    "        zip_ref.extractall(local_directory)\n",
    "\n",
    "# Define local directory\n",
    "local_directory = r\"E:\\coursework\\ARCGIS2\\BMSMProject\\data\"\n",
    "# Create the local directory if it doesn't exist\n",
    "if not os.path.exists(local_directory):\n",
    "    os.makedirs(local_directory)\n",
    "\n",
    "# Define the URL\n",
    "boundary_url = \"https://resources.gisdata.mn.gov/pub/gdrs/data/pub/us_mn_state_dot/bdry_mn_city_township_unorg/shp_bdry_mn_city_township_unorg.zip\"\n",
    "bmsb_url = \"https://resources.gisdata.mn.gov/pub/gdrs/data/pub/us_mn_state_mda/biota_bmsb/shp_biota_bmsb.zip\"\n",
    "\n",
    "get_data(boundary_url,local_directory)\n",
    "get_data(bmsb_url,local_directory)\n",
    "\n",
    "print('Data extraction is done!')"
   ]
  },
  {
   "cell_type": "markdown",
   "metadata": {},
   "source": [
    "## QAQC "
   ]
  },
  {
   "cell_type": "markdown",
   "metadata": {},
   "source": [
    "first step of the qaqc is to create a new column \"ObsNum\" that sums the \"Adults\" and \"Nymphs\" column together, and then create a \"ground trugh\" column based on \"ObsNum\" column\n",
    "\n",
    "Second step is to convert the city shapefile to 4326, select only cities and remove unnecesary fields and identify duplicate cities by sum their populatino and merge the duplicate cities polygons.\n",
    "\n",
    "Third step is to join the BMSB table to MN_Cities data and find the closest city to BMSB."
   ]
  },
  {
   "cell_type": "markdown",
   "metadata": {},
   "source": [
    "\n",
    "### BMSB data QAQC"
   ]
  },
  {
   "cell_type": "code",
   "execution_count": 53,
   "metadata": {},
   "outputs": [
    {
     "data": {
      "text/html": [
       "<div>\n",
       "<style scoped>\n",
       "    .dataframe tbody tr th:only-of-type {\n",
       "        vertical-align: middle;\n",
       "    }\n",
       "\n",
       "    .dataframe tbody tr th {\n",
       "        vertical-align: top;\n",
       "    }\n",
       "\n",
       "    .dataframe thead th {\n",
       "        text-align: right;\n",
       "    }\n",
       "</style>\n",
       "<table border=\"1\" class=\"dataframe\">\n",
       "  <thead>\n",
       "    <tr style=\"text-align: right;\">\n",
       "      <th></th>\n",
       "      <th>SiteName</th>\n",
       "      <th>City</th>\n",
       "      <th>Latitude</th>\n",
       "      <th>Longitude</th>\n",
       "      <th>Year</th>\n",
       "      <th>CheckDate</th>\n",
       "      <th>Adults</th>\n",
       "      <th>Nymphs</th>\n",
       "      <th>month</th>\n",
       "      <th>ObsNum</th>\n",
       "    </tr>\n",
       "  </thead>\n",
       "  <tbody>\n",
       "    <tr>\n",
       "      <th>55</th>\n",
       "      <td>AFTON APPLE ORCHARD</td>\n",
       "      <td>HASTINGS</td>\n",
       "      <td>44.818630</td>\n",
       "      <td>-92.813420</td>\n",
       "      <td>2015.0</td>\n",
       "      <td>2015-09-23</td>\n",
       "      <td>1.0</td>\n",
       "      <td>0.0</td>\n",
       "      <td>9</td>\n",
       "      <td>1.0</td>\n",
       "    </tr>\n",
       "    <tr>\n",
       "      <th>122</th>\n",
       "      <td>AFTON APPLE ORCHARD</td>\n",
       "      <td>HASTINGS</td>\n",
       "      <td>44.818870</td>\n",
       "      <td>-92.813330</td>\n",
       "      <td>2018.0</td>\n",
       "      <td>2018-09-27</td>\n",
       "      <td>1.0</td>\n",
       "      <td>0.0</td>\n",
       "      <td>9</td>\n",
       "      <td>1.0</td>\n",
       "    </tr>\n",
       "    <tr>\n",
       "      <th>133</th>\n",
       "      <td>AFTON APPLE ORCHARD</td>\n",
       "      <td>HASTINGS</td>\n",
       "      <td>44.818654</td>\n",
       "      <td>-92.813416</td>\n",
       "      <td>2019.0</td>\n",
       "      <td>2019-09-25</td>\n",
       "      <td>3.0</td>\n",
       "      <td>0.0</td>\n",
       "      <td>9</td>\n",
       "      <td>3.0</td>\n",
       "    </tr>\n",
       "    <tr>\n",
       "      <th>197</th>\n",
       "      <td>ALEXIS BAILLY VINEYARD</td>\n",
       "      <td>HASTINGS</td>\n",
       "      <td>44.686010</td>\n",
       "      <td>-92.871800</td>\n",
       "      <td>2020.0</td>\n",
       "      <td>2020-09-10</td>\n",
       "      <td>1.0</td>\n",
       "      <td>0.0</td>\n",
       "      <td>9</td>\n",
       "      <td>1.0</td>\n",
       "    </tr>\n",
       "    <tr>\n",
       "      <th>548</th>\n",
       "      <td>BATTLE CREEK</td>\n",
       "      <td>SAINT PAUL</td>\n",
       "      <td>44.916890</td>\n",
       "      <td>-93.010860</td>\n",
       "      <td>2016.0</td>\n",
       "      <td>2016-10-12</td>\n",
       "      <td>58.0</td>\n",
       "      <td>3.0</td>\n",
       "      <td>10</td>\n",
       "      <td>61.0</td>\n",
       "    </tr>\n",
       "    <tr>\n",
       "      <th>...</th>\n",
       "      <td>...</td>\n",
       "      <td>...</td>\n",
       "      <td>...</td>\n",
       "      <td>...</td>\n",
       "      <td>...</td>\n",
       "      <td>...</td>\n",
       "      <td>...</td>\n",
       "      <td>...</td>\n",
       "      <td>...</td>\n",
       "      <td>...</td>\n",
       "    </tr>\n",
       "    <tr>\n",
       "      <th>7779</th>\n",
       "      <td>NE RIVERSIDE GARDEN CLUB</td>\n",
       "      <td>MINNEAPOLIS</td>\n",
       "      <td>45.023028</td>\n",
       "      <td>-93.271555</td>\n",
       "      <td>2021.0</td>\n",
       "      <td>2021-08-16</td>\n",
       "      <td>1.0</td>\n",
       "      <td>0.0</td>\n",
       "      <td>8</td>\n",
       "      <td>1.0</td>\n",
       "    </tr>\n",
       "    <tr>\n",
       "      <th>7780</th>\n",
       "      <td>NE RIVERSIDE GARDEN CLUB</td>\n",
       "      <td>MINNEAPOLIS</td>\n",
       "      <td>45.022958</td>\n",
       "      <td>-93.271704</td>\n",
       "      <td>2021.0</td>\n",
       "      <td>2021-09-10</td>\n",
       "      <td>5.0</td>\n",
       "      <td>1.0</td>\n",
       "      <td>9</td>\n",
       "      <td>6.0</td>\n",
       "    </tr>\n",
       "    <tr>\n",
       "      <th>7790</th>\n",
       "      <td>MERRIAM STATION COMMUNITY GARDEN</td>\n",
       "      <td>ST. PAUL</td>\n",
       "      <td>44.954310</td>\n",
       "      <td>-93.184555</td>\n",
       "      <td>2021.0</td>\n",
       "      <td>2021-08-16</td>\n",
       "      <td>1.0</td>\n",
       "      <td>0.0</td>\n",
       "      <td>8</td>\n",
       "      <td>1.0</td>\n",
       "    </tr>\n",
       "    <tr>\n",
       "      <th>7791</th>\n",
       "      <td>NE RIVERSIDE GARDEN CLUB</td>\n",
       "      <td>MINNEAPOLIS</td>\n",
       "      <td>45.022971</td>\n",
       "      <td>-93.271885</td>\n",
       "      <td>2021.0</td>\n",
       "      <td>2021-09-01</td>\n",
       "      <td>4.0</td>\n",
       "      <td>0.0</td>\n",
       "      <td>9</td>\n",
       "      <td>4.0</td>\n",
       "    </tr>\n",
       "    <tr>\n",
       "      <th>7841</th>\n",
       "      <td>WOZUPI TRIBAL GARDENS</td>\n",
       "      <td>PRIOR LAKE</td>\n",
       "      <td>44.743819</td>\n",
       "      <td>-93.479696</td>\n",
       "      <td>2021.0</td>\n",
       "      <td>2021-09-02</td>\n",
       "      <td>2.0</td>\n",
       "      <td>0.0</td>\n",
       "      <td>9</td>\n",
       "      <td>2.0</td>\n",
       "    </tr>\n",
       "  </tbody>\n",
       "</table>\n",
       "<p>566 rows × 10 columns</p>\n",
       "</div>"
      ],
      "text/plain": [
       "                              SiteName         City  ...  month  ObsNum\n",
       "55                 AFTON APPLE ORCHARD     HASTINGS  ...      9     1.0\n",
       "122                AFTON APPLE ORCHARD     HASTINGS  ...      9     1.0\n",
       "133                AFTON APPLE ORCHARD     HASTINGS  ...      9     3.0\n",
       "197             ALEXIS BAILLY VINEYARD     HASTINGS  ...      9     1.0\n",
       "548                       BATTLE CREEK   SAINT PAUL  ...     10    61.0\n",
       "...                                ...          ...  ...    ...     ...\n",
       "7779          NE RIVERSIDE GARDEN CLUB  MINNEAPOLIS  ...      8     1.0\n",
       "7780          NE RIVERSIDE GARDEN CLUB  MINNEAPOLIS  ...      9     6.0\n",
       "7790  MERRIAM STATION COMMUNITY GARDEN     ST. PAUL  ...      8     1.0\n",
       "7791          NE RIVERSIDE GARDEN CLUB  MINNEAPOLIS  ...      9     4.0\n",
       "7841             WOZUPI TRIBAL GARDENS   PRIOR LAKE  ...      9     2.0\n",
       "\n",
       "[566 rows x 10 columns]"
      ]
     },
     "execution_count": 53,
     "metadata": {},
     "output_type": "execute_result"
    }
   ],
   "source": [
    "# Convert BMSB table to pandas df\n",
    "bmsb_dbf = DBF(os.path.join(local_directory,'BMSBSurveyDataTable.dbf'))\n",
    "\n",
    "bmsb_df = pd.DataFrame(iter(bmsb_dbf))\n",
    "\n",
    "#clean and format data\n",
    "bmsb_df = bmsb_df[[\"SiteName\", \"City\", \"Latitude\", \"Longitude\", \"Year\",'CheckDate','Adults','Nymphs']].copy()\n",
    "bmsb_df = bmsb_df.dropna(subset=[\"Latitude\", \"Longitude\", 'CheckDate','Adults','Nymphs'])\n",
    "bmsb_df[\"CheckDate\"] = bmsb_df[\"CheckDate\"].astype('datetime64[ns]')\n",
    "bmsb_df[\"month\"] = pd.DatetimeIndex(bmsb_df[\"CheckDate\"]).month\n",
    "\n",
    "#bounding box\n",
    "bmsb_df = bmsb_df[(bmsb_df[\"Longitude\"] > -97.239) & (bmsb_df[\"Longitude\"] < -89.492) &\n",
    "                              (bmsb_df[\"Latitude\"] > 43.499) & (bmsb_df[\"Latitude\"] < 49.384)]\n",
    "\n",
    "#calculate bmsb_dfnum of obs\n",
    "bmsb_df['ObsNum'] = bmsb_df['Adults'] + bmsb_df['Nymphs']\n",
    "#bmsb_df['Presence'] = 0\n",
    "#bmsb_df.loc[bmsb_df['ObsNum']>0,'Presence'] = 1\n",
    "\n",
    "bmsb_df = bmsb_df[bmsb_df['ObsNum']>0]\n",
    "\n",
    "bmsb_df"
   ]
  },
  {
   "cell_type": "code",
   "execution_count": 54,
   "metadata": {},
   "outputs": [],
   "source": [
    "arcpy.env.workspace = \"E:\\coursework\\ARCGIS2\\BMSMProject\\data\"\n",
    "\n",
    "sr = arcpy.SpatialReference(4326) # WGS 1984\n",
    "\n",
    "# create a new feature class\n",
    "arcpy.CreateFeatureclass_management(arcpy.env.workspace, \"bmsb\", \"POINT\",spatial_reference=sr)\n",
    "\n",
    "# add fields to the feature class\n",
    "arcpy.AddField_management(\"bmsb.shp\", \"SiteName\", \"Text\")\n",
    "arcpy.AddField_management(\"bmsb.shp\", \"City\", \"Text\")\n",
    "arcpy.AddField_management(\"bmsb.shp\", \"Latitude\", \"Double\")\n",
    "arcpy.AddField_management(\"bmsb.shp\", \"Longitude\", 'Double')\n",
    "arcpy.AddField_management(\"bmsb.shp\", \"CheckDate\", 'Date')\n",
    "arcpy.AddField_management(\"bmsb.shp\", \"month\", \"Short\")\n",
    "arcpy.AddField_management(\"bmsb.shp\", \"Year\", \"Short\")\n",
    "arcpy.AddField_management(\"bmsb.shp\", \"ObsNum\", \"Short\")\n",
    "#arcpy.AddField_management(\"bmsb.shp\", \"Presence\", \"Short\")\n",
    "\n",
    "# insert data into the feature class\n",
    "cursor = arcpy.da.InsertCursor(\"bmsb.shp\", [\"SHAPE@\", \"SiteName\", \"City\",\"Latitude\",'Longitude','CheckDate','month','Year','ObsNum'])\n",
    "for index,row in bmsb_df.iterrows():\n",
    "    point = arcpy.Point(row[3], row[2])\n",
    "    cursor.insertRow([point, row[0], row[1],row[2], row[3],row[5], row[8],row[4], row[9]])\n",
    "del cursor"
   ]
  },
  {
   "cell_type": "markdown",
   "metadata": {},
   "source": [
    "### City data QAQC"
   ]
  },
  {
   "cell_type": "code",
   "execution_count": 85,
   "metadata": {},
   "outputs": [
    {
     "data": {
      "text/html": [
       "<div class='gpresult'><h2>Messages</h2><div id='messages' data-messages='[\"Start Time: Friday, April 28, 2023 12:18:01 PM\",\"Succeeded at Friday, April 28, 2023 12:18:02 PM (Elapsed Time: 0.48 seconds)\"]' data-show='true'><div id = 'default' /></div></div>"
      ],
      "text/plain": [
       "<Result 'E:\\\\coursework\\\\ARCGIS2\\\\BMSMProject\\\\data\\\\City_Point.shp'>"
      ]
     },
     "execution_count": 85,
     "metadata": {},
     "output_type": "execute_result"
    }
   ],
   "source": [
    "#saves city polygons\n",
    "#expression = \n",
    "arcpy.conversion.FeatureClassToFeatureClass(\"city_township_unorg\", \n",
    "                                            \"E:\\coursework\\ARCGIS2\\BMSMProject\\data\", \n",
    "                                            \"City.shp\", \"CTU_CLASS = 'CITY'\")\n",
    "\n",
    "#make sure the spatial reference system is 4326\n",
    "sr = arcpy.SpatialReference(4326) # WGS 1984\n",
    "arcpy.management.Project(\"City.shp\", r\"City_reproject.shp\", sr)\n",
    "\n",
    "#merge cities with the same name\n",
    "arcpy.management.Dissolve(\"City_reproject\", \"City_qaqc_done\", \"FEATURE_NA\", [[\"POPULATION\", 'SUM']])\n",
    "\n",
    "# Alter name FEATURE_NA to CITY_NAME\n",
    "arcpy.management.CalculateField(\"City_qaqc_done\", \"CITY_NAME\", \"!FEATURE_NA!\")\n",
    "arcpy.management.CalculateField(\"City_qaqc_done\", \"POPULATION\", \"!SUM_POPULA!\",field_type = 'LONG')\n",
    "\n",
    "#delete unnecessary columns\n",
    "arcpy.management.DeleteField(\"City_qaqc_done\", \"CITY_NAME;POPULATION\", \"KEEP_FIELDS\")\n",
    "\n",
    "#convert each City to points (has been poylgons until now)\n",
    "arcpy.management.FeatureToPoint(\"City_qaqc_done\", \"City_Point.shp\", \"CENTROID\")\n",
    "arcpy.management.DeleteField(\"City_Point\", \"CITY_NAME;POPULATION\", \"KEEP_FIELDS\")\n",
    "\n",
    "#simulation city shp layer\n",
    "arcpy.CopyFeatures_management(\"City_Point\", \"City_Sim\")\n",
    "#prediction city shp layer\n",
    "arcpy.CopyFeatures_management(\"City_Point\", \"City_Pred2022\")\n",
    "arcpy.CopyFeatures_management(\"City_Point\", \"City_Pred2023\")\n",
    "arcpy.CopyFeatures_management(\"City_Point\", \"City_Pred2024\")"
   ]
  },
  {
   "cell_type": "markdown",
   "metadata": {},
   "source": [
    "### Generate City FROM-TO table"
   ]
  },
  {
   "cell_type": "code",
   "execution_count": 80,
   "metadata": {},
   "outputs": [
    {
     "data": {
      "text/html": [
       "<div class='gpresult'><h2>Messages</h2><div id='messages' data-messages='[\"Start Time: Sunday, April 30, 2023 1:43:59 PM\",\"Determining data processing extents...\",\"Building a neighborhood index from the Near Features...\",\"Generating Near Table...\",\"Found 728462 feature(s)\",\"Succeeded at Sunday, April 30, 2023 1:44:13 PM (Elapsed Time: 13.36 seconds)\"]' data-show='true'><div id = 'default' /></div></div>"
      ],
      "text/plain": [
       "<Result 'E:\\\\coursework\\\\ARCGIS2\\\\BMSMProject\\\\Default.gdb\\\\City_FromToTable'>"
      ]
     },
     "execution_count": 80,
     "metadata": {},
     "output_type": "execute_result"
    }
   ],
   "source": [
    "#generate from-to table\n",
    "arcpy.analysis.GenerateNearTable(\"City_Point\", \"City_Point\", \"E:\\coursework\\ARCGIS2\\BMSMProject\\Default.gdb\\City_FromToTable\", closest = \"ALL\", method = \"GEODESIC\")"
   ]
  },
  {
   "cell_type": "code",
   "execution_count": 81,
   "metadata": {},
   "outputs": [
    {
     "data": {
      "text/html": [
       "<div class='gpresult'><h2>Messages</h2><div id='messages' data-messages='[\"Start Time: Sunday, April 30, 2023 1:46:45 PM\",\"Succeeded at Sunday, April 30, 2023 1:46:45 PM (Elapsed Time: 0.14 seconds)\"]' data-show='true'><div id = 'default' /></div></div>"
      ],
      "text/plain": [
       "<Result 'City_FromToTable'>"
      ]
     },
     "execution_count": 81,
     "metadata": {},
     "output_type": "execute_result"
    }
   ],
   "source": [
    "arcpy.env.workspace = \"E:\\coursework\\ARCGIS2\\BMSMProject\\Default.gdb\"\n",
    "\n",
    "#delete unnecessary columns\n",
    "arcpy.management.DeleteField(\"City_FromToTable\", \"IN_FID;NEAR_FID;NEAR_DIST\", \"KEEP_FIELDS\")\n",
    "\n",
    "#format from-to city and population\n",
    "arcpy.management.JoinField(\"City_FromToTable\", \"IN_FID\", \"City_qaqc_done\", \"FID\", [\"CITY_NAME\",'POPULATION'])\n",
    "arcpy.management.AlterField(\"City_FromToTable\", \"CITY_NAME\", 'FROM_CITY','FROM_CITY')\n",
    "arcpy.management.AlterField(\"City_FromToTable\", \"POPULATION\", 'FROM_POP','FROM_POP')\n",
    "arcpy.management.JoinField(\"City_FromToTable\", \"NEAR_FID\", \"City_qaqc_done\", \"FID\", [\"CITY_NAME\",'POPULATION'])\n",
    "arcpy.management.AlterField(\"City_FromToTable\", \"CITY_NAME\", 'TO_CITY','TO_CITY')\n",
    "arcpy.management.AlterField(\"City_FromToTable\", \"POPULATION\", 'TO_POP','TO_POP')"
   ]
  },
  {
   "cell_type": "markdown",
   "metadata": {},
   "source": [
    "# Land Cover Data QAQC"
   ]
  },
  {
   "cell_type": "code",
   "execution_count": null,
   "metadata": {},
   "outputs": [],
   "source": [
    "#read data\n",
    "raster_data = rasterio.open(landcover_path)\n",
    "\n",
    "# Plot raster data\n",
    "plt.imshow(raster_data.read(1), cmap='viridis')\n",
    "plt.title('Land Cover Raster')\n",
    "plt.colorbar()\n",
    "plt.show()\n",
    "\n"
   ]
  },
  {
   "cell_type": "code",
   "execution_count": null,
   "metadata": {},
   "outputs": [],
   "source": [
    "#bounding box\n",
    "arcpy.management.Clip(landcover_path, \"132660 4774410 791819 5491608\", os.path.join(out_local, \"lc_final\"));"
   ]
  },
  {
   "cell_type": "code",
   "execution_count": null,
   "metadata": {},
   "outputs": [],
   "source": [
    "#check if raster is within bounding box\n",
    "bounding_box = (132660, 4774410, 791819, 5491608)\n",
    "\n",
    "\n",
    "raster_file = r\"C:\\Users\\Maochuan\\OneDrive\\桌面\\lab2\\NLCD_2019_Land_Cover.tif\"\n",
    "with rasterio.open(raster_file) as src:\n",
    "    # Get the raster bounding box\n",
    "    raster_bbox = src.bounds\n",
    "    \n",
    "# Check if the raster is within the bounding box\n",
    "    is_within_bbox = (\n",
    "        raster_bbox.left >= bounding_box[0] and\n",
    "        raster_bbox.bottom >= bounding_box[1] and\n",
    "        raster_bbox.right <= bounding_box[2] and\n",
    "        raster_bbox.top <= bounding_box[3]\n",
    "    )\n",
    "\n",
    "# Print the result\n",
    "if is_within_bbox:\n",
    "    print(\"The raster is within the bounding box.\")\n",
    "else:\n",
    "    print(\"The raster is not within the bounding box.\")"
   ]
  },
  {
   "cell_type": "code",
   "execution_count": null,
   "metadata": {},
   "outputs": [],
   "source": [
    "# Check if the data is categorical or not\n",
    "\n",
    "# Set the workspace environment\n",
    "arcpy.env.workspace = r\"C:\\Users\\Maochuan\\OneDrive\\文档\\ArcGIS\\Projects\\lab2_arc2\"\n",
    "\n",
    "# Define the land cover raster dataset\n",
    "land_cover_tif = r\"C:\\Users\\Maochuan\\OneDrive\\桌面\\lab2\\NLCD_2019_Land_Cover.tif\"\n",
    "\n",
    "# Conver the raster to numpy array\n",
    "land_cover_array = arcpy.RasterToNumPyArray(land_cover_tif)\n",
    "\n",
    "# Calculate the unique values in an array\n",
    "unique_values = np.unique(land_cover_array)\n",
    "\n",
    "# Set a threshold for the number of unique values to consider a raster categorical\n",
    "threshold = 100\n",
    "\n",
    "if len(unique_values) <= threshold:\n",
    "    print(\"The land cover GeoTIFF is likely categorical.\")\n",
    "else:\n",
    "    print(\"The land cover GeoTIFF is not categorical.\")\n",
    "\n",
    "# In this approach, we first convert the raster to a NumPy array\n",
    "# then calculate the number of unique values in the array. \n",
    "# If the number of unique values is below a certain threshold (e.g., 100), \n",
    "# we consider the raster to be categorical. This is not a definitive method, \n",
    "# as the threshold value is arbitrary and could vary depending on your specific dataset. "
   ]
  },
  {
   "cell_type": "code",
   "execution_count": null,
   "metadata": {},
   "outputs": [],
   "source": [
    "# Check for null values\n",
    "null_values = arcpy.management.GetRasterProperties(landcover_path, \"ANYNODATA\").getOutput(0)\n",
    "if null_values == \"1\":\n",
    "        print(\"Null values exist.\")\n",
    "else:\n",
    "        print(\"Null values do not exist.\")"
   ]
  },
  {
   "cell_type": "code",
   "execution_count": null,
   "metadata": {},
   "outputs": [],
   "source": [
    "#coordinate system\n",
    "with raster_data as src:\n",
    "    raster_crs = src.crs\n",
    "\n",
    "    print(\"Raster CRS:\", raster_crs)"
   ]
  },
  {
   "cell_type": "code",
   "execution_count": null,
   "metadata": {},
   "outputs": [],
   "source": [
    "#cell size\n",
    "\n",
    "with raster_data as src1:\n",
    "    # Get the cell size (resolution) from the transform object\n",
    "    cell_size_x = src1.transform[0]\n",
    "    cell_size_y = -src1.transform[4]\n",
    "\n",
    "# Print the cell size\n",
    "print(f\"Cell size (X): {cell_size_x} units\")\n",
    "print(f\"Cell size (Y): {cell_size_y} units\")"
   ]
  },
  {
   "cell_type": "markdown",
   "metadata": {},
   "source": [
    "# Landcover data extraction"
   ]
  },
  {
   "cell_type": "code",
   "execution_count": null,
   "metadata": {},
   "outputs": [],
   "source": [
    "# clip landcover data to each city polygon\n",
    "out_raster = arcpy.sa.ExtractByMask(\"NLCD_2019_Land_Cover.tif\", \"MN_Cities_dissolve_Project\", \"INSIDE\", '157274.260712674 4816295.86531197 717221.411589083 5433614.51137255 PROJCS[\"NAD_1983_UTM_Zone_15N\",GEOGCS[\"GCS_North_American_1983\",DATUM[\"D_North_American_1983\",SPHEROID[\"GRS_1980\",6378137.0,298.257222101]],PRIMEM[\"Greenwich\",0.0],UNIT[\"Degree\",0.0174532925199433]],PROJECTION[\"Transverse_Mercator\"],PARAMETER[\"False_Easting\",500000.0],PARAMETER[\"False_Northing\",0.0],PARAMETER[\"Central_Meridian\",-93.0],PARAMETER[\"Scale_Factor\",0.9996],PARAMETER[\"Latitude_Of_Origin\",0.0],UNIT[\"Meter\",1.0]]'); out_raster.save(r\"C:\\Users\\Maochuan\\OneDrive\\文档\\ArcGIS\\Projects\\arc2_final_project\\arc2_final_project.gdb\\Extract_NLCD1\")"
   ]
  },
  {
   "cell_type": "code",
   "execution_count": null,
   "metadata": {},
   "outputs": [],
   "source": [
    "# Convert raster to points with the pixel count value for each point and land class\n",
    "arcpy.conversion.RasterToPoint(\"Extract_NLCD1\", r\"C:\\Users\\Maochuan\\OneDrive\\文档\\ArcGIS\\Projects\\arc2_final_project\\arc2_final_project.gdb\\RasterT_Extract3\", \"Count\")"
   ]
  },
  {
   "cell_type": "code",
   "execution_count": null,
   "metadata": {},
   "outputs": [],
   "source": [
    "# Spatial Join the points to city polygon shapefile\n",
    "arcpy.analysis.SpatialJoin(\"MN_Cities_dissolve_Project\", \"RasterT_Extract3\", r\"C:\\Users\\Maochuan\\OneDrive\\文档\\ArcGIS\\Projects\\arc2_final_project\\arc2_final_project.gdb\\MN_Cities_dissol_SpatialJoin1\", \"JOIN_ONE_TO_ONE\", \"KEEP_ALL\", 'CITY_SJ \"CITY_SJ\" true true false 512 Text 0 0,First,#,MN_Cities_dissolve_Project,CITY_SJ,0,512;Shape_Length \"Shape_Length\" false true true 8 Double 0 0,First,#,MN_Cities_dissolve_Project,Shape_Length,-1,-1;Shape_Area \"Shape_Area\" false true true 8 Double 0 0,First,#,MN_Cities_dissolve_Project,Shape_Area,-1,-1;POPULATION \"POPULATION\" true true false 4 Long 0 0,First,#,MN_Cities_dissolve_Project,POPULATION,-1,-1;pointid \"pointid\" true true false 4 Long 0 0,First,#,RasterT_Extract3,pointid,-1,-1;grid_code \"grid_code\" true true false 4 Long 0 0,First,#,RasterT_Extract3,grid_code,-1,-1;Name \"Name\" true true false 28 Text 0 0,First,#,RasterT_Extract3,Name,0,28', \"INTERSECT\", None, '')"
   ]
  },
  {
   "cell_type": "code",
   "execution_count": null,
   "metadata": {},
   "outputs": [],
   "source": [
    "# calculate the total count of pixels by city\n",
    "arcpy.Statistics_analysis(\"RasterT_Extract3_SpatialJoin\", \"output_table\",[[\"Name\", \"COUNT\"]], \"CITY_SJ\")"
   ]
  },
  {
   "cell_type": "code",
   "execution_count": null,
   "metadata": {},
   "outputs": [],
   "source": [
    "input_feature_class = \"RasterT_Extract3_SpatialJoin\"\n",
    "output_filtered_fc = \"filtered_feature_class\"\n",
    "output_table = \"output_table_agriculture\"\n",
    "\n",
    "\n",
    "attributes_to_match = [\n",
    "    \"Open Water\",\n",
    "    \"Barren Land (Rock/Sand/Clay)\",\n",
    "    \"Deciduous Forest\",\n",
    "    \"Evergreen forest\",\n",
    "    \"Mixed forest\",\n",
    "    \"shrub/scrub\",\n",
    "    \"Grassland/Herbaceous\",\n",
    "    \"Pasture/Hay\",\n",
    "    \"Cultivated Crops\",\n",
    "    \"Woody Wetlands\",\n",
    "    \"Emergent Herbaceous Wetlands\"\n",
    "]\n",
    "\n",
    "\n",
    "# Make a feature layer from the input feature class\n",
    "arcpy.MakeFeatureLayer_management(input_feature_class, \"input_layer\")\n",
    "\n",
    "# Use a SQL expression to filter the layer based on the desired attributes\n",
    "sql_expression = f\"{arcpy.AddFieldDelimiters('input_layer', 'Name')} IN {tuple(attributes_to_match)}\"\n",
    "arcpy.SelectLayerByAttribute_management(\"input_layer\", \"NEW_SELECTION\", sql_expression)\n",
    "\n",
    "# Save the filtered layer to a new feature class\n",
    "arcpy.CopyFeatures_management(\"input_layer\", output_filtered_fc)\n",
    "\n",
    "# Clean up the feature layer\n",
    "arcpy.Delete_management(\"input_layer\")\n",
    "\n",
    "# calculate the total pixel count by each city by its agricultural pixel count\n",
    "arcpy.Statistics_analysis(output_filtered_fc, output_table, [[\"Name\", \"COUNT\"]], \"CITY_SJ\")\n",
    "\n",
    "#add field for ag_percentage\n",
    "arcpy.management.AddField(\"output_table_ag+city\", \"ag_percentage\", \"DOUBLE\", None, None, None, '', \"NULLABLE\", \"NON_REQUIRED\", '')\n",
    "\n",
    "# calculate the ag_percentage by dividng the agricultural field by total pixel count\n",
    "arcpy.management.CalculateField(\"output_table_ag+city\", \"ag_percentage\", \"!FREQUENCY! / !FREQUENCY_1!\", \"PYTHON3\", '', \"TEXT\", \"NO_ENFORCE_DOMAINS\")"
   ]
  },
  {
   "cell_type": "markdown",
   "metadata": {},
   "source": [
    "# join Ag table"
   ]
  },
  {
   "cell_type": "code",
   "execution_count": null,
   "metadata": {},
   "outputs": [],
   "source": [
    "arcpy.JoinField_management(\"City_FromToTable\", \"TO_CITY\", \"ag_percentage_to.csv\", \"CITY_TO\")\n",
    "arcpy.TableToTable_conversion(\"City_FromToTable\", r\"E:\\coursework\\ARCGIS2\\BMSMProject\\Default.gdb\", \"City_FromToTable_Final\")"
   ]
  },
  {
   "cell_type": "markdown",
   "metadata": {},
   "source": [
    "### Monte Carlo Simulation"
   ]
  },
  {
   "cell_type": "code",
   "execution_count": 35,
   "metadata": {},
   "outputs": [],
   "source": [
    "def simulation(FromToTable,SimLayer,method,seed,num_year,G,i):\n",
    "    PresenceCity = [seed]\n",
    "    for j in range(0, num_year):\n",
    "        with arcpy.da.SearchCursor(FromToTable,\"*\") as cursor:\n",
    "            for row in cursor:\n",
    "                if method == 'MC':\n",
    "                    if row[4] in PresenceCity and row[6] not in PresenceCity and row[3]<=distance_threhold:\n",
    "                        prob = max(0, random.normalvariate(0.05, 0.1 * 0.05))\n",
    "                        if random.random()<= prob:\n",
    "                            PresenceCity.append(row[6])\n",
    "                elif method == 'G':\n",
    "                    if row[4] in PresenceCity and row[6] not in PresenceCity:\n",
    "                        if random.random()<= G * row[10]:\n",
    "                            PresenceCity.append(row[6])\n",
    "                elif method == 'H':\n",
    "                    if row[4] in PresenceCity and row[6] not in PresenceCity:\n",
    "                        if random.random()<= G * row[11]:\n",
    "                            PresenceCity.append(row[6])\n",
    "                else:\n",
    "                    print('Please select methods among MC/G/H')\n",
    "                    break\n",
    "\n",
    "    print(f\"Simulation{i} for Year{j+2016}:{PresenceCity}\")\n",
    "\n",
    "    # adds presence column for each simulation\n",
    "    arcpy.management.AddField(SimLayer, f\"Sim{i}_MC\", \"SHORT\")\n",
    "    with arcpy.da.UpdateCursor(SimLayer,\"*\") as cursor:\n",
    "        for row in cursor:\n",
    "            if method == 'MC':\n",
    "                if row[2] in PresenceCity:\n",
    "                    row[(4+i)] = 1\n",
    "                else:\n",
    "                    row[(4+i)] = 0\n",
    "                cursor.updateRow(row)\n",
    "            elif method == 'G':\n",
    "                if row[2] in PresenceCity:\n",
    "                    row[(5+i)] = 1\n",
    "                else:\n",
    "                    row[(5+i)] = 0\n",
    "                cursor.updateRow(row)\n",
    "            elif method == 'H':\n",
    "                if row[2] in PresenceCity:\n",
    "                    row[(6+i)] = 1\n",
    "                else:\n",
    "                    row[(6+i)] = 0\n",
    "                cursor.updateRow(row)\n",
    "    return PresenceCity"
   ]
  },
  {
   "cell_type": "code",
   "execution_count": 37,
   "metadata": {},
   "outputs": [],
   "source": [
    "def prediction(FromToTable,PredLayer,method,PresenceCity,G,i):\n",
    "    with arcpy.da.SearchCursor(FromToTable,\"*\") as cursor:\n",
    "        for row in cursor:\n",
    "            if method == 'MC':\n",
    "                if row[4] in PresenceCity and row[6] not in PresenceCity and row[3]<=distance_threhold:\n",
    "                    prob = max(0, random.normalvariate(0.05, 0.1 * 0.05))\n",
    "                    if random.random()<= prob:\n",
    "                        PresenceCity.append(row[6])\n",
    "            elif method == 'G':\n",
    "                if row[4] in PresenceCity and row[6] not in PresenceCity:\n",
    "                    if random.random()<= G * row[10]:\n",
    "                        PresenceCity.append(row[6])\n",
    "            elif method == 'H':\n",
    "                if row[4] in PresenceCity and row[6] not in PresenceCity:\n",
    "                    if random.random()<= G * row[11]:\n",
    "                        PresenceCity.append(row[6])\n",
    "            else:\n",
    "                print('Please select methods among MC/G/H')\n",
    "    \n",
    "    # adds presence column for each simulation\n",
    "    arcpy.management.AddField(PredLayer, f\"Pred{i}_MC\", \"SHORT\")\n",
    "    with arcpy.da.UpdateCursor(PredLayer,\"*\") as cursor:\n",
    "        for row in cursor:\n",
    "            if method == 'MC':\n",
    "                if row[2] in PresenceCity:\n",
    "                    row[(4+i)] = 1\n",
    "                else:\n",
    "                    row[(4+i)] = 0\n",
    "                cursor.updateRow(row)\n",
    "            elif method == 'G':\n",
    "                if row[2] in PresenceCity:\n",
    "                    row[(5+i)] = 1\n",
    "                else:\n",
    "                    row[(5+i)] = 0\n",
    "                cursor.updateRow(row)\n",
    "            elif method == 'H':\n",
    "                if row[2] in PresenceCity:\n",
    "                    row[(6+i)] = 1\n",
    "                else:\n",
    "                    row[(6+i)] = 0\n",
    "                cursor.updateRow(row)\n",
    "    return PresenceCity"
   ]
  },
  {
   "cell_type": "code",
   "execution_count": 36,
   "metadata": {},
   "outputs": [],
   "source": [
    "def final_result(Layer,method):\n",
    "    with arcpy.da.UpdateCursor(Layer,\"*\") as cursor:\n",
    "        for row in cursor:\n",
    "            if method == 'MC':\n",
    "                if sum(row[4:54])>25:\n",
    "                    row[54] = 1\n",
    "                else:\n",
    "                    row[54] = 0\n",
    "                cursor.updateRow(row)\n",
    "            elif method == 'G':\n",
    "                if sum(row[5:55])>25:\n",
    "                    row[55] = 1\n",
    "                else:\n",
    "                    row[55] = 0\n",
    "                cursor.updateRow(row)\n",
    "            elif method == 'H':\n",
    "                if sum(row[6:56])>25:\n",
    "                    row[56] = 1\n",
    "                else:\n",
    "                    row[56] = 0\n",
    "                cursor.updateRow(row)"
   ]
  },
  {
   "cell_type": "code",
   "execution_count": 38,
   "metadata": {},
   "outputs": [
    {
     "name": "stdout",
     "output_type": "stream",
     "text": [
      "Simulation0 for Year2021:['Minneapolis', 'Mendota', 'Bloomington', 'Hopkins', 'Savage', 'Eden Prairie', 'Edina', 'Greenwood', 'Minnetonka', 'Medicine Lake', 'Excelsior', 'Golden Valley', 'Woodland', 'Deephaven', 'Lilydale', 'Richfield', 'Orono', 'Minnetonka Beach', 'Mound', 'Spring Park', 'Wayzata', 'Lauderdale', 'Saint Louis Park', 'Maple Plain', 'Independence', 'Credit River', 'Fridley', 'Watertown', 'Crystal', 'Medina', 'Brooklyn Center', 'South Saint Paul', 'Loretto', 'Inver Grove Heights', 'Waconia']\n",
      "Simulation1 for Year2021:['Minneapolis', 'Falcon Heights', 'Columbia Heights', 'New Hope', 'Gem Lake', 'White Bear Lake', 'Mahtomedi', 'Dellwood', 'Maplewood', 'Robbinsdale', 'Mendota', 'Fridley', 'Willernie', 'Little Canada', 'Lake Elmo', 'Shoreview', 'Golden Valley', 'Hopkins', 'Woodland', 'Wayzata', 'Lake Saint Croix Beach', 'Birchwood Village', 'Grant', 'Woodbury', 'Sunfish Lake', 'South Saint Paul', 'Hilltop', 'Plymouth', 'Osseo', 'Vadnais Heights', 'Inver Grove Heights', 'Greenwood', 'Saint Marys Point', 'Hugo', 'Lauderdale', 'Arden Hills', 'Roseville', 'Crystal', 'Chaska', 'Saint Louis Park', 'Brooklyn Center', 'Maple Grove', 'Mounds View', 'Centerville', 'Saint Paul Park', 'North Oaks', 'Afton', 'Edina', 'Oakdale', 'New Brighton', 'North Saint Paul', 'Tonka Bay', 'Brooklyn Park', 'Deephaven', 'West Saint Paul', 'Landfall', 'Eagan', 'Saint Bonifacius', 'Saint Paul', 'Orono', 'Saint Anthony', 'Long Lake', 'Coon Rapids', 'Lino Lakes', 'Minnetonka', 'Blaine', 'Pine Springs', 'Corcoran', 'Rogers', 'Victoria', 'Cottage Grove', 'Circle Pines', 'Lexington']\n",
      "Simulation2 for Year2021:['Minneapolis', 'New Hope', 'Lauderdale', 'Saint Paul', 'West Saint Paul', 'Little Canada', 'Woodbury', 'Maplewood', 'North Saint Paul', 'Osseo', 'Maple Grove', 'Roseville', 'Medicine Lake', 'Sunfish Lake', 'Lilydale', 'Newport', 'Falcon Heights', 'Saint Marys Point', 'Vadnais Heights', 'Richfield', 'Plymouth', 'Crystal', 'Saint Paul Park', 'Champlin', 'Rosemount', 'Landfall', 'Eagan', 'Gem Lake', 'New Brighton', 'Lake Elmo', 'Minnetonka', 'Fridley', 'Grant', 'Saint Anthony', 'Coates', 'Apple Valley', 'Cottage Grove', 'Rogers', 'Mendota', 'Inver Grove Heights', 'White Bear Lake', 'Centerville']\n",
      "Simulation3 for Year2021:['Minneapolis', 'Roseville', 'New Brighton', 'Hilltop', 'Lauderdale', 'Brooklyn Park', 'New Hope', 'Crystal', 'West Saint Paul', 'Mendota', 'Golden Valley', 'Spring Lake Park', 'Inver Grove Heights', 'Lilydale', 'Vadnais Heights', 'Mounds View', 'Falcon Heights', 'Fridley', 'Little Canada', 'Robbinsdale', 'Hopkins', 'Columbia Heights', 'White Bear Lake', 'Maplewood', 'Centerville']\n",
      "Simulation4 for Year2021:['Minneapolis', 'Roseville', 'Gem Lake', 'Mendota Heights', 'Lilydale', 'Mahtomedi', 'Saint Paul', 'Richfield', 'Little Canada', 'Birchwood Village', 'Dellwood', 'Oakdale', 'Hugo', 'Shoreview', 'Lino Lakes', 'Pine Springs', 'Mounds View', 'Arden Hills', 'Spring Lake Park', 'Lauderdale', 'Maplewood', 'Willernie', 'Falcon Heights', 'Oak Park Heights', 'Centerville', 'North Oaks', 'New Brighton', 'Mendota', 'Inver Grove Heights', 'Saint Louis Park', 'Robbinsdale', 'Fridley', 'Woodbury', 'Grant', 'Golden Valley', 'Lake Elmo', 'White Bear Lake', 'Blaine', 'West Saint Paul', 'Circle Pines', 'Sunfish Lake', 'Lakeland', 'Newport', 'Hopkins', 'Eden Prairie', 'Brooklyn Center', 'North Saint Paul', 'Vadnais Heights']\n",
      "Simulation5 for Year2021:['Minneapolis', 'Medicine Lake', 'Mendota Heights', 'Mendota', 'Inver Grove Heights', 'Robbinsdale', 'Maple Grove', 'Falcon Heights', 'Newport', 'Woodbury', 'Hilltop', 'Hopkins', 'Maplewood', 'Mounds View', 'New Hope', 'Shorewood', 'Deephaven', 'Richfield', 'Crystal', 'Saint Louis Park', 'Spring Lake Park', 'Wayzata', 'New Brighton', 'Roseville', 'Edina', 'Woodland', 'West Saint Paul', 'Lilydale', 'White Bear Lake', 'Dellwood', 'Plymouth', 'Golden Valley', 'Saint Paul', 'Shoreview', 'Columbia Heights', 'Vadnais Heights', 'Osseo', 'Landfall', 'Fridley', 'Lauderdale', 'North Oaks', 'Little Canada', 'Gem Lake', 'Chanhassen', 'Champlin', 'Circle Pines', 'Long Lake', 'Maple Plain', 'Afton', 'Orono', 'Lexington', 'Minnetonka', 'Spring Park', 'Brooklyn Park', 'Sunfish Lake', 'Birchwood Village', 'Ham Lake', 'North Saint Paul', 'Mahtomedi', 'Anoka', 'Blaine', 'South Saint Paul', 'Pine Springs', 'Excelsior', 'Lake Elmo', 'Arden Hills', 'Victoria', 'Eagan', 'Minnetrista', 'Saint Bonifacius', 'Lakeland']\n",
      "Simulation6 for Year2021:['Minneapolis', 'Hilltop', 'Medicine Lake', 'New Hope', 'Saint Paul', 'Columbia Heights', 'Saint Anthony', 'Osseo', 'Anoka', 'Brooklyn Center', 'Roseville', 'North Saint Paul']\n",
      "Simulation7 for Year2021:['Minneapolis', 'New Hope', 'Saint Louis Park', 'Medicine Lake', 'Brooklyn Park']\n",
      "Simulation8 for Year2021:['Minneapolis', 'Hopkins', 'Wayzata', 'New Brighton']\n",
      "Simulation9 for Year2021:['Minneapolis', 'Robbinsdale', 'Mendota Heights', 'Lauderdale', 'Hilltop', 'Fridley', 'Osseo', 'North Oaks', 'New Brighton', 'Eagan', 'Roseville', 'Lexington', 'Dayton', 'Plymouth', 'Medicine Lake', 'Little Canada', 'Maplewood', 'Brooklyn Center', 'Dellwood', 'West Saint Paul', 'Richfield', 'Saint Paul', 'Shoreview', 'Gem Lake', 'Centerville', 'Coon Rapids', 'New Hope', 'Maple Grove', 'North Saint Paul', 'Brooklyn Park', 'Birchwood Village', 'Mahtomedi', 'Arden Hills', 'White Bear Lake', 'Columbia Heights', 'Mounds View', 'Oakdale', 'Lake Elmo', 'Crystal', 'Golden Valley', 'Bloomington', 'Landfall', 'Apple Valley', 'Blaine', 'Hopkins', 'Circle Pines', 'Falcon Heights', 'Pine Springs', 'Vadnais Heights', 'Champlin', 'South Saint Paul', 'Minnetonka']\n",
      "Simulation10 for Year2021:['Minneapolis', 'Crystal', 'Saint Paul', 'Lilydale', 'Lauderdale', 'Mounds View', 'Inver Grove Heights', 'Hilltop', 'Spring Lake Park', 'Arden Hills', 'Coon Rapids', 'Fridley', 'Brooklyn Center', 'Columbia Heights', 'Blaine', 'New Brighton', 'Coates', 'Shoreview', 'Landfall', 'Little Canada', 'Robbinsdale', 'Lexington', 'Circle Pines', 'Hampton', 'Saint Anthony', 'Dayton', 'Osseo', 'Corcoran', 'Vadnais Heights', 'Mendota', 'Mahtomedi', 'Falcon Heights', 'Anoka', 'Maple Grove', 'White Bear Lake', 'Empire', 'Saint Paul Park', 'Golden Valley', 'Medina', 'Medicine Lake', 'New Hope', 'South Saint Paul', 'Pine Springs', 'Brooklyn Park', 'Sunfish Lake', 'Champlin', 'North Saint Paul', 'Birchwood Village', 'Hugo', 'North Oaks', 'Centerville', 'Gem Lake', 'Mendota Heights', 'Eagan', 'Long Lake', 'West Saint Paul', 'Willernie', 'Plymouth', 'Cottage Grove']\n",
      "Simulation11 for Year2021:['Minneapolis', 'Saint Paul', 'Mendota', 'North Saint Paul', 'Edina', 'Maplewood', 'Fridley', 'Pine Springs', 'Willernie', 'Stillwater', 'Little Canada', 'Crystal', 'North Oaks', 'Vadnais Heights', 'Mendota Heights', 'South Saint Paul', 'Dellwood', 'Roseville', 'Spring Lake Park', 'Landfall', 'Osseo', 'Lakeland Shores', 'Circle Pines', 'Birchwood Village', 'Medicine Lake', 'Richfield', 'Mounds View', 'Lake Elmo', 'Oakdale', 'Gem Lake', 'Golden Valley', 'Long Lake', 'Dayton', 'White Bear Lake', 'Woodbury', 'Brooklyn Park']\n",
      "Simulation12 for Year2021:['Minneapolis', 'Crystal', 'Lilydale', 'Medicine Lake', 'Fridley', 'Sunfish Lake', 'Newport', 'Saint Louis Park', 'Woodland', 'Roseville', 'Saint Paul', 'Falcon Heights', 'West Saint Paul', 'South Saint Paul', 'Lauderdale', 'Maplewood', 'Long Lake', 'Hilltop', 'Arden Hills', 'New Brighton', 'Robbinsdale', 'Circle Pines', 'Little Canada', 'Gem Lake', 'Maple Plain', 'Vadnais Heights', 'Plymouth', 'Edina', 'Columbia Heights', 'Mounds View', 'Landfall', 'Brooklyn Center', 'Corcoran', 'Wayzata', 'Mendota Heights', 'Loretto', 'Orono', 'Excelsior', 'Eden Prairie', 'Shoreview', 'Coon Rapids', 'New Hope', 'Saint Anthony', 'Saint Michael', 'Osseo', 'Golden Valley', 'Grant', 'Lino Lakes', 'Lexington', 'Lake Elmo', 'Saint Paul Park', 'White Bear Lake', 'Mendota', 'Inver Grove Heights', 'Hopkins', 'Shorewood', 'Buffalo', 'Woodbury', 'North Oaks', 'North Saint Paul', 'Mound', 'Centerville', 'Brooklyn Park', 'Anoka', 'Rosemount', 'Oakdale', 'Chanhassen', 'Spring Lake Park', 'Richfield', 'Dellwood', 'Blaine', 'Birchwood Village', 'Minnetonka', 'Deephaven', 'Minnetrista', 'Medina', 'Minnetonka Beach', 'Victoria', 'Willernie', 'Champlin', 'Bloomington', 'Farmington', 'Saint Bonifacius', 'Eagan', 'Chaska', 'Pine Springs', 'Lake Saint Croix Beach']\n",
      "Simulation13 for Year2021:['Minneapolis', 'Medicine Lake', 'Osseo', 'Saint Louis Park', 'Mendota', 'Golden Valley', 'Richfield', 'Plymouth', 'Edina', 'Fridley', 'Dayton', 'Robbinsdale', 'Crystal', 'Brooklyn Center', 'Falcon Heights', 'Maple Grove', 'Hopkins', 'Brooklyn Park', 'Lauderdale', 'New Brighton', 'Eden Prairie', 'Shoreview', 'New Hope', 'West Saint Paul', 'Lexington', 'Minnetonka', 'Mendota Heights', 'Eagan', 'Wayzata', 'Columbia Heights', 'North Saint Paul', 'Medina', 'South Saint Paul', 'Champlin', 'Rogers', 'Corcoran', 'Bloomington', 'Vadnais Heights', 'Excelsior', 'Saint Anthony', 'Mound', 'Saint Paul', 'Inver Grove Heights', 'Deephaven', 'Minnetrista', 'Maple Plain', 'Grant', 'Woodland', 'Sunfish Lake', 'Spring Lake Park', 'Maplewood', 'Blaine', 'Lilydale', 'Woodbury']\n",
      "Simulation14 for Year2021:['Minneapolis', 'New Hope', 'Golden Valley', 'Lilydale', 'Brooklyn Center', 'Hilltop', 'Shoreview', 'Circle Pines', 'West Saint Paul', 'Richfield', 'Hopkins', 'Falcon Heights', 'Lauderdale', 'New Brighton', 'Medicine Lake', 'Minnetonka', 'Wayzata', 'Robbinsdale', 'Little Canada', 'Saint Louis Park', 'Roseville', 'Sunfish Lake', 'Deephaven', 'Tonka Bay', 'Mounds View', 'Spring Lake Park', 'Columbia Heights', 'North Oaks', 'Chanhassen', 'Medina', 'Shorewood', 'Centerville', 'Fridley', 'Crystal', 'Eagan', 'Maplewood', 'Pine Springs', 'Vadnais Heights', 'Lexington', 'Gem Lake', 'Birchwood Village', 'Dellwood', 'Loretto', 'Newport']\n",
      "Simulation15 for Year2021:['Minneapolis', 'Falcon Heights', 'Vadnais Heights', 'Mahtomedi', 'North Oaks', 'Landfall', 'Edina', 'Pine Springs', 'Oakdale', 'Sunfish Lake', 'Columbia Heights', 'White Bear Lake', 'Newport', 'Roseville', 'Fridley', 'Mounds View', 'Brooklyn Center', 'Lauderdale', 'Arden Hills', 'Stillwater', 'Lilydale', 'Dellwood', 'Lino Lakes', 'Maple Grove', 'Hilltop', 'Mendota Heights', 'Spring Lake Park', 'Little Canada', 'Blaine', 'Saint Paul', 'West Saint Paul', 'Centerville', 'Rogers', 'Richfield', 'Coon Rapids', 'Bloomington', 'Eagan', 'Saint Anthony', 'North Saint Paul', 'Dayton', 'Plymouth', 'Willernie', 'Inver Grove Heights', 'Maplewood']\n",
      "Simulation16 for Year2021:['Minneapolis', 'Hilltop', 'New Brighton', 'Saint Paul', 'Falcon Heights', 'North Oaks', 'Blaine', 'Brooklyn Park', 'Lexington', 'Spring Lake Park', 'Maplewood', 'Little Canada', 'Coon Rapids', 'Robbinsdale', 'Fridley', 'Mounds View', 'New Hope', 'Lino Lakes', 'Circle Pines', 'Vadnais Heights', 'Birchwood Village', 'Dellwood', 'West Saint Paul', 'Crystal', 'Arden Hills', 'Roseville', 'Pine Springs', 'Newport', 'Hugo', 'Oak Park Heights', 'Ham Lake', 'Osseo', 'White Bear Lake', 'Centerville', 'Maple Grove', 'Mahtomedi', 'Lakeland', 'Saint Louis Park', 'Plymouth', 'Landfall', 'Gem Lake', 'Saint Anthony', 'Stillwater', 'Lilydale', 'Columbia Heights', 'North Saint Paul', 'Rogers', 'Lake Elmo', 'Lauderdale', 'Shoreview', 'Willernie', 'Long Lake', 'Mendota Heights', 'Lakeland Shores', 'South Saint Paul', 'Oakdale', 'Dayton', 'Corcoran', 'Bayport', 'Shorewood', 'Independence', 'Brooklyn Center', 'Medicine Lake', 'Albertville', 'Grant', 'Woodbury', 'Golden Valley', 'Forest Lake', 'Ramsey', 'Lake Saint Croix Beach', 'Spring Park', 'Sunfish Lake', 'Maple Plain', 'Mendota']\n",
      "Simulation17 for Year2021:['Minneapolis', 'Falcon Heights', 'Roseville']\n",
      "Simulation18 for Year2021:['Minneapolis', 'Saint Paul', 'Mendota', 'Landfall', 'Gem Lake', 'Edina', 'West Saint Paul', 'Lauderdale', 'Arden Hills', 'New Brighton', 'Vadnais Heights', 'Mounds View', 'Falcon Heights', 'Hopkins', 'Spring Lake Park', 'Roseville', 'Blaine', 'Lino Lakes', 'Bloomington', 'Mahtomedi', 'Maplewood', 'Saint Paul Park', 'Newport', 'Robbinsdale', 'Fridley', 'North Saint Paul', 'Hilltop', 'Circle Pines', 'Centerville', 'Brooklyn Park', 'North Oaks', 'White Bear Lake', 'Shoreview', 'Golden Valley', 'Deephaven', 'Excelsior', 'Oak Park Heights', 'Mendota Heights', 'Grant', 'Columbia Heights', 'Hugo', 'Richfield', 'Minnetonka', 'Chanhassen', 'Long Lake', 'Chaska', 'Coon Rapids', 'Birchwood Village', 'Plymouth', 'Lilydale', 'Willernie', 'Woodland', 'Pine Springs', 'New Hope', 'Little Canada', 'Sunfish Lake', 'Dellwood', 'Lake Elmo', 'Tonka Bay']\n",
      "Simulation19 for Year2021:['Minneapolis', 'Hopkins', 'Saint Paul', 'Little Canada', 'Vadnais Heights', 'Plymouth', 'Crystal', 'Hilltop', 'Circle Pines', 'Lauderdale', 'Golden Valley', 'Roseville', 'New Brighton', 'Wayzata', 'Shorewood', 'Mendota Heights', 'North Oaks', 'Shoreview', 'Columbia Heights', 'Gem Lake', 'Lexington', 'Robbinsdale', 'Richfield', 'Fridley', 'Lino Lakes', 'Centerville', 'Maplewood', 'Burnsville', 'Arden Hills', 'Lilydale', 'Oakdale']\n",
      "Simulation20 for Year2021:['Minneapolis', 'Robbinsdale', 'Fridley', 'Columbia Heights', 'Brooklyn Park', 'Anoka', 'New Brighton', 'Blaine', 'North Oaks', 'Vadnais Heights', 'Little Canada', 'Maplewood', 'Spring Lake Park', 'Champlin', 'North Saint Paul', 'Hilltop', 'Maple Grove', 'Plymouth', 'Osseo', 'Corcoran', 'Saint Louis Park', 'Arden Hills', 'Hugo', 'Landfall', 'Crystal', 'Golden Valley', 'Hopkins', 'Mounds View', 'Dayton', 'Roseville', 'Falcon Heights', 'Circle Pines', 'Dellwood', 'Birchwood Village', 'Gem Lake', 'Shoreview', 'South Saint Paul', 'Brooklyn Center', 'Woodbury', 'New Hope', 'Minnetonka', 'Willernie', 'White Bear Lake', 'Lauderdale', 'Grant', 'Bloomington', 'Saint Paul', 'Lino Lakes', 'Centerville', 'Medicine Lake', 'Edina', 'Sunfish Lake', 'Pine Springs', 'Stillwater', 'West Saint Paul', 'Mahtomedi', 'Loretto', 'Lake Elmo', 'Forest Lake', 'Lilydale', 'Mendota', 'Excelsior', 'Bayport', 'Lexington', 'Mendota Heights', 'Saint Paul Park']\n",
      "Simulation21 for Year2021:['Minneapolis', 'Lauderdale', 'Columbia Heights', 'Richfield', 'Arden Hills', 'Hilltop', 'Brooklyn Center', 'Saint Louis Park', 'Minnetonka', 'Eden Prairie', 'Little Canada', 'New Brighton', 'Excelsior', 'Shorewood', 'Hopkins', 'Shoreview', 'Blaine', 'Edina', 'Mendota Heights', 'Chanhassen', 'Woodland', 'Vadnais Heights', 'Centerville', 'Coon Rapids', 'New Hope', 'North Oaks', 'Champlin', 'Circle Pines', 'Falcon Heights', 'Robbinsdale', 'North Saint Paul', 'Saint Paul Park', 'Plymouth', 'Osseo', 'Dayton', 'Fridley', 'Deephaven', 'Crystal', 'Lino Lakes', 'Saint Anthony', 'Andover', 'Spring Lake Park', 'Orono', 'Wayzata', 'Tonka Bay', 'Chaska', 'Golden Valley', 'Saint Paul', 'Lilydale', 'Hugo', 'Columbus', 'Mounds View', 'Willernie', 'Dellwood', 'Birchwood Village', 'Roseville', 'Mound', 'Maplewood', 'Maple Grove', 'Cottage Grove', 'Lexington', 'Greenwood', 'Maple Plain']\n"
     ]
    },
    {
     "name": "stdout",
     "output_type": "stream",
     "text": [
      "Simulation22 for Year2021:['Minneapolis', 'Robbinsdale', 'Medicine Lake', 'Spring Lake Park', 'Brooklyn Park', 'Brooklyn Center', 'Golden Valley', 'Hilltop', 'New Hope', 'Lauderdale', 'Maple Grove', 'Plymouth', 'Arden Hills', 'Columbia Heights', 'Wayzata', 'Crystal', 'Champlin', 'Hopkins', 'New Brighton', 'Saint Louis Park', 'Saint Paul', 'Richfield', 'Mounds View', 'Minnetonka', 'Shorewood', 'White Bear Lake', 'Woodland', 'Edina', 'Osseo', 'Fridley', 'Deephaven', 'Greenwood', 'Vadnais Heights', 'Hugo', 'Lino Lakes']\n",
      "Simulation23 for Year2021:['Minneapolis', 'New Brighton', 'Lexington', 'Circle Pines', 'Brooklyn Center', 'Coon Rapids', 'Shoreview', 'Roseville', 'Fridley', 'Blaine', 'Lino Lakes', 'Arden Hills', 'Columbia Heights', 'Anoka', 'Mounds View', 'New Hope', 'North Oaks', 'Little Canada', 'Dellwood', 'Mahtomedi', 'Hilltop', 'Lauderdale', 'Golden Valley', 'Dayton', 'Rogers', 'White Bear Lake', 'Edina', 'Vadnais Heights', 'Mendota', 'Maplewood', 'Falcon Heights', 'Stillwater', 'North Saint Paul', 'Mendota Heights', 'Crystal', 'Plymouth', 'Birchwood Village', 'Bayport']\n",
      "Simulation24 for Year2021:['Minneapolis', 'Falcon Heights', 'Edina', 'Brooklyn Center', 'Saint Anthony', 'New Brighton', 'West Saint Paul', 'Gem Lake', 'Roseville', 'Lauderdale', 'Columbia Heights', 'Crystal', 'Newport', 'Hilltop', 'Lexington', 'Robbinsdale', 'Saint Louis Park', 'Eden Prairie', 'Little Canada', 'Dellwood', 'Shoreview', 'New Hope', 'Fridley', 'Pine Springs', 'Mounds View', 'Stillwater', 'Oak Park Heights', 'Bayport', 'Arden Hills', 'Coon Rapids', 'Plymouth', 'Woodbury', 'Lake Elmo', 'Blaine', 'Minnetonka', 'Lilydale', 'Vadnais Heights', 'Grant', 'Osseo', 'Maplewood', 'Saint Paul', 'Sunfish Lake', 'Wayzata', 'Mendota', 'North Saint Paul', 'Minnetonka Beach', 'Golden Valley', 'Bloomington', 'Mahtomedi', 'Cottage Grove', 'Saint Marys Point', 'North Oaks', 'Dayton', 'Woodland', 'Richfield', 'Circle Pines', 'South Saint Paul', 'Tonka Bay', 'Minnetrista', 'Hugo', 'Brooklyn Park', 'Hopkins', 'Maple Grove', 'Anoka', 'Afton', 'Saint Paul Park', 'Mound', 'Maple Plain', 'Greenwood', 'Spring Lake Park', 'White Bear Lake', 'Corcoran', 'Birchwood Village', 'Shorewood', 'Long Lake', 'Spring Park', 'Landfall', 'Oakdale', 'Medicine Lake', 'Inver Grove Heights', 'Deephaven', 'Lino Lakes']\n",
      "Simulation25 for Year2021:['Minneapolis', 'Hopkins', 'Richfield', 'Edina', 'Eden Prairie', 'New Hope', 'Excelsior', 'Woodland', 'Greenwood', 'Wayzata', 'Golden Valley', 'Plymouth', 'Brooklyn Center', 'Corcoran', 'Saint Louis Park']\n",
      "Simulation26 for Year2021:['Minneapolis', 'Mendota Heights', 'Fridley', 'Sunfish Lake', 'West Saint Paul', 'Eagan', 'Roseville', 'Medicine Lake', 'South Saint Paul', 'Newport', 'Lauderdale', 'Brooklyn Center', 'Inver Grove Heights', 'Columbia Heights', 'North Saint Paul', 'Champlin', 'Anoka', 'Little Canada', 'Mendota', 'Osseo', 'Lilydale', 'Falcon Heights', 'Shoreview', 'Maplewood', 'Saint Anthony', 'Hilltop', 'Lexington', 'Apple Valley', 'Spring Lake Park', 'Golden Valley', 'Blaine', 'Arden Hills', 'Edina', 'Mahtomedi', 'Vadnais Heights', 'Rogers', 'Saint Paul Park', 'Mounds View']\n",
      "Simulation27 for Year2021:['Minneapolis', 'Crystal', 'Brooklyn Center', 'Saint Paul', 'Maplewood', 'Maple Grove', 'New Brighton', 'Spring Lake Park', 'Lauderdale', 'Champlin', 'Robbinsdale', 'Little Canada', 'Pine Springs', 'Edina', 'Shoreview', 'Lake Elmo', 'Gem Lake', 'Hilltop', 'Roseville', 'Willernie', 'Fridley', 'Lakeland', 'Dellwood', 'Falcon Heights', 'Golden Valley', 'Mendota Heights', 'Mahtomedi', 'Rogers', 'South Saint Paul', 'Columbia Heights', 'Vadnais Heights', 'North Oaks', 'Lilydale', 'West Saint Paul', 'Sunfish Lake', 'Landfall', 'Inver Grove Heights', 'Lexington', 'Osseo', 'Medicine Lake', 'Brooklyn Park', 'Lakeland Shores', 'Stillwater', 'Newport', 'Oak Park Heights', 'Grant', 'Mendota']\n",
      "Simulation28 for Year2021:['Minneapolis', 'Golden Valley', 'Saint Louis Park', 'Hopkins', 'Shorewood', 'Richfield', 'Mound', 'Wayzata', 'Woodland', 'Tonka Bay', 'Long Lake', 'Eden Prairie', 'Excelsior', 'Greenwood', 'Crystal', 'Deephaven', 'New Hope', 'Plymouth', 'Medina', 'Minnetonka', 'Spring Park', 'Orono', 'Shakopee', 'Saint Paul', 'Brooklyn Park', 'Edina', 'Robbinsdale', 'Roseville', 'Vadnais Heights', 'Saint Bonifacius', 'Loretto', 'Mahtomedi', 'Dayton', 'Maple Grove', 'Andover', 'Savage', 'Willernie', 'Medicine Lake', 'Minnetrista', 'Corcoran', 'Arden Hills', 'Fridley', 'South Saint Paul', 'Circle Pines', 'Little Canada']\n",
      "Simulation29 for Year2021:['Minneapolis', 'Columbia Heights', 'Mendota Heights', 'Falcon Heights', 'Golden Valley', 'Vadnais Heights', 'North Oaks', 'Richfield', 'Little Canada', 'Centerville', 'Hugo', 'Mahtomedi', 'Arden Hills', 'New Brighton', 'Crystal', 'Maplewood', 'Birchwood Village', 'Woodbury', 'Lino Lakes', 'Willernie', 'Spring Lake Park', 'Stillwater', 'Lake Saint Croix Beach', 'North Saint Paul', 'Mounds View', 'Brooklyn Center', 'Lakeland', 'Shoreview', 'Oakdale', 'Saint Paul', 'Mendota', 'West Saint Paul', 'Saint Louis Park', 'Roseville', 'Circle Pines', 'Wayzata', 'Champlin', 'Loretto', 'Saint Marys Point', 'Blaine', 'Dellwood', 'Robbinsdale', 'Brooklyn Park', 'Newport', 'Eagan', 'Lexington', 'Gem Lake', 'Hilltop', 'Fridley', 'New Hope', 'Oak Park Heights', 'Woodland', 'Lake Elmo', 'Minnetonka', 'Plymouth', 'Pine Springs', 'Saint Anthony', 'Bloomington', 'Osseo', 'Ham Lake', 'Lilydale', 'Excelsior', 'Saint Paul Park', 'Sunfish Lake', 'Dayton', 'Long Lake', 'Maple Grove', 'Hopkins', 'Corcoran', 'Coon Rapids', 'Medicine Lake']\n",
      "Simulation30 for Year2021:['Minneapolis', 'Mendota Heights', 'Robbinsdale', 'Mendota', 'New Hope', 'Wayzata', 'Medicine Lake', 'Spring Park', 'Mound', 'Falcon Heights', 'Edina', 'Brooklyn Park', 'Osseo', 'Victoria', 'Coon Rapids', 'Plymouth', 'Lexington', 'Saint Louis Park', 'Lilydale', 'Inver Grove Heights', 'Golden Valley', 'Hopkins', 'Saint Anthony', 'Brooklyn Center', 'Corcoran', 'Bloomington', 'Woodland', 'Maple Plain', 'Excelsior']\n",
      "Simulation31 for Year2021:['Minneapolis', 'New Hope', 'Crystal', 'Hopkins', 'Saint Louis Park', 'Woodland', 'Plymouth', 'Fridley', 'Blaine', 'Medina', 'Mound', 'Edina', 'Brooklyn Park', 'Hilltop', 'Brooklyn Center', 'Spring Lake Park', 'Golden Valley', 'Wayzata', 'Greenfield', 'Long Lake', 'Corcoran', 'Mounds View', 'North Oaks', 'Orono', 'Ham Lake', 'New Brighton', 'Rockford', 'Lauderdale', 'Richfield', 'Falcon Heights', 'Deephaven', 'Robbinsdale', 'Spring Park', 'Minnetonka', 'Victoria', 'Eden Prairie', 'Shorewood', 'Greenwood', 'Waconia', 'Medicine Lake']\n",
      "Simulation32 for Year2021:['Minneapolis', 'Hilltop', 'Arden Hills', 'Spring Lake Park', 'Little Canada', 'Saint Paul', 'Robbinsdale', 'Crystal', 'Brooklyn Center', 'Oakdale', 'North Oaks', 'Columbia Heights', 'Circle Pines', 'Shoreview', 'Saint Louis Park', 'Fridley', 'Golden Valley', 'Hopkins', 'Mahtomedi', 'Falcon Heights', 'North Saint Paul', 'Roseville', 'Centerville', 'Blaine', 'New Brighton', 'Gem Lake', 'Coon Rapids', 'New Hope', 'Deephaven', 'Vadnais Heights', 'Lake Elmo', 'Osseo', 'Maple Grove', 'Plymouth', 'Eden Prairie', 'Mendota', 'Landfall', 'Birchwood Village', 'Maplewood', 'Lexington', 'Mounds View', 'Brooklyn Park', 'Pine Springs', 'Afton', 'Dayton', 'Corcoran', 'Edina', 'Lauderdale', 'Hugo', 'Woodbury', 'Stillwater', 'Minnetonka', 'Lakeland', 'Lake Saint Croix Beach', 'Dellwood', 'Champlin', 'Rockford', 'Minnetonka Beach', 'Wayzata', 'White Bear Lake', 'Lilydale', 'Richfield', 'Spring Park', 'Long Lake', 'Chaska', 'West Saint Paul', 'Oak Park Heights', 'Mendota Heights', 'Woodland', 'Sunfish Lake', 'Lino Lakes', 'Inver Grove Heights', 'Mound', 'Newport', 'Lakeland Shores']\n",
      "Simulation33 for Year2021:['Minneapolis', 'Falcon Heights', 'Saint Louis Park', 'Plymouth', 'Lauderdale', 'Roseville', 'Columbia Heights', 'Medicine Lake', 'Little Canada', 'Mendota', 'Lilydale', 'Golden Valley', 'Eden Prairie', 'Fridley', 'Woodland', 'West Saint Paul', 'Long Lake', 'New Hope', 'Deephaven', 'Hopkins', 'Brooklyn Center']\n",
      "Simulation34 for Year2021:['Minneapolis', 'Golden Valley', 'Mendota', 'Inver Grove Heights', 'Lilydale', 'Mendota Heights', 'West Saint Paul', 'Lauderdale', 'Brooklyn Center', 'Hilltop', 'Lexington', 'Richfield', 'Roseville', 'New Brighton', 'Columbia Heights', 'Little Canada', 'Fridley', 'Shoreview', 'Newport', 'Arden Hills', 'North Oaks', 'Coon Rapids', 'South Saint Paul', 'Hopkins', 'Robbinsdale', 'New Hope', 'Saint Paul Park', 'Crystal', 'Bloomington', 'Blaine', 'Medicine Lake', 'Minnetonka', 'Dellwood', 'Willernie', 'Mounds View']\n",
      "Simulation35 for Year2021:['Minneapolis', 'Columbia Heights', 'Mendota', 'Shoreview', 'Roseville', 'Falcon Heights', 'Vadnais Heights', 'Saint Paul', 'Lilydale', 'Oakdale', 'New Brighton', 'Landfall', 'Willernie', 'Woodbury', 'Newport', 'North Oaks', 'North Saint Paul', 'Pine Springs', 'Grant', 'Oak Park Heights', 'Hugo', 'Lake Elmo', 'Blaine', 'Stillwater', 'Maplewood', 'Birchwood Village', 'Mahtomedi', 'Sunfish Lake', 'Richfield', 'Gem Lake', 'West Saint Paul', 'Arden Hills', 'White Bear Lake', 'Dellwood', 'South Saint Paul', 'Saint Paul Park', 'Robbinsdale', 'New Hope', 'Lake Saint Croix Beach', 'Saint Marys Point', 'Spring Lake Park', 'Inver Grove Heights', 'Mendota Heights', 'Mounds View']\n",
      "Simulation36 for Year2021:['Minneapolis', 'Roseville', 'Saint Louis Park', 'Robbinsdale', 'Columbia Heights', 'Crystal', 'Hopkins', 'New Hope', 'Fridley', 'Brooklyn Park', 'Maple Grove', 'Arden Hills', 'Brooklyn Center', 'Anoka', 'Mendota', 'Golden Valley', 'Shoreview', 'Lexington', 'Vadnais Heights', 'Falcon Heights', 'New Brighton', 'Coon Rapids', 'Blaine', 'Mounds View', 'Circle Pines', 'Inver Grove Heights', 'Little Canada', 'Gem Lake', 'Richfield', 'Woodland', 'Saint Paul', 'Ham Lake', 'Mahtomedi', 'Hugo', 'Saint Paul Park', 'Sunfish Lake', 'Lilydale', 'Newport', 'Mendota Heights', 'Wayzata', 'Lauderdale', 'Osseo', 'Spring Lake Park', 'West Saint Paul', 'Oakdale', 'Deephaven', 'Tonka Bay', 'Chanhassen']\n",
      "Simulation37 for Year2021:['Minneapolis', 'Columbia Heights', 'Hilltop', 'Edina', 'New Brighton', 'Arden Hills', 'Crystal', 'New Hope', 'Spring Lake Park', 'Lauderdale', 'Minnetonka', 'North Oaks', 'Lexington', 'Brooklyn Center', 'Ham Lake', 'Roseville', 'Fridley', 'Osseo', 'Blaine', 'Robbinsdale', 'Falcon Heights', 'Golden Valley', 'Coon Rapids', 'Brooklyn Park', 'Little Canada', 'Vadnais Heights', 'White Bear Lake', 'Dellwood', 'Mahtomedi', 'Hugo', 'Saint Louis Park', 'Minnetonka Beach', 'Long Lake', 'Gem Lake', 'Plymouth', 'Saint Paul', 'Woodland', 'South Saint Paul', 'Spring Park']\n",
      "Simulation38 for Year2021:['Minneapolis', 'Saint Paul', 'Mendota Heights', 'Roseville', 'Gem Lake', 'North Oaks', 'South Saint Paul', 'Lexington', 'Mounds View', 'Fridley', 'Falcon Heights', 'Mendota', 'New Brighton', 'Blaine', 'Pine Springs', 'Lino Lakes', 'Lake Elmo', 'Afton', 'Shoreview', 'Medicine Lake', 'Dellwood', 'Landfall', 'Lilydale', 'Little Canada', 'Vadnais Heights', 'West Saint Paul', 'Robbinsdale', 'Grant', 'Mahtomedi', 'Newport', 'Spring Lake Park', 'Brooklyn Park', 'Sunfish Lake', 'Maple Grove', 'Lauderdale', 'Circle Pines', 'Eagan', 'Hilltop', 'Champlin', 'Oakdale', 'Columbia Heights', 'Crystal', 'Golden Valley', 'Arden Hills', 'Osseo', 'Long Lake', 'Brooklyn Center', 'North Saint Paul', 'Plymouth']\n",
      "Simulation39 for Year2021:['Minneapolis', 'Edina', 'Brooklyn Center', 'Fridley', 'Brooklyn Park', 'Coon Rapids', 'Spring Lake Park', 'Columbia Heights', 'New Brighton', 'New Hope', 'Hopkins', 'Crystal', 'Shoreview', 'Deephaven', 'Lino Lakes', 'Hilltop', 'Champlin', 'Lexington', 'North Oaks', 'Saint Anthony', 'Bloomington', 'Robbinsdale', 'Blaine', 'Mahtomedi', 'Circle Pines', 'Arden Hills', 'Falcon Heights', 'Medina', 'Mounds View', 'Golden Valley', 'Lauderdale', 'Mendota Heights', 'Ham Lake', 'Grant', 'Stillwater', 'Centerville', 'Richfield', 'Lilydale', 'Osseo', 'Mendota', 'Maplewood', 'Greenwood', 'Maple Grove', 'White Bear Lake', 'Eagan', 'Anoka', 'Birchwood Village', 'Willernie', 'North Saint Paul']\n",
      "Simulation40 for Year2021:['Minneapolis', 'Crystal', 'Mendota Heights', 'West Saint Paul', 'Saint Paul', 'Saint Paul Park', 'Hopkins', 'Eagan', 'Columbia Heights', 'Minnetonka', 'New Hope', 'Robbinsdale', 'Newport', 'Woodland', 'Chanhassen', 'Spring Park', 'Inver Grove Heights', 'Deephaven', 'Chaska', 'Plymouth', 'Maple Plain', 'Eden Prairie', 'Wayzata', 'Greenwood', 'Arden Hills', 'Saint Louis Park', 'Saint Anthony', 'Lauderdale', 'Rosemount', 'Richfield', 'Excelsior', 'Coates', 'Tonka Bay', 'Shorewood', 'Sunfish Lake', 'Roseville', 'Osseo', 'Cottage Grove', 'Medina', 'Long Lake', 'Mound', 'New Brighton', 'Brooklyn Center', 'Maple Grove', 'Shakopee', 'Orono', 'Dayton', 'Minnetonka Beach', 'Victoria', 'Loretto', 'Minnetrista', 'Maplewood', 'Mendota', 'North Saint Paul', 'Golden Valley', 'Shoreview', 'Vadnais Heights', 'Hilltop', 'South Saint Paul', 'Greenfield', 'Fridley', 'Edina', 'Spring Lake Park', 'Bloomington', 'Lilydale', 'Independence', 'Pine Springs', 'Oakdale', 'Waconia', 'Norwood Young America']\n",
      "Simulation41 for Year2021:['Minneapolis', 'Mendota', 'Sunfish Lake', 'Robbinsdale', 'Brooklyn Center', 'Landfall', 'Saint Anthony', 'Lauderdale', 'Lilydale', 'Newport', 'Cottage Grove', 'Golden Valley', 'Mounds View', 'Falcon Heights', 'Little Canada', 'Fridley', 'Pine Springs', 'Mendota Heights', 'Hilltop', 'Roseville', 'Willernie', 'North Oaks', 'Brooklyn Park', 'Maple Grove', 'Osseo', 'Vadnais Heights', 'Shoreview', 'New Hope', 'Oakdale', 'Afton', 'Maplewood', 'Bloomington', 'Lexington', 'Birchwood Village', 'North Saint Paul', 'White Bear Lake', 'Gem Lake', 'Circle Pines', 'Spring Lake Park', 'Lino Lakes', 'Centerville', 'Dellwood', 'Inver Grove Heights', 'Mahtomedi', 'Saint Louis Park', 'Dayton', 'Rogers', 'Arden Hills', 'Saint Paul', 'South Saint Paul', 'Eagan', 'Edina', 'Woodbury', 'Crystal']\n",
      "Simulation42 for Year2021:['Minneapolis', 'Hopkins', 'Richfield', 'Eagan', 'Deephaven', 'Minnetonka', 'Long Lake', 'Mound', 'Minnetonka Beach', 'Lauderdale', 'Excelsior', 'Orono', 'Woodland', 'Chanhassen', 'Victoria', 'Edina', 'Hilltop', 'Spring Park', 'Mendota', 'Mendota Heights', 'Eden Prairie', 'Medicine Lake', 'New Hope', 'New Brighton', 'Arden Hills', 'Little Canada', 'Pine Springs', 'Greenwood', 'Plymouth', 'Saint Louis Park', 'Bloomington', 'Blaine', 'Medina', 'Independence', 'Stillwater', 'Golden Valley', 'Saint Anthony', 'Brooklyn Park', 'Anoka', 'Loretto']\n",
      "Simulation43 for Year2021:['Minneapolis', 'New Hope', 'Falcon Heights', 'Edina', 'Mendota Heights', 'Crystal', 'Brooklyn Park', 'Hopkins', 'Saint Louis Park', 'Excelsior', 'Hilltop', 'Medicine Lake', 'Lauderdale', 'Spring Lake Park', 'New Brighton', 'Deephaven', 'Orono', 'Eden Prairie', 'Robbinsdale', 'Fridley', 'Shoreview', 'Blaine', 'Little Canada', 'Circle Pines', 'Plymouth', 'Maple Grove', 'Mounds View', 'Golden Valley', 'Wayzata', 'Columbia Heights', 'Minnetonka', 'Victoria', 'Brooklyn Center', 'Bloomington', 'Mahtomedi', 'Long Lake', 'Minnetrista', 'Arden Hills', 'Chaska', 'Shorewood', 'Saint Bonifacius', 'Chanhassen']\n",
      "Simulation44 for Year2021:['Minneapolis', 'Columbia Heights', 'Mendota', 'Roseville', 'New Hope', 'Brooklyn Center', 'Crystal', 'Spring Lake Park', 'Maple Grove', 'Saint Louis Park', 'Falcon Heights', 'Osseo', 'Mounds View', 'Coon Rapids', 'Fridley', 'Circle Pines', 'New Brighton', 'Bloomington', 'Lauderdale', 'Hilltop', 'Edina', 'Robbinsdale', 'Little Canada', 'Ham Lake', 'Arden Hills', 'Lexington', 'Saint Paul', 'Plymouth', 'Minnetonka Beach', 'Shoreview', 'Centerville', 'Gem Lake', 'Blaine', 'Mendota Heights', 'Victoria', 'White Bear Lake', 'Deephaven', 'Landfall']\n"
     ]
    },
    {
     "name": "stdout",
     "output_type": "stream",
     "text": [
      "Simulation45 for Year2021:['Minneapolis', 'Hilltop', 'Mendota', 'Columbia Heights', 'Lilydale', 'Newport', 'Medicine Lake', 'West Saint Paul', 'Shoreview', 'Vadnais Heights', 'Mendota Heights', 'New Hope', 'Inver Grove Heights', 'Maple Grove', 'Hopkins', 'Saint Paul Park', 'Coates', 'Lino Lakes', 'Birchwood Village', 'Mahtomedi', 'North Saint Paul', 'White Bear Lake', 'Brooklyn Park', 'Landfall', 'Blaine', 'Mounds View', 'Ham Lake', 'Corcoran', 'Crystal', 'Brooklyn Center', 'Eagan', 'Saint Paul', 'Arden Hills', 'Lauderdale', 'Grant', 'Woodbury', 'Maplewood', 'Sunfish Lake', 'Cottage Grove', 'Roseville', 'Falcon Heights', 'Spring Lake Park', 'Golden Valley', 'Rockford', 'New Brighton', 'Wayzata', 'Richfield', 'South Saint Paul', 'Stillwater', 'Bloomington', 'Fridley', 'Little Canada', 'Oakdale', 'Lexington', 'Minnetonka Beach', 'Spring Park', 'Centerville', 'Lake Saint Croix Beach', 'Apple Valley', 'Dellwood', 'Lake Elmo', 'East Bethel', 'Greenwood', 'Lakeland Shores', 'North Oaks', 'Gem Lake', 'Greenfield', 'Loretto', 'Victoria', 'Mound', 'Waconia', 'Long Lake', 'Shorewood', 'Hugo']\n",
      "Simulation46 for Year2021:['Minneapolis', 'Hilltop', 'Lexington', 'Blaine', 'North Oaks', 'New Brighton', 'Columbia Heights', 'New Hope', 'Fridley', 'Gem Lake', 'Arden Hills', 'Birchwood Village', 'Little Canada', 'Shoreview', 'Brooklyn Park', 'Crystal', 'Coon Rapids', 'Osseo', 'Pine Springs', 'Mendota Heights', 'Maple Grove', 'Plymouth', 'Dellwood', 'Vadnais Heights', 'Centerville', 'Anoka', 'Andover', 'Dayton', 'Hugo', 'Circle Pines', 'Mendota', 'Lilydale', 'Lauderdale', 'Robbinsdale', 'Mahtomedi', 'Medicine Lake', 'Saint Anthony', 'Brooklyn Center', 'Rogers', 'Lino Lakes', 'Oakdale', 'Maplewood', 'Saint Paul', 'Inver Grove Heights', 'Woodbury', 'Hopkins', 'Saint Louis Park', 'North Saint Paul', 'Spring Lake Park', 'Champlin', 'South Saint Paul', 'Newport', 'Saint Paul Park', 'Cottage Grove', 'Lakeland Shores', 'Roseville', 'Mounds View', 'Hastings', 'Lake Elmo', 'Grant', 'Vermillion', 'Sunfish Lake', 'Richfield', 'Minnetonka', 'Landfall', 'Saint Marys Point']\n",
      "Simulation47 for Year2021:['Minneapolis', 'Brooklyn Center', 'Lilydale', 'Eagan', 'Maplewood', 'Little Canada', 'White Bear Lake', 'Pine Springs', 'Richfield', 'Hugo', 'Burnsville', 'Birchwood Village', 'North Saint Paul', 'Lake Elmo', 'Woodbury', 'Hilltop', 'Oakdale', 'Shoreview', 'Lakeland Shores', 'Spring Lake Park', 'Maple Grove', 'Lakeville', 'Lake Saint Croix Beach', 'West Saint Paul', 'Falcon Heights', 'Vadnais Heights', 'Mounds View', 'Roseville', 'Grant', 'Columbia Heights', 'Arden Hills', 'Fridley', 'Circle Pines', 'Centerville', 'Corcoran', 'Hopkins', 'Landfall', 'Saint Paul', 'Mendota', 'Lauderdale', 'Lexington', 'Gem Lake']\n",
      "Simulation48 for Year2021:['Minneapolis', 'Mendota', 'Roseville', 'Hopkins', 'Brooklyn Center', 'Medicine Lake', 'West Saint Paul', 'Saint Paul Park', 'Shorewood', 'Brooklyn Park', 'Sunfish Lake', 'South Saint Paul', 'Inver Grove Heights', 'Lauderdale', 'Saint Bonifacius', 'Mendota Heights', 'Oakdale', 'Little Canada', 'Hilltop', 'Dayton', 'Corcoran', 'Richfield', 'White Bear Lake', 'Fridley', 'North Oaks', 'Hanover', 'Osseo', 'Coon Rapids', 'Shoreview', 'Plymouth', 'Circle Pines', 'Woodland', 'New Brighton', 'Saint Paul', 'Lexington', 'Dellwood', 'Crystal', 'Eagan', 'North Saint Paul', 'Tonka Bay', 'Orono', 'Blaine', 'Ham Lake', 'Columbia Heights', 'Oak Grove', 'Saint Louis Park', 'Newport', 'Mahtomedi', 'Gem Lake', 'Deephaven', 'Spring Lake Park', 'Mound', 'Independence', 'Vadnais Heights', 'Minnetonka Beach', 'Wayzata', 'Maplewood', 'Lilydale', 'Minnetonka', 'Maple Plain', 'Chanhassen']\n",
      "Simulation49 for Year2021:['Minneapolis', 'Saint Louis Park', 'Robbinsdale', 'Crystal', 'Deephaven', 'Maple Grove', 'Richfield', 'Roseville', 'Fridley', 'Plymouth', 'Hopkins', 'Excelsior', 'Edina', 'Golden Valley', 'Saint Paul', 'Mounds View', 'Woodland', 'Minnetonka Beach', 'Lauderdale', 'Wayzata', 'Mendota Heights', 'Mound', 'Maple Plain', 'Independence', 'Minnetrista', 'Victoria', 'New Brighton', 'Mendota', 'Columbia Heights', 'North Oaks', 'Bloomington', 'South Saint Paul', 'Greenwood', 'Medicine Lake']\n"
     ]
    }
   ],
   "source": [
    "# Read values from field\n",
    "distance_values = []\n",
    "with arcpy.da.SearchCursor(\"City_FromToTable_Final\", [\"NEAR_DIST\"]) as cursor:\n",
    "    for row in cursor:\n",
    "        if row[0] is not None:\n",
    "            distance_values.append(row[0])\n",
    "\n",
    "# Calculate the 1st quantile\n",
    "distance_threhold = np.quantile(distance_values, 0.005)\n",
    "\n",
    "for i in range(0,50):\n",
    "    PresenceCity = simulation(\"City_FromToTable_Final\",\"City_Sim\",method = 'MC',\n",
    "                              seed = 'Minneapolis',num_year = 6,G = None,i = i)\n",
    "    \n",
    "    PresenceCity = prediction(\"City_FromToTable_Final\",\"City_Pred2022\",method = 'MC',PresenceCity = PresenceCity, G = None,i = i)\n",
    "    PresenceCity = prediction(\"City_FromToTable_Final\",\"City_Pred2023\",method = 'MC',PresenceCity = PresenceCity, G = None,i = i)\n",
    "    PresenceCity = prediction(\"City_FromToTable_Final\",\"City_Pred2024\",method = 'MC',PresenceCity = PresenceCity, G = None,i = i)"
   ]
  },
  {
   "cell_type": "code",
   "execution_count": 39,
   "metadata": {},
   "outputs": [
    {
     "data": {
      "text/html": [
       "<div class='gpresult'><h2>Messages</h2><div id='messages' data-messages='[\"Start Time: Sunday, April 30, 2023 6:56:50 PM\",\"Succeeded at Sunday, April 30, 2023 6:56:53 PM (Elapsed Time: 3.34 seconds)\"]' data-show='true'><div id = 'default' /></div></div>"
      ],
      "text/plain": [
       "<Result 'City_Pred2024'>"
      ]
     },
     "execution_count": 39,
     "metadata": {},
     "output_type": "execute_result"
    }
   ],
   "source": [
    "#get the simulation final prediction\n",
    "arcpy.management.AddField(\"City_Sim\", f\"Sim_MC\", \"SHORT\")\n",
    "arcpy.management.AddField(\"City_Pred2022\", f\"Pred_MC\", \"SHORT\")\n",
    "arcpy.management.AddField(\"City_Pred2023\", f\"Pred_MC\", \"SHORT\")\n",
    "arcpy.management.AddField(\"City_Pred2024\", f\"Pred_MC\", \"SHORT\")\n",
    "\n",
    "final_result(\"City_Sim\",method = 'MC')        \n",
    "#delete unnecessary columns\n",
    "arcpy.management.DeleteField(\"City_Sim\", \"CITY_NAME;POPULATION;Sim_MC\", \"KEEP_FIELDS\")\n",
    "\n",
    "final_result(\"City_Pred2022\",method = 'MC')\n",
    "#delete unnecessary columns\n",
    "arcpy.management.DeleteField(\"City_Pred2022\", \"CITY_NAME;POPULATION;Pred_MC\", \"KEEP_FIELDS\")\n",
    "\n",
    "final_result(\"City_Pred2023\",method = 'MC')\n",
    "#delete unnecessary columns\n",
    "arcpy.management.DeleteField(\"City_Pred2023\", \"CITY_NAME;POPULATION;Pred_MC\", \"KEEP_FIELDS\")\n",
    "\n",
    "final_result(\"City_Pred2024\",method = 'MC')\n",
    "#delete unnecessary columns\n",
    "arcpy.management.DeleteField(\"City_Pred2024\", \"CITY_NAME;POPULATION;Pred_MC\", \"KEEP_FIELDS\")"
   ]
  },
  {
   "cell_type": "markdown",
   "metadata": {},
   "source": [
    "### Gravity Model - Pop & Dist"
   ]
  },
  {
   "cell_type": "code",
   "execution_count": 40,
   "metadata": {},
   "outputs": [],
   "source": [
    "# adds probability column to near table\n",
    "arcpy.management.AddField(\"City_FromToTable_Final\", \"Probability_G\", \"DOUBLE\")\n",
    "\n",
    "#Calculates probability of each pair transition\n",
    "alpha = 1.5\n",
    "\n",
    "with arcpy.da.SearchCursor(\"City_FromToTable_Final\",\"*\") as cursor:\n",
    "    total_sum = sum(((row[5] * row[7])/(row[3]**alpha)) for row in cursor)\n",
    "with arcpy.da.UpdateCursor(\"City_FromToTable_Final\",\"*\") as cursor:\n",
    "    for row in cursor:\n",
    "        row[10] = (row[5] * row[7])/(row[3]**alpha)/total_sum\n",
    "        cursor.updateRow(row)\n",
    "del cursor"
   ]
  },
  {
   "cell_type": "code",
   "execution_count": 41,
   "metadata": {},
   "outputs": [
    {
     "name": "stdout",
     "output_type": "stream",
     "text": [
      "Simulation0 for Year2021:['Minneapolis', 'Saint Paul', 'Plymouth', 'Blaine', 'Coon Rapids', 'Rockford', 'Owatonna', 'Crystal', 'Richfield', 'Oakdale', 'Golden Valley', 'Waconia', 'New Hope', 'Lakeville', 'Stillwater', 'Columbia Heights', 'Savage', 'Kerkhoven', 'Brooklyn Center', 'Bloomington', 'Mounds View', 'South Saint Paul', 'Burnsville', 'Inver Grove Heights', 'Roseville', 'Saint Michael', 'Edina', 'Fridley', 'Minnetonka', 'New Brighton', 'Elk River', 'Saint Louis Park', 'West Saint Paul', 'Brooklyn Park', 'Oak Park Heights', 'North Saint Paul', 'Woodbury', 'Shoreview', 'Annandale', 'Deephaven', 'Chanhassen', 'Austin', 'Maple Grove', 'Oak Grove']\n",
      "Simulation1 for Year2021:['Minneapolis', 'Edina', 'Saint Paul', 'Eden Prairie', 'Sauk Rapids', 'Maplewood', 'Eagan', 'Fridley', 'Bloomington', 'Chaska', 'North Saint Paul', 'Apple Valley', 'Burnsville', 'Lexington', 'Rosemount', 'Brooklyn Center', 'Roseville', 'Savage', 'Shakopee', 'Coon Rapids', 'Northfield', 'Hastings', 'Champlin', 'Lino Lakes', 'Saint Louis Park', 'Lakeville', 'Farmington', 'Chanhassen', 'Blaine', 'Golden Valley', 'West Saint Paul', 'New Brighton', 'Spring Lake Park']\n",
      "Simulation2 for Year2021:['Minneapolis', 'Saint Louis Park', 'New Brighton', 'Richfield', 'Saint Paul', 'Plymouth', 'Lakeville', 'South Saint Paul', 'Shakopee', 'Lake City', 'Fridley', 'Cottage Grove', 'Eden Prairie', 'West Saint Paul', 'New Hope', 'Oakdale', 'Inver Grove Heights', 'Faribault', 'Golden Valley', 'Mendota Heights', 'Minnetonka', 'White Bear Lake', 'Burnsville', 'Maple Grove', 'Prior Lake', 'Savage', 'Waconia', 'Bloomington', 'Roseville', 'Brooklyn Park', 'Coon Rapids', 'Crystal', 'Saint Cloud', 'Hopkins', 'Maplewood', 'Blaine', 'Maple Lake', 'Brooklyn Center', 'Ramsey', 'Champlin', 'Stillwater', 'Chanhassen']\n",
      "Simulation3 for Year2021:['Minneapolis', 'Saint Paul', 'Sunfish Lake', 'Eden Prairie', 'North Oaks', 'Lakeville', 'White Bear Lake', 'Bloomington', 'Champlin', 'Andover', 'Duluth', 'Saint Louis Park', 'Plymouth', 'Cottage Grove', 'South Saint Paul', 'New Brighton', 'Maplewood', 'Roseville', 'Burnsville', 'Edina', 'Brooklyn Park', 'Inver Grove Heights', 'Columbia Heights', 'Minnetonka', 'Crystal', 'Shorewood', 'Apple Valley', 'Robbinsdale', 'Spring Lake Park', 'Maple Grove', 'Eagan', 'Blaine', 'Woodbury', 'Shakopee', 'Coon Rapids', 'Shoreview', 'Hopkins', 'Brooklyn Center', 'West Saint Paul', 'Prior Lake']\n",
      "Simulation4 for Year2021:['Minneapolis', 'Saint Louis Park', 'Saint Paul', 'Burnsville', 'White Bear Lake', 'New Brighton', 'Columbia Heights', 'Richfield', 'Goodview', 'Hopkins', 'Minnetonka', 'Robbinsdale', 'Plymouth', 'Coon Rapids', 'New Hope', 'North Saint Paul', 'Owatonna', 'Hilltop', 'Roseville', 'Brooklyn Center', 'Bloomington', 'Rogers', 'Maplewood', 'Saint Paul Park', 'Blaine', 'Ramsey', 'Maple Grove', 'Brooklyn Park', 'Eagan', 'Golden Valley', 'Willernie', 'Stillwater', 'Medina', 'Apple Valley', 'Eden Prairie', 'Otsego', 'Mankato', 'Rochester', 'Edina', 'Mounds View']\n",
      "Simulation5 for Year2021:['Minneapolis', 'Saint Paul', 'Bloomington', 'Little Canada', 'Maple Grove', 'Landfall', 'Ramsey', 'South Saint Paul', 'Roseville', 'Eagan', 'Saint Louis Park', 'Burnsville', 'Woodbury', 'Lake Elmo', 'Faribault', 'Robbinsdale', 'Hugo', 'Forest Lake', 'Shoreview', 'Mahtomedi', 'Brooklyn Park', 'Saint Cloud', 'Hopkins', 'Hastings', 'Cottage Grove', 'Eden Prairie', 'Shakopee', 'New Brighton', 'Apple Valley', 'Golden Valley', 'Brooklyn Center', 'Columbia Heights', 'Lino Lakes', 'Owatonna', 'Northfield', 'North Mankato', 'West Saint Paul', 'Chaska', 'Isanti', 'Rochester', 'Victoria', 'Maplewood', 'Inver Grove Heights', 'Lakeville', 'Princeton', 'Rogers', 'Hanover', 'Newport']\n",
      "Simulation6 for Year2021:['Minneapolis', 'Saint Louis Park', 'Bloomington', 'Maple Grove', 'Blaine', 'Apple Valley', 'Roseville', 'Burnsville', 'Lakeland', 'New Brighton', 'Saint Paul', 'Plymouth', 'Spring Lake Park', 'White Bear Lake', 'Becker', 'Shorewood', 'South Saint Paul', 'Columbia Heights', 'Cottage Grove', 'Edina', 'Oakdale', 'Saint Cloud', 'Richfield', 'Brooklyn Center', 'New Hope', 'Little Canada', 'Brooklyn Park', 'Eagan', 'Corcoran', 'Shoreview', 'Minnetonka', 'Vadnais Heights', 'Waconia', 'Chaska', 'Hopkins', 'Robbinsdale', 'Crystal', 'Savage', 'Woodbury', 'Albert Lea', 'Inver Grove Heights', 'Anoka', 'Mendota Heights', 'Shakopee', 'Cannon Falls', 'Maplewood', 'Hilltop', 'West Saint Paul', 'East Bethel', 'Waite Park', 'Rosemount']\n",
      "Simulation7 for Year2021:['Minneapolis', 'Brooklyn Center', 'New Brighton', 'Bloomington', 'Minnetonka', 'Rosemount', 'Carver', 'Golden Valley', 'Richfield', 'Saint Paul', 'Eagan', 'Maple Grove', 'Mankato', 'Edina', 'White Bear Lake', 'Oak Park Heights', 'Vadnais Heights', 'Wayzata', 'Hopkins', 'Crystal', 'Albertville', 'West Saint Paul', 'Blaine', 'Lino Lakes', 'Falcon Heights', 'Apple Valley', 'Roseville', 'Lauderdale', 'Brooklyn Park', 'New Ulm', 'Ramsey', 'Plymouth', 'Burnsville', 'Cottage Grove', 'Lakeville', 'Inver Grove Heights', 'Woodbury', 'North Oaks', 'Eden Prairie', 'Arden Hills', 'Bethel', 'South Saint Paul', 'Champlin', 'Chanhassen', 'Shorewood', 'Prior Lake']\n",
      "Simulation8 for Year2021:['Minneapolis', 'Columbia Heights', 'Saint Paul', 'Fridley', 'Brooklyn Park', 'Forest Lake', 'Rochester', 'Maplewood', 'Roseville', 'Little Canada', 'Eagan', 'Coon Rapids', 'Lonsdale', 'Bemidji', 'Blaine', 'Oak Park Heights', 'Robbinsdale', 'Brooklyn Center', 'New Brighton', 'Duluth', 'Lexington', 'Saint Louis Park', 'Hopkins', 'Saint Paul Park', 'Shakopee', 'Edina', 'Rogers', 'Eden Prairie', 'Lino Lakes', 'Champlin', 'Brewster', 'Circle Pines', 'Woodbury', 'Burnsville', 'Maple Grove', 'Richfield', 'Bloomington', 'Minnetonka', 'New Hope', 'Plymouth', 'Apple Valley', 'Mahtomedi', 'Hastings', 'Farmington', 'Chanhassen', 'Chaska']\n",
      "Simulation9 for Year2021:['Minneapolis', 'Roseville', 'Brooklyn Center', 'New Brighton', 'Saint Paul', 'Prior Lake', 'Crystal', 'Maplewood', 'Little Canada', 'Fridley', 'Blaine', 'Golden Valley', 'Eagan', 'Mankato', 'South Saint Paul', 'Burnsville', 'Brooklyn Park', 'Champlin', 'New Hope', 'Shakopee', 'Hopkins', 'Edina', 'Eden Prairie', 'Minnetonka', 'White Bear Lake', 'Lake Elmo', 'Plymouth', 'Bloomington', 'Faribault', 'Saint Louis Park', 'Maple Grove', 'Robbinsdale', 'West Saint Paul', 'Hastings', 'Lino Lakes', 'Spring Lake Park', 'Ramsey', 'Lakeville', 'Medina', 'Belle Plaine', 'Cottage Grove', 'Hamburg', 'Grant', 'Apple Valley', 'Richfield', 'Wayzata', 'Saint Anthony', 'Minnetrista']\n",
      "Simulation10 for Year2021:['Minneapolis', 'Saint Paul', 'Fridley', 'Shakopee', 'South Saint Paul', 'Roseville', 'Oakdale', 'New Hope', 'Lakeville', 'Edina', 'Mankato', 'Brooklyn Center', 'Eagan', 'Circle Pines', 'Inver Grove Heights', 'Apple Valley', 'Stillwater', 'Richfield', 'Bloomington', 'Lino Lakes', 'West Saint Paul', 'Maplewood', 'Cottage Grove', 'Golden Valley', 'Mendota Heights', 'North Branch', 'Brooklyn Park', 'White Bear Lake', 'Rosemount', 'Maple Grove', 'Crystal', 'New Munich', 'Saint Louis Park', 'Eden Prairie', 'Elk River', 'Blaine', 'Morristown', 'Falcon Heights', 'Lake Elmo', 'Andover', 'Waite Park', 'Woodbury', 'Northfield', 'Rochester', 'Chaska', 'Little Canada']\n",
      "Simulation11 for Year2021:['Minneapolis', 'Edina', 'New Hope', 'Saint Paul', 'Oakdale', 'Shakopee', 'West Saint Paul', 'Golden Valley', 'Rogers', 'Bloomington', 'Austin', 'South Saint Paul', 'Eden Prairie', 'New Brighton', 'Corcoran', 'Andover', 'Maplewood', 'North Saint Paul', 'Cottage Grove', 'Savage', 'Brooklyn Park', 'Saint Paul Park', 'Crystal', 'Eagan', 'Rockford', 'Roseville', 'Vadnais Heights', 'White Bear Lake', 'Richfield', 'Maple Grove', 'New Prague', 'Brooklyn Center', 'Blaine', 'Owatonna', 'Minnetonka', 'Chanhassen', 'Hopkins']\n",
      "Simulation12 for Year2021:['Minneapolis', 'Maple Grove', 'Waseca', 'Ramsey', 'Eagan', 'Saint Paul', 'Bloomington', 'Brooklyn Park', 'Saint Anthony', 'Blaine', 'South Saint Paul', 'Little Canada', 'Brooklyn Center', 'Roseville', 'Plymouth', 'Oakdale', 'Lino Lakes', 'Crystal', 'Edina', 'Apple Valley', 'Cottage Grove', 'Falcon Heights', 'Eden Prairie', 'Prior Lake', 'Savage', 'Janesville', 'Lakeville', 'Golden Valley', 'Mendota Heights', 'Cambridge']\n",
      "Simulation13 for Year2021:['Minneapolis', 'Saint Paul', 'Saint Louis Park', 'Brooklyn Center', 'Golden Valley', 'Chanhassen', 'Maple Grove', 'Chaska', 'Eagan', 'Eden Prairie', 'Savage', 'Shorewood', 'Woodbury', 'Maplewood', 'Minnetonka', 'Robbinsdale', 'Richfield', 'Columbia Heights', 'Edina', 'Shoreview', 'Inver Grove Heights', 'Little Canada', 'Bloomington', 'Grant', 'Northfield', 'Andover', 'Waverly', 'Roseville', 'Brooklyn Park', 'Albertville', 'Credit River', 'Saint Michael', 'Fridley', 'Duluth', 'Burnsville', 'Lakeville', 'Prior Lake', 'Columbus']\n",
      "Simulation14 for Year2021:['Minneapolis', 'Saint Louis Park', 'Edina', 'Crystal', 'Coon Rapids', 'Lakeville', 'Faribault', 'Farmington', 'Roseville', 'Saint Paul', 'Minnetonka', 'Inver Grove Heights', 'Hopkins', 'Maplewood', 'Brooklyn Park', 'Vadnais Heights', 'South Saint Paul', 'Andover', 'Chanhassen', 'Eden Prairie', 'New Hope', 'Blaine', 'Robbinsdale', 'Lake City', 'Richfield', 'Plymouth', 'Woodbury', 'Eagan', 'Columbia Heights', 'Shakopee', 'Burnsville', 'Bloomington', 'Anoka', 'Grant', 'Waseca', 'Shoreview', 'Hilltop', 'Ham Lake', 'Apple Valley', 'Oakdale']\n",
      "Simulation15 for Year2021:['Minneapolis', 'Golden Valley', 'New Hope', 'Ham Lake', 'Stillwater', 'Burnsville', 'Roseville', 'Brooklyn Center', 'Saint Paul', 'Bloomington', 'Brooklyn Park', 'Eden Prairie', 'Otsego', 'Andover', 'Shoreview', 'Coon Rapids', 'Maplewood', 'Crystal', 'Minnetonka', 'Saint Louis Park', 'Lino Lakes', 'Minnetrista', 'Long Lake', 'Lauderdale', 'Columbia Heights', 'Oak Park Heights', 'Albertville', 'Rogers', 'Hilltop', 'Edina', 'Ramsey', 'Saint Paul Park', 'Saint Anthony', 'Oakdale', 'Richfield', 'Plymouth', 'Blaine', 'Prior Lake', 'Shakopee', 'Eagan', 'Big Lake', 'Maple Grove', 'Falcon Heights', 'Fridley', 'Lexington', 'White Bear Lake', 'West Saint Paul', 'Inver Grove Heights']\n",
      "Simulation16 for Year2021:['Minneapolis', 'Golden Valley', 'Richfield', 'Bloomington', 'Vadnais Heights', 'Maple Grove', 'Brooklyn Center', 'Lakeville', 'Minnetonka', 'Saint Paul', 'Woodbury', 'New Brighton', 'Mahtomedi', 'Lake Elmo', 'New Hope', 'Edina', 'Saint Louis Park', 'Roseville', 'Hopkins', 'West Saint Paul', 'Plymouth', 'South Saint Paul', 'Eden Prairie', 'Landfall', 'Shoreview', 'Duluth', 'Shakopee', 'Tonka Bay', 'Burnsville', 'Winsted', 'Coon Rapids', 'Blaine', 'Elgin', 'Crystal', 'Chanhassen']\n",
      "Simulation17 for Year2021:['Minneapolis', 'Roseville', 'Edina', 'Brooklyn Center', 'Saint Paul', 'Mendota Heights', 'Inver Grove Heights', 'Robbinsdale', 'Woodbury', 'Plymouth', 'Richfield', 'Andover', 'Rushford', 'Golden Valley', 'South Saint Paul', 'Oakdale', 'Victoria', 'Bloomington', 'Fridley', 'Saint Louis Park', 'New Brighton', 'Burnsville', 'Lakeville', 'Chaska', 'Northfield', 'Hastings', 'Eagan', 'Mound', 'Saint Michael', 'Otsego', 'Brooklyn Park', 'Crystal', 'Chanhassen', 'West Saint Paul']\n",
      "Simulation18 for Year2021:['Minneapolis', 'Robbinsdale', 'Saint Paul', 'Coon Rapids', 'Little Canada', 'Nowthen', 'Hastings', 'Golden Valley', 'Crystal', 'Eden Prairie', 'Oakdale', 'Fridley', 'Burnsville', 'New Hope', 'Mendota Heights', 'Plymouth', 'South Saint Paul', 'White Bear Lake', 'Blaine', 'Saint Michael', 'Stillwater', 'Brooklyn Park', 'Maplewood', 'Savage', 'Lino Lakes', 'Roseville', 'Bloomington', 'Shoreview', 'Victoria', 'Afton', 'Richfield', 'Lakeville', 'New Brighton', 'Woodbury', 'Ham Lake', 'Newport', 'Saint Louis Park', 'Columbia Heights', 'Edina', 'Forest Lake', 'West Saint Paul', 'Prior Lake', 'Hugo', 'Apple Valley', 'Brooklyn Center', 'Marine on Saint Croix', 'Spring Lake Park']\n",
      "Simulation19 for Year2021:['Minneapolis', 'Edina', 'Crystal', 'Saint Paul', 'Roseville', 'New Brighton', 'New Hope', 'Columbia Heights', 'Fridley', 'Oakdale', 'Eagan', 'North Oaks', 'Brooklyn Center', 'Brooklyn Park', 'Birchwood Village', 'Bloomington', 'Saint Louis Park', 'Forest Lake', 'Maple Grove', 'Newport', 'Chanhassen', 'Corcoran', 'Maplewood', 'Burnsville', 'Prior Lake', 'Ham Lake', 'Lilydale', 'West Saint Paul', 'Waconia', 'Princeton', 'Shoreview', 'Ramsey', 'Richfield', 'Eden Prairie', 'Plymouth', 'Mounds View', 'Minnetonka', 'Carver', 'Saint Michael', 'Elysian', 'Apple Valley', 'Inver Grove Heights', 'Blaine', 'Victoria', 'Falcon Heights', 'South Saint Paul', 'Woodbury']\n",
      "Simulation20 for Year2021:['Minneapolis', 'Saint Louis Park', 'Saint Paul', 'Orono', 'Rochester', 'Roseville', 'White Bear Lake', 'Circle Pines', 'Minnetonka', 'Hugo', 'Robbinsdale', 'Eagan', 'Blaine', 'Woodbury', 'Brooklyn Center', 'North Saint Paul', 'Vadnais Heights', 'South Saint Paul', 'Bloomington', 'Hopkins', 'Eyota', 'Dayton', 'Golden Valley', 'Maplewood', 'Cottage Grove', 'Maple Grove', 'Mendota Heights', 'Columbia Heights', 'Edina', 'Shoreview', 'Chanhassen', 'Apple Valley', 'Fridley', 'Plymouth', 'Farmington', 'Ramsey', 'Brooklyn Park', 'Inver Grove Heights', 'Mounds View', 'Hanover', 'Burnsville', 'Eden Prairie', 'Spring Lake Park', 'Northfield', 'East Bethel', 'Crystal', 'Richfield', 'Coon Rapids', 'Saint Cloud', 'Aitkin']\n",
      "Simulation21 for Year2021:['Minneapolis', 'Saint Paul', 'Champlin', 'North Saint Paul', 'Oakdale', 'Red Lake Falls', 'Ham Lake', 'Saint Louis Park', 'Crystal', 'Little Canada', 'Shoreview', 'Maple Grove', 'Coon Rapids', 'Prior Lake', 'Lake Elmo', 'Edina', 'Roseville', 'Isanti', 'Brooklyn Park', 'Burnsville', 'West Saint Paul', 'Maplewood', 'Saint Joseph', 'Rogers', 'Bloomington', 'Andover', 'Blaine', 'Shakopee', 'Lakeville', 'Sauk Rapids', 'Apple Valley', 'Chanhassen', 'Richfield', 'Eagan', 'Woodbury', 'Minnetonka', 'Mounds View', 'North Branch', 'Stillwater', 'Vadnais Heights', 'Mendota Heights', 'Hastings', 'Farmington']\n",
      "Simulation22 for Year2021:['Minneapolis', 'Saint Paul', 'Plymouth', 'Brooklyn Park', 'Minnetonka', 'Maplewood', 'Shoreview', 'Coon Rapids', 'Vadnais Heights', 'Wyoming', 'Brooklyn Center', 'New Hope', 'Eagan', 'Champlin', 'Lake Saint Croix Beach', 'Buckman', 'Richfield', 'South Saint Paul', 'Rosemount', 'Blaine', 'Oakdale', 'Roseville', 'Columbia Heights', 'Edina', 'Bloomington', 'Forest Lake', 'Savage', 'Maple Grove', 'Apple Valley', 'Delano', 'Cottage Grove', 'Anoka', 'Fridley', 'Saint Michael', 'Woodbury', 'Crystal', 'Eden Prairie', 'Ramsey', 'Burnsville', 'Andover', 'Elk River', 'Lakeville', 'Mounds View', 'Belle Plaine', 'Hilltop', 'East Bethel', 'Golden Valley', 'Arden Hills', 'White Bear Lake']\n",
      "Simulation23 for Year2021:['Minneapolis', 'Saint Louis Park', 'Ham Lake', 'Golden Valley', 'Edina', 'Saint Paul', 'Champlin', 'Woodbury', 'Bloomington', 'Cottage Grove', 'Brooklyn Park', 'Blaine', 'West Saint Paul', 'Maplewood', 'Medina', 'North Saint Paul', 'Columbia Heights', 'Minnetonka', 'Farmington', 'Brooklyn Center', 'Lino Lakes', 'Eden Prairie', 'Savage', 'Crystal', 'Byron', 'Chaska', 'Fridley', 'Plymouth', 'Belle Plaine']\n",
      "Simulation24 for Year2021:['Minneapolis', 'Richfield', 'Edina', 'Saint Paul', 'Buffalo', 'White Bear Lake', 'Blaine', 'Glencoe', 'Champlin', 'Woodbury', 'Shoreview', 'Moorhead', 'Little Canada', 'Vadnais Heights', 'Columbia Heights', 'Medicine Lake', 'Bloomington', 'Eden Prairie', 'Burnsville', 'Maple Grove', 'Chanhassen', 'Ramsey', 'Lake City', 'Mounds View', 'Apple Valley', 'Andover', 'Eagan', 'Rosemount', 'Lino Lakes', 'Lauderdale', 'Plymouth', 'Afton', 'Saint Louis Park', 'Rogers', 'Oak Grove', 'Lilydale', 'Lakeville', 'Crystal', 'Roseville', 'Winona', 'Golden Valley', 'Prior Lake', 'Minnetonka', 'Vermillion']\n",
      "Simulation25 for Year2021:['Minneapolis', 'Saint Louis Park', 'Saint Paul', 'Fridley', 'Oakdale', 'Maple Grove', 'West Saint Paul', 'Ham Lake', 'Plymouth', 'Burnsville', 'Inver Grove Heights', 'Saint Michael', 'Vadnais Heights', 'Eden Prairie', 'New Hope', 'Bloomington', 'Shoreview', 'Savage', 'Lindstrom', 'Tonka Bay', 'Blaine', 'Edina', 'Hopkins', 'Brooklyn Park', 'Eagan', 'Spring Lake Park', 'Prior Lake', 'Lake Elmo', 'Little Canada', 'Crystal', 'Lakeville', 'Maplewood', 'Newport', 'New Brighton', 'Chanhassen', 'Columbia Heights']\n"
     ]
    },
    {
     "name": "stdout",
     "output_type": "stream",
     "text": [
      "Simulation26 for Year2021:['Minneapolis', 'Falcon Heights', 'Saint Louis Park', 'Robbinsdale', 'Roseville', 'Shoreview', 'Brooklyn Park', 'Saint Paul Park', 'Shakopee', 'Eden Prairie', 'Saint Paul', 'Lake Elmo', 'Burnsville', 'Andover', 'Eagan', 'Bloomington', 'Woodbury', 'Saint Francis', 'Fridley', 'Cottage Grove', 'Maple Grove', 'Rosemount', 'New Hope', 'Edina', 'Saint Michael', 'Eagle Lake', 'Lakeville', 'West Saint Paul', 'Chanhassen', 'Inver Grove Heights', 'Osseo', 'North Oaks', 'New Brighton', 'Plymouth', 'Coon Rapids', 'North Saint Paul', 'Hopkins', 'Mound', 'Mayer', 'Apple Valley', 'Crystal', 'Red Wing', 'Savage', 'Champlin', 'Rogers', 'Columbia Heights', 'Richfield', 'Stillwater', 'Saint Cloud', 'Saint Joseph', 'Brooklyn Center', 'Albertville']\n",
      "Simulation27 for Year2021:['Minneapolis', 'Saint Louis Park', 'Brooklyn Center', 'Fridley', 'Bloomington', 'Eden Prairie', 'Anoka', 'Golden Valley', 'Edina', 'Saint Paul', 'Minnetonka', 'Coon Rapids', 'Prior Lake', 'Northfield', 'Apple Valley', 'Blaine', 'North Saint Paul', 'Vadnais Heights', 'Shoreview', 'Burnsville', 'Columbia Heights', 'Richfield', 'South Saint Paul', 'Maple Grove', 'Farmington', 'Shakopee', 'Oak Park Heights', 'Woodbury', 'Robbinsdale', 'Arden Hills', 'White Bear Lake', 'Chanhassen', 'Maplewood', 'Waite Park', 'Roseville', 'Inver Grove Heights', 'Nicollet', 'Brooklyn Park', 'Eagan', 'Monticello', 'West Saint Paul', 'Mendota Heights', 'Ramsey']\n",
      "Simulation28 for Year2021:['Minneapolis', 'New Hope', 'Saint Paul', 'Maple Grove', 'Maplewood', 'White Bear Lake', 'Eagan', 'Eden Prairie', 'Oakdale', 'South Saint Paul', 'Chanhassen', 'Vadnais Heights', 'Elko New Market', 'Edina', 'Spring Lake Park', 'Lino Lakes', 'North Saint Paul', 'Mendota Heights', 'Bloomington', 'Blaine', 'Minnetonka', 'Saint Louis Park', 'Burnsville', 'Saint Joseph', 'Roseville', 'Mounds View', 'Waverly', 'Plymouth', 'Lakeville', 'Osseo', 'Brooklyn Park', 'Farmington', 'Apple Valley', 'Lauderdale', 'West Saint Paul', 'Savage', 'Chaska', 'Richfield', 'Hopkins', 'New Brighton', 'Shakopee', 'Golden Valley', 'Lexington', 'Lonsdale', 'Hastings', 'Woodbury', 'Ramsey']\n",
      "Simulation29 for Year2021:['Minneapolis', 'Saint Paul', 'Rosemount', 'Hopkins', 'Rochester', 'Fridley', 'Bloomington', 'Brooklyn Park', 'Eagan', 'Maplewood', 'Eden Prairie', 'Brooklyn Center', 'Otsego', 'Woodbury', 'Roseville', 'Faribault', 'North Saint Paul', 'Falcon Heights', 'Crystal', 'Golden Valley', 'Apple Valley', 'Saint Louis Park', 'Richfield', 'Minnetonka', 'Savage', 'Saint Cloud', 'Inver Grove Heights', 'Saint Anthony', 'East Bethel', 'Afton', 'Prior Lake', 'Willmar', 'Burnsville', 'Maple Grove', 'Shakopee', 'Little Canada', 'New Prague', 'Cottage Grove', 'New Hope', 'Plymouth', 'Mendota Heights', 'Chanhassen', 'Forest Lake', 'Lakeville', 'Anoka', 'Oakdale']\n",
      "Simulation30 for Year2021:['Minneapolis', 'Saint Paul', 'Bloomington', 'Columbia Heights', 'Roseville', 'North Saint Paul', 'Vadnais Heights', 'Eagan', 'Stillwater', 'Blaine', 'Inver Grove Heights', 'Richfield', 'Plymouth', 'Maple Grove', 'Lakeville', 'Brooklyn Park', 'Farmington', 'Fridley', 'Rosemount', 'Burnsville', 'Shoreview', 'Lake Elmo', 'Edina', 'Brooklyn Center', 'Saint Anthony', 'Prior Lake', 'Saint Louis Park', 'Eden Prairie', 'Andover', 'Oak Grove', 'New Brighton', 'Coon Rapids', 'Chanhassen', 'Crystal', 'Apple Valley', 'Savage', 'Little Canada', 'Buffalo', 'Robbinsdale']\n",
      "Simulation31 for Year2021:['Minneapolis', 'Robbinsdale', 'Roseville', 'Saint Paul', 'Redwood Falls', 'White Bear Lake', 'Oakdale', 'Fridley', 'Forest Lake', 'Brooklyn Center', 'Bloomington', 'Minnetonka', 'Jordan', 'Inver Grove Heights', 'Golden Valley', 'Edina', 'Woodbury', 'Saint Louis Park', 'Brooklyn Park', 'Savage', 'Willmar', 'Centerville', 'Lakeville', 'Oak Grove', 'South Saint Paul', 'Little Canada', 'Cottage Grove', 'Stacy', 'Clarkfield', 'Medina', 'Richfield', 'West Saint Paul', 'Eagan', 'Maplewood', 'Watertown', 'Burnsville', 'Plymouth', 'Columbia Heights', 'Eden Prairie', 'New Brighton', 'Maple Lake', 'Anoka', 'Rosemount', 'Saint Cloud', 'Shoreview', 'New Hope', 'Coon Rapids', 'Lake Elmo']\n",
      "Simulation32 for Year2021:['Minneapolis', 'Golden Valley', 'Saint Paul', 'Eagan', 'Eden Prairie', 'Prior Lake', 'Roseville', 'Woodbury', 'Falcon Heights', 'Newport', 'Mendota Heights', 'Forest Lake', 'Lakeville', 'Bloomington', 'Saint Louis Park', 'Plymouth', 'Maple Grove', 'Sunfish Lake', 'Brooklyn Center', 'Little Canada', 'Inver Grove Heights', 'Brooklyn Park', 'Maplewood', 'Saint Peter', 'Fridley', 'Lexington', 'Shakopee', 'Becker', 'Edina', 'White Bear Lake', 'Osseo', 'Minnetonka', 'Richfield', 'Chanhassen', 'New Brighton', 'Hopkins', 'Lino Lakes']\n",
      "Simulation33 for Year2021:['Minneapolis', 'Richfield', 'Burnsville', 'Golden Valley', 'Northfield', 'Saint Louis Park', 'Robbinsdale', 'Roseville', 'Hopkins', 'Eagan', 'Farmington', 'Saint Paul', 'Prior Lake', 'Andover', 'Inver Grove Heights', 'Woodbury', 'Plymouth', 'Saint Paul Park', 'Medicine Lake', 'Edina', 'Crystal', 'Shoreview', 'Coon Rapids', 'Bloomington', 'Rosemount', 'West Saint Paul', 'Fridley', 'Mendota Heights', 'Eden Prairie', 'Anoka']\n",
      "Simulation34 for Year2021:['Minneapolis', 'New Brighton', 'Saint Paul', 'Fridley', 'Bloomington', 'Eagan', 'Shakopee', 'Woodbury', 'Ham Lake', 'Oak Park Heights', 'Blaine', 'Coon Rapids', 'Maple Grove', 'West Saint Paul', 'Oakdale', 'Cottage Grove', 'Brooklyn Park', 'Minnetonka', 'Saint Louis Park', 'Richfield', 'Roseville', 'Maplewood', 'Vadnais Heights', 'Forest Lake', 'Anoka', 'Columbia Heights', 'Otsego', 'Eden Prairie', 'Inver Grove Heights', 'Red Wing', 'Brooklyn Center', 'Burnsville', 'Golden Valley', 'Saint Paul Park', 'Plymouth', 'Edina', 'Hastings', 'Lakeville', 'Brainerd', 'Delano']\n",
      "Simulation35 for Year2021:['Minneapolis', 'New Brighton', 'Saint Paul', 'Bloomington', 'Eagan', 'Lakeville', 'West Saint Paul', 'Roseville', 'Rochester', 'Plymouth', 'Burnsville', 'Saint Louis Park', 'New Hope', 'Minnetonka', 'Little Canada', 'Brooklyn Park', 'White Bear Lake', 'Maplewood', 'Mendota Heights', 'South Saint Paul', 'Saint Paul Park', 'Vadnais Heights', 'Lauderdale', 'Golden Valley', 'Edina', 'Maple Grove', 'Carver', 'Arden Hills', 'Columbia Heights', 'Oakdale', 'Centerville', 'Shakopee', 'Isanti', 'Forest Lake', 'Le Sueur', 'Hollandale', 'Blaine', 'Farmington', 'Duluth', 'Crystal', 'Medina', 'Shoreview', 'Spring Lake Park', 'Elk River', 'Savage', 'Saint Cloud', 'Otsego', 'Hopkins', 'Zimmerman']\n",
      "Simulation36 for Year2021:['Minneapolis', 'Saint Louis Park', 'Robbinsdale', 'Saint Michael', 'Chisago City', 'Minnetonka', 'Richfield', 'Edina', 'Hopkins', 'Shoreview', 'Nowthen', 'Prior Lake', 'Arden Hills', 'Bloomington', 'Saint Paul', 'Maplewood', 'South Saint Paul', 'Lake Elmo', 'Lexington', 'Columbia Heights', 'Brooklyn Center', 'Saint Francis', 'North Saint Paul', 'Savage', 'Apple Valley', 'Mound', 'Golden Valley', 'New Hope', 'Eagan', 'Roseville', 'Plymouth', 'Cokato', 'Chanhassen', 'West Saint Paul', 'Lakeville', 'New Brighton', 'Lonsdale', 'Isanti', 'Brooklyn Park', 'Vadnais Heights', 'Cottage Grove', 'Lino Lakes', 'Arlington', 'White Bear Lake', 'Woodbury']\n",
      "Simulation37 for Year2021:['Minneapolis', 'Saint Louis Park', 'Saint Paul', 'West Saint Paul', 'Brooklyn Park', 'Burnsville', 'Blaine', 'Medina', 'Cottage Grove', 'Edina', 'Minnetonka', 'Maplewood', 'New Prague', 'Lino Lakes', 'Vadnais Heights', 'Hugo', 'Columbia Heights', 'Crystal', 'Mounds View', 'Apple Valley', 'Brooklyn Center', 'Hastings', 'Woodbury', 'Fridley', 'Chanhassen', 'Hopkins', 'Mendota Heights', 'Prior Lake', 'Columbus', 'South Saint Paul', 'Landfall', 'Golden Valley', 'Bloomington', 'Plymouth', 'Eagan', 'Circle Pines', 'Robbinsdale', 'Excelsior', 'Inver Grove Heights', 'Faribault', 'Eden Prairie', 'Shakopee', 'Ramsey', 'Rosemount', 'Arden Hills', 'Granite Falls', 'Falcon Heights', 'Oakdale', 'Le Sueur', 'New Hope', 'Farmington', 'Chisago City', 'Spring Lake Park', 'White Bear Lake', 'Albertville']\n",
      "Simulation38 for Year2021:['Minneapolis', 'Saint Louis Park', 'Saint Paul', 'Fridley', 'Lino Lakes', 'Minnetonka', 'Mendota Heights', 'Eden Prairie', 'New Brighton', 'West Saint Paul', 'Plymouth', 'Inver Grove Heights', 'Chanhassen', 'Vadnais Heights', 'Richfield', 'Brooklyn Center', 'Brooklyn Park', 'Saint Paul Park', 'Crystal', 'Saint Anthony', 'Mahtomedi', 'Burnsville', 'Shakopee', 'Lauderdale', 'Columbia Heights', 'Edina', 'Hopkins', 'Blaine', 'Apple Valley', 'New Prague', 'Big Lake', 'Robbinsdale', 'Golden Valley', 'South Saint Paul', 'Woodbury', 'Ramsey', 'Belle Plaine', 'Coon Rapids', 'Eagan', 'New Hope', 'Farmington']\n",
      "Simulation39 for Year2021:['Minneapolis', 'Golden Valley', 'Edina', 'Bloomington', 'Willmar', 'Savage', 'Minnetonka', 'Maple Grove', 'Saint Louis Park', 'Saint Paul', 'West Saint Paul', 'Saint Anthony', 'Maplewood', 'Lakeville', 'Roseville', 'Plymouth', 'Buffalo', 'Woodbury', 'Eden Prairie', 'Blaine', 'Arden Hills', 'Chanhassen', 'Shoreview', 'New Hope', 'Waconia', 'Brooklyn Center', 'Fridley', 'East Bethel', 'Red Wing', 'Chisago City', 'Prior Lake', 'Burnsville', 'Eagan']\n",
      "Simulation40 for Year2021:['Minneapolis', 'Columbia Heights', 'Saint Paul', 'Bloomington', 'Plymouth', 'Coon Rapids', 'Roseville', 'Lake Elmo', 'Burnsville', 'Edina', 'Brooklyn Park', 'Blaine', 'Saint Louis Park', 'Eagan', 'Rogers', 'Maplewood', 'Lakeville', 'Apple Valley', 'Fridley', 'Maple Grove', 'Crystal', 'Golden Valley', 'Oakdale', 'Minnetrista', 'Deephaven', 'Cottage Grove', 'New Brighton', 'Afton', 'Stillwater', 'Credit River', 'New Hope', 'Robbinsdale', 'Falcon Heights', 'Hopkins', 'Little Canada', 'Rosemount', 'Wayzata', 'Saint Anthony', 'White Bear Lake', 'Brooklyn Center', 'Arden Hills', 'North Saint Paul', 'North Oaks', 'Hugo', 'Circle Pines', 'Inver Grove Heights']\n",
      "Simulation41 for Year2021:['Minneapolis', 'Saint Louis Park', 'Brooklyn Center', 'Eagan', 'Blaine', 'Golden Valley', 'Bloomington', 'Maplewood', 'Mounds View', 'North Saint Paul', 'Saint Paul', 'Little Canada', 'Wanamingo', 'Edina', 'Woodbury', 'Champlin', 'Coon Rapids', 'Dayton', 'Ramsey', 'Richfield', 'Plymouth', 'Burnsville', 'Anoka', 'Minnetonka', 'Oakdale', 'Oak Grove', 'Brooklyn Park', 'South Saint Paul', 'Pelican Rapids', 'Crystal', 'Hopkins', 'Fridley', 'Minnetrista', 'Belle Plaine', 'Shakopee', 'Roseville', 'Big Lake', 'West Saint Paul', 'White Bear Lake', 'Lakeville']\n",
      "Simulation42 for Year2021:['Minneapolis', 'Saint Paul', 'Burnsville', 'Shorewood', 'Cottage Grove', 'Roseville', 'Golden Valley', 'Saint Louis Park', 'Columbia Heights', 'Richfield', 'Eden Prairie', 'Lino Lakes', 'Clearwater', 'Fridley', 'Plymouth', 'Maplewood', 'Inver Grove Heights', 'Lakeville', 'Chaska', 'Mounds View', 'West Saint Paul', 'Brooklyn Park', 'Coon Rapids', 'New Hope', 'Andover', 'Savage', 'New Brighton', 'Maple Grove', 'Edina', 'Saint James', 'White Bear Lake', 'Osseo', 'Bloomington', 'Shoreview', 'Crystal', 'Mendota Heights', 'Blaine', 'South Saint Paul', 'Robbinsdale', 'Cannon Falls', 'Stillwater', 'Ramsey']\n",
      "Simulation43 for Year2021:['Minneapolis', 'Eden Prairie', 'Bloomington', 'Minnetrista', 'New Prague', 'Mankato', 'Minnetonka', 'Edina', 'Inver Grove Heights', 'Hopkins', 'Cannon Falls', 'Saint Louis Park', 'Newport', 'Falcon Heights', 'Richfield', 'Brooklyn Park', 'Corcoran', 'Cottage Grove', 'Coon Rapids', 'Champlin', 'Saint Paul', 'Apple Valley', 'Rochester', 'Eagan', 'Savage', 'South Saint Paul', 'Burnsville', 'Blaine', 'Golden Valley', 'Maple Grove', 'Faribault', 'Lake Elmo']\n",
      "Simulation44 for Year2021:['Minneapolis', 'Richfield', 'Saint Paul', 'Minnetonka', 'Plymouth', 'Apple Valley', 'Edina', 'Crystal', 'New Brighton', 'West Saint Paul', 'Roseville', 'Saint Louis Park', 'Bloomington', 'Maplewood', 'Eagan', 'Golden Valley', 'Saint Anthony', 'Anoka', 'Savage', 'Brooklyn Center', 'North Saint Paul', 'Lakeville', 'Albertville', 'Woodbury', 'Blaine', 'Fridley', 'Falcon Heights', 'Cottage Grove', 'Cannon Falls', 'New Hope', 'Brooklyn Park', 'Hugo', 'Oakdale', 'Andover', 'Shakopee', 'Maple Grove', 'Shoreview', 'Buffalo', 'Eden Prairie', 'Inver Grove Heights', 'Coon Rapids', 'Robbinsdale', 'Columbia Heights', 'Long Lake', 'Arden Hills', 'Scandia']\n",
      "Simulation45 for Year2021:['Minneapolis', 'Edina', 'Fridley', 'Bloomington', 'Prior Lake', 'Saint Paul', 'Plymouth', 'Champlin', 'Shakopee', 'Richfield', 'Brooklyn Center', 'Vadnais Heights', 'Coon Rapids', 'Cottage Grove', 'White Bear Lake', 'Lake Elmo', 'Apple Valley', 'Carver', 'New Brighton', 'Crystal', 'Robbinsdale', 'Eden Prairie', 'Lilydale', 'Owatonna', 'Blaine', 'New Hope', 'Rochester', 'Minnetonka', 'North Saint Paul', 'Saint Clair', 'Ramsey', 'Osseo', 'Maple Grove', 'Byron', 'South Saint Paul', 'Roseville', 'Oakdale', 'Woodbury', 'Farmington', 'Savage', 'Saint Louis Park', 'Ham Lake', 'Shoreview', 'Brooklyn Park', 'Litchfield', 'Faribault', 'West Saint Paul', 'Burnsville', 'Stillwater']\n",
      "Simulation46 for Year2021:['Minneapolis', 'New Hope', 'Eagan', 'Richfield', 'Saint Paul', 'Minnetonka', 'Burnsville', 'Coon Rapids', 'Oakdale', 'Lakeville', 'Bloomington', 'Golden Valley', 'Saint Louis Park', 'New Brighton', 'West Saint Paul', 'Vadnais Heights', 'Hastings', 'Lauderdale', 'Edina', 'Fridley', 'Plymouth', 'Apple Valley', 'Savage', 'Maple Grove', 'Shakopee', 'Woodbury', 'Andover', 'Brooklyn Center', 'Lewiston', 'Robbinsdale', 'Roseville', 'Hugo']\n",
      "Simulation47 for Year2021:['Minneapolis', 'Richfield', 'Saint Paul', 'Minnetonka', 'Victoria', 'Andover', 'Eden Prairie', 'West Saint Paul', 'Golden Valley', 'Brooklyn Park', 'Bloomington', 'New Brighton', 'Eagan', 'Maplewood', 'North Saint Paul', 'Coon Rapids', 'Lino Lakes', 'Mounds View', 'Roseville', 'Apple Valley', 'Plymouth', 'Rochester', 'Lakeville', 'Crystal', 'North Oaks', 'Brooklyn Center', 'Burnsville', 'Ogema', 'Maple Grove', 'Carver', 'Robbinsdale', 'Saint Cloud', 'Delano', 'New Hope', 'Shakopee', 'Saint Louis Park', 'Ramsey', 'Stewartville', 'Columbia Heights']\n",
      "Simulation48 for Year2021:['Minneapolis', 'Saint Paul', 'Fridley', 'Minnetonka', 'Cottage Grove', 'Chanhassen', 'South Saint Paul', 'Eagan', 'Lakeville', 'Edina', 'Crystal', 'West Saint Paul', 'Mounds View', 'Little Canada', 'Lino Lakes', 'Bloomington', 'Saint Paul Park', 'Woodbury', 'Plymouth', 'Brooklyn Park', 'Blaine', 'Apple Valley', 'Eden Prairie', 'Maplewood', 'Oakdale', 'Farmington', 'Oak Grove', 'Rosemount', 'Isanti', 'Golden Valley', 'Maple Grove', 'Albertville', 'Coon Rapids', 'Columbia Heights', 'Burnsville', 'Rogers', 'Lake City', 'Hutchinson', 'Shoreview', 'Elk River', 'Montrose', 'Onamia', 'Mendota Heights', 'New Hope', 'Champlin', 'Saint Louis Park', 'Brooklyn Center', 'Roseville']\n",
      "Simulation49 for Year2021:['Minneapolis', 'Saint Louis Park', 'Saint Paul', 'Spring Lake Park', 'Brooklyn Park', 'Oakdale', 'Hugo', 'North Branch', 'Edina', 'Fridley', 'Anoka', 'South Saint Paul', 'Shoreview', 'New Hope', 'Credit River', 'Burnsville', 'Maplewood', 'North Saint Paul', 'Arden Hills', 'Eagan', 'Chanhassen', 'Lakeville', 'Columbia Heights', 'Hopkins', 'Minnetonka', 'Rogers', 'Winthrop', 'Andover', 'West Saint Paul', 'Bloomington', 'Moorhead', 'Champlin', 'Cottage Grove', 'Roseville', 'Crystal', 'Plymouth', 'Wayzata', 'Sartell', 'Mahtomedi']\n"
     ]
    }
   ],
   "source": [
    "#run 50 simulations\n",
    "for i in range(0,50):\n",
    "    PresenceCity = simulation(\"City_FromToTable_Final\",\"City_Sim\",method = 'G',\n",
    "                              seed = 'Minneapolis',num_year = 6,G = 30,i = i)\n",
    "    \n",
    "    PresenceCity = prediction(\"City_FromToTable_Final\",\"City_Pred2022\",method = 'G',PresenceCity = PresenceCity, G = 30,i = i)\n",
    "    PresenceCity = prediction(\"City_FromToTable_Final\",\"City_Pred2023\",method = 'G',PresenceCity = PresenceCity, G = 30,i = i)\n",
    "    PresenceCity = prediction(\"City_FromToTable_Final\",\"City_Pred2024\",method = 'G',PresenceCity = PresenceCity, G = 30,i = i)"
   ]
  },
  {
   "cell_type": "code",
   "execution_count": 42,
   "metadata": {},
   "outputs": [
    {
     "data": {
      "text/html": [
       "<div class='gpresult'><h2>Messages</h2><div id='messages' data-messages='[\"Start Time: Sunday, April 30, 2023 7:37:54 PM\",\"Succeeded at Sunday, April 30, 2023 7:37:57 PM (Elapsed Time: 3.36 seconds)\"]' data-show='true'><div id = 'default' /></div></div>"
      ],
      "text/plain": [
       "<Result 'City_Pred2024'>"
      ]
     },
     "execution_count": 42,
     "metadata": {},
     "output_type": "execute_result"
    }
   ],
   "source": [
    "#get the simulation final prediction\n",
    "arcpy.management.AddField(\"City_Sim\", f\"Sim_G\", \"SHORT\")\n",
    "arcpy.management.AddField(\"City_Pred2022\", f\"Pred_G\", \"SHORT\")\n",
    "arcpy.management.AddField(\"City_Pred2023\", f\"Pred_G\", \"SHORT\")\n",
    "arcpy.management.AddField(\"City_Pred2024\", f\"Pred_G\", \"SHORT\")\n",
    "\n",
    "final_result(\"City_Sim\",method = 'G')        \n",
    "#delete unnecessary columns\n",
    "arcpy.management.DeleteField(\"City_Sim\", \"CITY_NAME;POPULATION;Sim_MC;Sim_G\", \"KEEP_FIELDS\")\n",
    "\n",
    "final_result(\"City_Pred2022\",method = 'G')\n",
    "#delete unnecessary columns\n",
    "arcpy.management.DeleteField(\"City_Pred2022\", \"CITY_NAME;POPULATION;Pred_MC;Pred_G\", \"KEEP_FIELDS\")\n",
    "\n",
    "final_result(\"City_Pred2023\",method = 'G')\n",
    "#delete unnecessary columns\n",
    "arcpy.management.DeleteField(\"City_Pred2023\", \"CITY_NAME;POPULATION;Pred_MC;Pred_G\", \"KEEP_FIELDS\")\n",
    "\n",
    "final_result(\"City_Pred2024\",method = 'G')\n",
    "#delete unnecessary columns\n",
    "arcpy.management.DeleteField(\"City_Pred2024\", \"CITY_NAME;POPULATION;Pred_MC;Pred_G\", \"KEEP_FIELDS\")"
   ]
  },
  {
   "cell_type": "markdown",
   "metadata": {},
   "source": [
    "### Huff Model - LandUse, Pop, Dist"
   ]
  },
  {
   "cell_type": "code",
   "execution_count": 43,
   "metadata": {},
   "outputs": [],
   "source": [
    "# adds probability column to near table\n",
    "arcpy.management.AddField(\"City_FromToTable_Final\", \"Probability_H\", \"DOUBLE\")\n",
    "\n",
    "#Calculates probability of each pair transition\n",
    "alpha = 1.5\n",
    "\n",
    "with arcpy.da.SearchCursor(\"City_FromToTable_Final\",\"*\") as cursor:\n",
    "    total_sum = sum(((row[7] * (row[9]+0.001))/(row[3]**alpha)) for row in cursor)\n",
    "with arcpy.da.UpdateCursor(\"City_FromToTable_Final\",\"*\") as cursor:\n",
    "    for row in cursor:\n",
    "        row[11] = ((row[7] * (row[9]+0.001))/(row[3]**alpha))/total_sum\n",
    "        cursor.updateRow(row)\n",
    "del cursor"
   ]
  },
  {
   "cell_type": "code",
   "execution_count": 44,
   "metadata": {},
   "outputs": [
    {
     "name": "stdout",
     "output_type": "stream",
     "text": [
      "Simulation0 for Year2021:['Minneapolis', 'Brooklyn Center', 'Eden Prairie', 'Red Wing', 'Shakopee', 'Cottage Grove', 'Brooklyn Park', 'Orono', 'North Branch', 'Arden Hills', 'Ham Lake', 'Blaine', 'Mendota Heights', 'Minnetonka', 'Shoreview', 'New Brighton', 'Coon Rapids', 'Saint Michael', 'Champlin', 'Andover', 'Hugo', 'Chanhassen', 'Lakeville', 'Circle Pines', 'Lake Elmo', 'Farmington', 'Rogers', 'Bloomington', 'North Oaks', 'Saint Cloud', 'Saint Paul', 'Maplewood', 'Robbinsdale', 'New Prague', 'Woodbury', 'Edina', 'Shorewood', 'Eagan', 'Elk River', 'Maple Grove', 'Deephaven', 'Prior Lake', 'East Bethel', 'Medina', 'Savage', 'Ramsey', 'Saint Louis Park', 'Plymouth', 'Otsego', 'Inver Grove Heights', 'Burnsville', 'Duluth', 'Vadnais Heights', 'Newport', 'Lonsdale', 'Mound', 'Waconia', 'Minnetrista', 'Credit River', 'Wayzata', 'Chaska', 'Delano', 'Saint Paul Park', 'Roseville']\n",
      "Simulation1 for Year2021:['Minneapolis', 'Brooklyn Center', 'Woodbury', 'Byron', 'North Oaks', 'Lino Lakes', 'Saint Paul', 'Rosemount', 'Lindstrom', 'Oakdale', 'Inver Grove Heights', 'Plymouth', 'Ham Lake', 'Ramsey', 'Shoreview', 'Arden Hills', 'Fridley', 'Saint Francis', 'Chanhassen', 'Coon Rapids', 'Corcoran', 'Brooklyn Park', 'Bloomington', 'Anoka', 'Dayton', 'Scandia', 'Forest Lake', 'East Bethel', 'Hugo', 'Elk River', 'Burnsville', 'White Bear Lake', 'Golden Valley', 'Eden Prairie', 'Maple Grove', 'Shakopee', 'Maplewood', 'Victoria', 'Mahtomedi', 'Wyoming', 'Lakeville', 'Lake City', 'Eagle Lake', 'Saint Louis Park', 'Farmington', 'Cambridge', 'Mankato', 'Roseville', 'Stillwater', 'Prior Lake', 'Minnetonka', 'Blaine', 'Nowthen', 'Champlin']\n",
      "Simulation2 for Year2021:['Minneapolis', 'Bloomington', 'Lino Lakes', 'Hugo', 'Prior Lake', 'Eden Prairie', 'Rosemount', 'Maple Grove', 'Scandia', 'Shakopee', 'Coon Rapids', 'Otsego', 'Maple Lake', 'Brooklyn Park', 'Andover', 'Blaine', 'Minnetonka', 'Saint Louis Park', 'Shoreview', 'Hanover', 'Lakeville', 'Chanhassen', 'North Oaks', 'Maplewood', 'Corcoran', 'Plymouth', 'Hastings', 'Waite Park', 'Cannon Falls', 'Waconia', 'Zimmerman', 'Chaska', 'Saint Michael', 'Eagan', 'Greenfield', 'Saint Paul', 'Dayton', 'Rogers', 'Anoka', 'Saint Francis', 'Burnsville', 'Inver Grove Heights', 'Ramsey', 'Vermillion', 'Forest Lake', 'Duluth', 'Buffalo', 'Montrose', 'Lake Elmo', 'South Saint Paul', 'Lake City', 'Park Rapids', 'Saint Cloud', 'Farmington', 'Sartell', 'Nowthen', 'Richfield', 'Centerville']\n",
      "Simulation3 for Year2021:['Minneapolis', 'Minnetrista', 'Shakopee', 'Savage', 'Bloomington', 'Burnsville', 'Medina', 'Saint Paul', 'Inver Grove Heights', 'Mahtomedi', 'Richfield', 'Lakeville', 'Shorewood', 'Prior Lake', 'Greenfield', 'Saint Michael', 'Faribault', 'Morristown', 'Saint Paul Park', 'Eden Prairie', 'Corcoran', 'Apple Valley', 'Cottage Grove', 'Otsego', 'Eagan', 'Minnetonka', 'Brooklyn Park', 'Duluth', 'Owatonna', 'Saint Cloud', 'Edina', 'Pine City', 'Oak Grove', 'Shoreview', 'East Bethel', 'Champlin', 'Farmington', 'Arden Hills']\n",
      "Simulation4 for Year2021:['Minneapolis', 'South Saint Paul', 'Inver Grove Heights', 'Rosemount', 'Woodbury', 'Afton', 'Eden Prairie', 'Brooklyn Center', 'Watertown', 'Chanhassen', 'Cottage Grove', 'Saint Paul', 'Fridley', 'Brooklyn Park', 'Otsego', 'Shakopee', 'Hutchinson', 'Farmington', 'Coon Rapids', 'Lakeville', 'Chaska', 'Braham', 'Burnsville', 'Eagan', 'Medina', 'Lino Lakes', 'Bloomington', 'Apple Valley', 'Plymouth', 'Oakdale', 'Forest Lake', 'Hugo', 'Ramsey', 'Maple Grove', 'Crystal', 'Saint Michael', 'Lake Elmo', 'Vadnais Heights', 'Andover', 'Maplewood', 'Fairmont', 'Blaine', 'Becker', 'Mound', 'Hanover', 'Saint Paul Park', 'Saint Cloud', 'Corcoran', 'Ham Lake', 'Shoreview', 'Worthington', 'Spring Park', 'Albertville', 'New Hope', 'Carver', 'Falcon Heights', 'Victoria', 'Blue Earth', 'Prior Lake', 'Rochester']\n",
      "Simulation5 for Year2021:['Minneapolis', 'Eagan', 'Oakdale', 'Woodbury', 'Saint Paul', 'Hugo', 'Lakeville', 'Big Lake', 'Bloomington', 'Edina', 'Winona', 'North Oaks', 'Maple Grove', 'Minnetonka', 'Orono', 'Lino Lakes', 'Dayton', 'Nowthen', 'Forest Lake', 'Savage', 'Elk River', 'New Brighton', 'Maplewood', 'Coon Rapids', 'Stillwater', 'Credit River', 'Shakopee', 'Carver', 'Andover', 'Wyoming', 'Columbus', 'Burnsville', 'Cottage Grove', 'Eden Prairie', 'Anoka', 'Lake Elmo', 'Dassel', 'Faribault', 'Brooklyn Park', 'Isanti', 'Saint Michael', 'Prior Lake', 'Richfield', 'Vadnais Heights', 'Ham Lake', 'Blaine', 'Corcoran', 'Golden Valley', 'White Bear Lake', 'Shoreview', 'Ramsey', 'Delano', 'Chaska', 'Arden Hills', 'Independence', 'Owatonna', 'Plymouth', 'Buffalo', 'Lonsdale', 'Mahtomedi', 'Oak Grove', 'Watertown', 'Robbinsdale', 'Victoria', 'Rochester', 'Little Canada', 'Lindstrom', 'Goodview']\n",
      "Simulation6 for Year2021:['Minneapolis', 'Edina', 'Victoria', 'Bloomington', 'Saint Cloud', 'Plymouth', 'Maplewood', 'Saint Paul', 'Minnetonka', 'White Bear Lake', 'Burnsville', 'Mound', 'Eden Prairie', 'Red Wing', 'Farmington', 'Coon Rapids', 'Orono', 'Shorewood', 'Brooklyn Park', 'Lakeville', 'Brooklyn Center', 'Maple Grove', 'Medina', 'Foley', 'Otsego', 'Ramsey', 'Vadnais Heights', 'Chanhassen', 'Minnetrista', 'Hanover', 'Oak Grove', 'Cottage Grove', 'Woodbury', 'Rogers', 'Shakopee', 'Stillwater', 'Inver Grove Heights', 'Carver', 'Saint Michael', 'Eagan', 'Rochester', 'Spring Park', 'Arden Hills', 'Annandale', 'Nowthen', 'Isanti', 'Byron', 'Forest Lake', 'Lake Elmo', 'Little Canada', 'Lino Lakes', 'Saint Paul Park']\n",
      "Simulation7 for Year2021:['Minneapolis', 'Shoreview', 'Cottage Grove', 'Minnetrista', 'Chaska', 'New Brighton', 'Blaine', 'Savage', 'Plymouth', 'Columbia Heights', 'Coon Rapids', 'Lino Lakes', 'Hugo', 'Eden Prairie', 'Rogers', 'Corcoran', 'Minnetonka', 'Wabasha', 'Prior Lake', 'Eagan', 'Carver', 'Bloomington', 'Owatonna', 'Inver Grove Heights', 'Andover', 'Arden Hills', 'Saint Paul', 'Grant', 'Burnsville', 'Lindstrom', 'Ham Lake', 'Maple Grove', 'Forest Lake', 'Chanhassen', 'Dayton', 'Woodbury', 'Shakopee', 'Maplewood', 'Champlin', 'Brooklyn Park', 'Saint Francis', 'Vermillion', 'Mounds View', 'Ramsey', 'Crystal', 'Elk River', 'Credit River', 'East Bethel', 'Apple Valley', 'Edina', 'Lakeville', 'Golden Valley', 'Saint Michael', 'Trimont', 'Albertville', 'Becker', 'Oak Grove', 'Duluth', 'South Saint Paul', 'Columbus', 'Rochester', 'Mapleton', 'Rosemount', 'Saint Paul Park', 'Lake Elmo', 'Austin', 'Otsego', 'Saint Cloud', 'Oakdale', 'Hastings', 'Big Lake', 'Mendota Heights', 'Orono', 'Greenfield', 'Bayport', 'Mahtomedi', 'White Bear Lake', 'Stillwater', 'Rush City']\n",
      "Simulation8 for Year2021:['Minneapolis', 'Bloomington', 'Cambridge', 'Shakopee', 'Savage', 'Apple Valley', 'Truman', 'Edina', 'Blaine']\n",
      "Simulation9 for Year2021:['Minneapolis', 'Shoreview', 'Vadnais Heights', 'Saint Paul', 'Roseville', 'Clarks Grove', 'Hastings', 'Oak Grove', 'Cottage Grove', 'White Bear Lake', 'Orono', 'Bloomington', 'Chanhassen', 'Blaine', 'Maplewood', 'Rochester', 'Minnetonka', 'Eagan', 'Savage', 'Stacy', 'Dayton', 'Little Canada', 'Lilydale', 'Hugo', 'Saint Michael', 'Worthington', 'Medina', 'Rogers', 'Richfield', 'Lakeville', 'Lino Lakes', 'Woodbury', 'Mendota Heights', 'Buffalo', 'Fridley', 'Hopkins', 'Minnetrista', 'Crosby', 'Ham Lake', 'Forest Lake', 'Elk River', 'Saint Peter', 'Shakopee', 'Duluth', 'Burnsville', 'Shorewood', 'Albert Lea', 'Inver Grove Heights', 'Lake Elmo', 'Maple Grove', 'Hanover', 'Stillwater', 'Chaska', 'Alexandria', 'Coon Rapids', 'Waconia', 'Rosemount', 'Ramsey', 'New Brighton', 'South Saint Paul', 'Grant', 'Farmington', 'Glencoe', 'North Oaks', 'Oakdale']\n",
      "Simulation10 for Year2021:['Minneapolis', 'Victoria', 'Chanhassen', 'Plymouth', 'Brooklyn Center', 'Coon Rapids', 'Bloomington', 'Newport', 'Woodbury', 'Rosemount', 'Burnsville', 'Savage', 'Saint Paul', 'Chaska', 'Litchfield', 'Cottage Grove', 'Rochester', 'Apple Valley', 'South Haven', 'Montrose', 'Oakdale', 'Lake Elmo', 'Inver Grove Heights', 'West Saint Paul', 'Richfield', 'Oak Grove', 'Eden Prairie', 'Dayton', 'East Bethel', 'Courtland', 'Minnetonka', 'Dassel', 'Shakopee', 'Brooklyn Park', 'Maple Grove', 'Farmington', 'Fridley']\n",
      "Simulation11 for Year2021:['Minneapolis', 'Plymouth', 'Maple Grove', 'Chanhassen', 'Shakopee', 'Saint Louis Park', 'Saint Michael', 'Blaine', 'Eden Prairie', 'Coon Rapids', 'Saint Paul Park', 'Brooklyn Park', 'Corcoran', 'Shoreview', 'Lino Lakes', 'Hutchinson', 'Eagan', 'Rosemount', 'Lakeville', 'Vadnais Heights', 'Dayton', 'Woodbury', 'Ham Lake', 'Mora', 'North Oaks', 'Bloomington', 'Rogers', 'Saint Paul', 'Minnetonka', 'Wyoming', 'Hugo', 'Anoka', 'Roseville', 'Burnsville', 'Champlin', 'South Saint Paul', 'Andover', 'Prior Lake', 'Elysian', 'Rochester', 'Monticello', 'Maplewood', 'Red Wing', 'Mendota Heights', 'Waconia', 'Rockville', 'Big Lake', 'Ramsey', 'Chisago City', 'Cohasset', 'Chaska', 'Deephaven', 'Forest Lake', 'Northfield', 'Oakdale', 'Oak Grove', 'Becker', 'Hermantown', 'Duluth', 'New Brighton', 'Cottage Grove', 'Edina', 'Saint Cloud', 'Victoria', 'Elk River', 'Newport', 'Faribault', 'Lake Elmo', 'Minneota', 'Richfield', 'East Bethel', 'Montgomery', 'Falcon Heights', 'Scandia', 'Fridley', 'North Saint Paul', 'Greenfield', 'Owatonna', 'Farmington', 'Proctor', 'Otsego', 'Sauk Rapids', 'Inver Grove Heights', 'Circle Pines', 'Brooklyn Center', 'Apple Valley', 'Wabasha', 'Redwood Falls']\n",
      "Simulation12 for Year2021:['Minneapolis', 'Edina', 'Saint Paul', 'Andover', 'Maplewood', 'Bloomington', 'Blaine', 'Shakopee', 'Prior Lake', 'Brooklyn Park', 'Oak Grove', 'Eagan', 'Elk River', 'Rosemount', 'South Saint Paul', 'Afton', 'Golden Valley', 'Plymouth', 'Maple Grove', 'Saint Cloud', 'Lakeville', 'Fridley', 'West Saint Paul', 'Landfall', 'Paynesville', 'Champlin', 'Brooklyn Center', 'Arden Hills', 'Woodbury', 'Duluth', 'Lakeland', 'Otsego', 'Farmington', 'Albertville', 'Ramsey', 'Nowthen', 'Rogers', 'Coon Rapids', 'Wyoming', 'Savage', 'Shorewood', 'Tonka Bay', 'Chaska', 'Mendota Heights', 'Eden Prairie', 'Inver Grove Heights', 'Vadnais Heights', 'New Hope', 'Shoreview', 'Cottage Grove', 'Crystal', 'Chanhassen', 'Dayton', 'Wanamingo', 'Apple Valley', 'Sauk Rapids', 'East Bethel']\n",
      "Simulation13 for Year2021:['Minneapolis', 'Little Canada', 'Rosemount', 'Saint Paul Park', 'Oakdale', 'Champlin', 'North Saint Paul', 'Woodbury', 'West Saint Paul', 'Afton', 'Maple Grove', 'Rogers', 'Saint Paul', 'Stacy', 'Oak Grove', 'Golden Valley', 'Lake Elmo', 'Buffalo', 'Cottage Grove', 'Inver Grove Heights', 'Shoreview', 'Rockford', 'Roseville', 'Minnetonka', 'Victoria', 'Maplewood', 'Grant', 'Prior Lake', 'Circle Pines', 'Lino Lakes', 'Saint Cloud', 'Farmington', 'Lakeville', 'Mahtomedi', 'New Brighton', 'Chanhassen', 'Stillwater', 'Brooklyn Park', 'Chaska', 'Nowthen', 'Edina', 'Apple Valley', 'Ramsey', 'Waite Park', 'Vadnais Heights', 'Lilydale', 'Columbus', 'Burnsville', 'Hugo', 'Andover', 'South Saint Paul', 'Blaine', 'Delano', 'Otsego', 'Forest Lake', 'Arden Hills', 'Wyoming']\n",
      "Simulation14 for Year2021:['Minneapolis', 'Robbinsdale', 'Maple Grove', 'Cottage Grove', 'Richfield', 'Saint Paul', 'Shoreview', 'Eden Prairie', 'Bloomington', 'Plymouth', 'Blaine', 'Brooklyn Park', 'Shakopee', 'Burnsville', 'Woodbury', 'Coon Rapids', 'Elk River', 'Savage', 'Saint Cloud', 'Lakeville', 'Rosemount', 'Anoka', 'Grant', 'Fridley', 'North Oaks', 'North Branch', 'Independence', 'Oak Grove', 'Dayton', 'Apple Valley', 'Maplewood', 'Carver', 'Minnetonka', 'Buffalo', 'Saint Francis', 'Inver Grove Heights', 'Rochester', 'Champlin', 'Ham Lake', 'Big Lake', 'Saint Augusta', 'Credit River', 'White Bear Lake', 'Chisago City', 'Mahtomedi', 'Medina', 'Rogers', 'Eagan', 'Little Canada', 'Andover', 'Forest Lake', 'Hastings', 'Hugo', 'Belle Plaine', 'Columbus', 'Stillwater', 'Farmington', 'Delano', 'Nowthen', 'Corcoran', 'Chanhassen', 'Falcon Heights', 'Fairmont', 'Afton', 'Spring Lake Park']\n",
      "Simulation15 for Year2021:['Minneapolis', 'Farmington', 'Apple Valley', 'Saint Louis Park', 'Minnetonka', 'Burnsville', 'Stillwater', 'Coon Rapids', 'Ham Lake', 'Cambridge', 'Faribault', 'Prior Lake', 'Lino Lakes', 'Blaine', 'Andover', 'Owatonna', 'Northfield', 'Centerville', 'Mahtomedi', 'Wyoming', 'Mapleton', 'Grant', 'Little Canada', 'Sartell', 'Afton', 'Shakopee', 'Harris', 'Savage', 'Bloomington', 'Rosemount', 'Forest Lake', 'Woodbury', 'Eagan', 'South Saint Paul', 'Saint Francis', 'Inver Grove Heights', 'Isanti', 'Lakeville', 'Chisago City', 'White Bear Lake', 'Hugo', 'Minnetrista', 'Saint Paul', 'Vadnais Heights', 'Rochester', 'Chanhassen', 'Rogers', 'Maplewood', 'Golden Valley', 'Elk River', 'Hastings', 'Saint Michael', 'Cottage Grove', 'Oak Park Heights', 'Shoreview', 'Dayton', 'Saint Peter', 'Mendota Heights', 'Roseville', 'Lonsdale', 'Brooklyn Park', 'Otsego', 'Richfield', 'Maple Grove', 'Lake Saint Croix Beach', 'Duluth', 'Plymouth', 'North Mankato', 'Ramsey', 'Champlin', 'Credit River', 'Eden Prairie', 'Sauk Rapids', 'Saint Cloud', 'Bayport', 'Bethel', 'Lake Elmo', 'Scandia', 'Montrose', 'Lakeland', 'New Hope', 'Elko New Market', 'Zimmerman', 'Red Wing', 'Columbus', 'East Bethel', 'Oak Grove', 'Mankato', 'Chaska', 'Crystal', 'Granada', 'Clinton', 'Arden Hills', 'Nowthen']\n",
      "Simulation16 for Year2021:['Minneapolis', 'Blaine', 'Mahtomedi', 'Lakeville', 'Saint Paul', 'Ham Lake', 'Eden Prairie', 'Shoreview', 'Hastings', 'Mendota Heights', 'Apple Valley', 'Burnsville', 'Inver Grove Heights', 'Hugo', 'Bloomington', 'Coon Rapids', 'Ramsey', 'Eagan', 'Otsego', 'Maplewood', 'Chanhassen', 'Lonsdale', 'Andover', 'Rosemount', 'Deephaven', 'Big Lake', 'Waite Park', 'Chaska', 'Cottage Grove', 'Mound', 'Fridley', 'Brooklyn Park', 'Minnetonka', 'Shorewood', 'Woodbury', 'Stillwater', 'Spring Grove', 'Champlin', 'Victoria', 'Albert Lea', 'Maple Grove', 'New Hope', 'Newport', 'Shakopee', 'Plymouth', 'Elk River', 'Little Canada', 'Oak Grove', 'Savage', 'Roseville', 'Red Wing']\n",
      "Simulation17 for Year2021:['Minneapolis', 'Saint Paul', 'Apple Valley', 'Cottage Grove', 'Rosemount', 'Blaine', 'Ham Lake', 'Andover', 'Burnsville', 'South Saint Paul', 'Shakopee', 'Brooklyn Center', 'Prior Lake', 'Ramsey', 'Otsego', 'Wyoming', 'Bloomington', 'Woodbury', 'Newport', 'Rogers', 'Dayton', 'Lino Lakes', 'Lindstrom', 'Inver Grove Heights', 'North Oaks', 'Montrose', 'Vadnais Heights', 'Saint Charles', 'Forest Lake', 'Maple Grove', 'Lakeville', 'Champlin', 'Minnetonka', 'Centerville', 'Chaska', 'Lake Elmo', 'East Bethel', 'Cannon Falls', 'Mounds View', 'Coon Rapids', 'Eagan', 'Savage', 'Chanhassen', 'White Bear Lake', 'Eden Prairie', 'Brooklyn Park', 'Rochester', 'Cambridge', 'Plymouth', 'Richfield', 'Bemidji', 'Elk River', 'Oakdale', 'Le Center', 'Shoreview', 'Mahtomedi', 'Anoka', 'Sauk Rapids', 'Shorewood', 'Austin', 'Mendota Heights', 'Minnetrista', 'Faribault', 'Scandia', 'Corcoran', 'Arlington', 'Hugo', 'Mankato', 'Little Canada', 'Buffalo', 'Wayzata', 'Saint Louis Park', 'Deephaven', 'Duluth', 'Saint Cloud', 'Columbus', 'Rushford', 'Dellwood', 'Maplewood']\n",
      "Simulation18 for Year2021:['Minneapolis', 'Lino Lakes', 'Hugo', 'Blaine', 'Ham Lake', 'Burnsville', 'Shakopee', 'Brooklyn Park', 'Maple Grove', 'Big Lake', 'Columbus', 'Maplewood', 'Bloomington', 'Saint Paul', 'Woodbury', 'Medina', 'Roseville', 'Little Canada', 'Buffalo', 'Eden Prairie', 'Wyoming', 'Oak Grove', 'Lakeville', 'Greenwood', 'Shorewood', 'Minnetrista', 'Andover', 'Centerville', 'Edina', 'Inver Grove Heights', 'Forest Lake', 'Savage', 'Plymouth', 'Corcoran', 'Prior Lake', 'Chanhassen', 'Bemidji', 'Elk River', 'Minnetonka', 'Credit River', 'Chaska', 'Nowthen', 'Deephaven', 'New Hope', 'Eagan', 'Lake Elmo', 'Rockford']\n"
     ]
    },
    {
     "name": "stdout",
     "output_type": "stream",
     "text": [
      "Simulation19 for Year2021:['Minneapolis', 'Saint Paul', 'Eden Prairie', 'Shoreview', 'Inver Grove Heights', 'Woodbury', 'Arden Hills', 'Kasson', 'Blaine', 'Richfield', 'Bloomington', 'Shorewood', 'Maple Grove', 'Forest Lake', 'West Saint Paul', 'Chanhassen', 'Apple Valley', 'Fridley', 'Rosemount', 'Maple Lake', 'Ramsey', 'Burnsville', 'Savage', 'Anoka', 'Eagan', 'Lindstrom', 'Lakeville', 'Pine Springs', 'Cottage Grove', 'Plymouth', 'Maplewood', 'Red Wing', 'Farmington', 'Corcoran', 'Little Canada', 'Ham Lake', 'Greenfield', 'Andover', 'Elk River', 'Victoria', 'Becker', 'Hastings', 'Brooklyn Park', 'Roseville', 'Nowthen', 'New Ulm', 'Orono', 'Minnetrista', 'Duluth', 'Rockford', 'Vadnais Heights', 'White Bear Lake', 'North Branch', 'Edina', 'Chaska', 'Owatonna', 'Oak Grove', 'Saint Anthony', 'Credit River', 'North Oaks', 'Scandia', 'Minnetonka', 'Waconia']\n",
      "Simulation20 for Year2021:['Minneapolis', 'Saint Paul', 'Woodbury', 'Maplewood', 'Brooklyn Park', 'Elk River', 'Maple Grove', 'Shoreview', 'Otsego', 'Oakdale', 'Farmington', 'Blaine', 'Albertville', 'Ramsey', 'Saint Michael', 'Buffalo', 'Saint Cloud', 'Coon Rapids', 'Bayport', 'Brainerd', 'Hugo', 'Lakeville', 'Plymouth', 'Eagan', 'Burnsville', 'New Trier', 'Andover', 'Circle Pines', 'Lino Lakes', 'Lake Elmo', 'Fridley', 'Ham Lake', 'Corcoran', 'Apple Valley', 'Lakeland', 'Anoka', 'Sandstone', 'Eden Prairie', 'Nowthen', 'Forest Lake', 'Stillwater', 'Dayton', 'Hopkins', 'Inver Grove Heights', 'Mahtomedi', 'Hastings']\n",
      "Simulation21 for Year2021:['Minneapolis', 'Saint Paul', 'Cottage Grove', 'Elk River', 'Eden Prairie', 'Inver Grove Heights', 'Prior Lake', 'Ramsey', 'Saint Paul Park', 'Dayton', 'Bloomington', 'Mendota Heights', 'Andover', 'Scandia', 'Minnetrista', 'Plymouth', 'Big Lake', 'Eagan', 'Shakopee', 'Hinckley', 'Maple Grove', 'Burnsville', 'Columbus', 'Brooklyn Park', 'Mound', 'Becker', 'Champlin', 'Edina', 'Grant', 'Savage']\n",
      "Simulation22 for Year2021:['Minneapolis', 'Saint Paul', 'Bloomington', 'West Saint Paul', 'Lilydale', 'Blaine', 'Woodbury', 'Shoreview', 'Lakeland Shores', 'Maple Grove', 'Plymouth', 'Savage', 'Saint Louis Park', 'Buffalo', 'Coon Rapids', 'Wabasha', 'Minnetonka', 'Fridley', 'Rice', 'Cottage Grove', 'Fergus Falls', 'Waconia', 'Chaska', 'Mahtomedi', 'Rosemount', 'Lakeville', 'Moose Lake', 'Edina', 'Lino Lakes', 'Inver Grove Heights', 'Shakopee', 'Rogers', 'Rochester', 'Falcon Heights', 'Elk River', 'Eagan', 'North Oaks', 'Chanhassen', 'Mendota Heights', 'Hugo', 'Centerville', 'Maplewood', 'Winona', 'Eden Prairie', 'Otsego', 'Forest Lake', 'North Saint Paul', 'Saint Anthony', 'Independence', 'Saint Michael', 'Lake Elmo', 'Andover', 'Stillwater', 'Roseville', 'Brooklyn Park', 'Oak Grove', 'Ramsey', 'Orono', 'Medford', 'Plainview', 'Corcoran', 'Robbinsdale', 'Monticello', 'Saint Peter', 'Farmington']\n",
      "Simulation23 for Year2021:['Minneapolis', 'Richfield', 'Bloomington', 'Minnetonka', 'Brooklyn Center', 'Maple Grove', 'Dayton', 'Eden Prairie', 'Blaine', 'Saint Paul', 'Mendota Heights', 'Shakopee']\n",
      "Simulation24 for Year2021:['Minneapolis', 'Forest Lake', 'Wyoming', 'Anoka', 'Saint Louis Park', 'Red Wing', 'Bloomington', 'Zimmerman', 'East Bethel', 'Saint Cloud', 'Independence', 'Scandia', 'Minnetonka', 'Chanhassen', 'Burnsville', 'Rogers', 'Hugo', 'Lakeville', 'Arden Hills', 'Woodbury', 'Blaine', 'Coon Rapids', 'Watertown', 'Farmington', 'Prior Lake', 'Plymouth', 'Bemidji', 'Duluth', 'Chisago City', 'Lino Lakes']\n",
      "Simulation25 for Year2021:['Minneapolis', 'Minnetonka', 'Saint Paul', 'Rosemount', 'Upsala', 'Lakeville', 'Shoreview', 'Hugo', 'Grant', 'Ham Lake', 'Burnsville', 'Cottage Grove', 'Bloomington', 'Eden Prairie', 'Hastings', 'Brooklyn Center', 'Pine Island', 'Hopkins', 'Eagan', 'Maplewood', 'Mendota Heights', 'Elk River', 'Saint Francis', 'Lino Lakes', 'Anoka', 'Coon Rapids', 'Maple Grove', 'Medina', 'Champlin', 'Saint Michael', 'Woodbury', 'Lake Crystal', 'Farmington']\n",
      "Simulation26 for Year2021:['Minneapolis', 'Inver Grove Heights', 'Chanhassen', 'Eden Prairie', 'Rosemount', 'Burnsville', 'Lino Lakes', 'Elk River', 'Plymouth', 'Chaska', 'South Saint Paul', 'Otsego', 'Vadnais Heights', 'Hugo', 'Saint Francis', 'Lakeville', 'Woodbury', 'Oronoco', 'Isanti', 'Cambridge', 'Maple Grove', 'Shoreview', 'Prior Lake', 'Minnetrista', 'Edina', 'Minnetonka', 'Andover', 'Stockton', 'Saint Paul', 'Saint Augusta', 'Saint Cloud', 'Victoria', 'Credit River', 'Oak Grove', 'Eagan', 'Cottage Grove', 'Clarks Grove', 'Mahtomedi', 'Little Falls', 'Shakopee', 'Shorewood', 'Apple Valley', 'Orono', 'Blaine', 'Hastings', 'Lake Elmo', 'Newport', 'Anoka', 'Saint Paul Park', 'Rogers', 'Robbinsdale', 'Maplewood', 'North Branch', 'Ramsey', 'Brooklyn Park', 'Arden Hills', 'Savage', 'Ham Lake', 'Brooklyn Center', 'Coon Rapids', 'East Bethel', 'Bloomington', 'Albert Lea', 'Austin', 'Mendota Heights', 'Le Center', 'Saint Louis Park', 'Hanover', 'Big Lake', 'Farmington', 'Center City', 'Arlington', 'Columbus', 'Forest Lake', 'West Saint Paul', 'Medina', 'Grant']\n",
      "Simulation27 for Year2021:['Minneapolis', 'North Oaks', 'Blaine', 'Saint Paul', 'Maplewood', 'Woodbury', 'East Bethel', 'Saint Anthony', 'Northfield', 'Chanhassen', 'Lakeville', 'Bovey', 'Inver Grove Heights', 'Brooklyn Park', 'Ramsey', 'Sauk Rapids', 'Forest Lake', 'Maple Grove', 'Brooklyn Center', 'Bloomington', 'Minnetonka', 'Andover', 'Vadnais Heights', 'Taylors Falls', 'Plymouth', 'Lino Lakes', 'Fridley', 'Lindstrom', 'Shakopee', 'Ham Lake', 'Otsego', 'Hugo', 'Arden Hills', 'Mahtomedi', 'Grant', 'Prior Lake', 'Eden Prairie', 'South Saint Paul', 'Shoreview', 'Chaska', 'Willmar', 'Champlin', 'Eagan', 'Saint Michael', 'Madelia', 'Burnsville', 'Crystal', 'Savage', 'Medina', 'New Hope', 'Isanti', 'Corcoran', 'Cottage Grove', 'Roseville', 'Coon Rapids', 'Stillwater', 'Afton', 'Golden Valley', 'Norwood Young America', 'Farmington', 'Dayton', 'Rogers', 'Saint Cloud', 'Hastings']\n",
      "Simulation28 for Year2021:['Minneapolis', 'Saint Paul', 'Champlin', 'East Bethel', 'Albertville', 'Plymouth', 'Buffalo', 'Big Lake', 'Ham Lake', 'Columbus', 'Maple Grove', 'Rogers', 'Anoka', 'Newport', 'Andover', 'Apple Valley', 'Shakopee', 'South Saint Paul', 'Victoria', 'Blaine', 'Vadnais Heights', 'Brooklyn Center', 'Lakeville', 'Farmington', 'Eden Prairie', 'Ramsey', 'Mounds View', 'Maple Plain', 'Northfield', 'Lilydale', 'Eagan', 'Forest Lake', 'Hugo', 'Otsego', 'Zimmerman', 'Woodbury', 'Monticello', 'Independence', 'Coon Rapids', 'Brooklyn Park', 'Minnetonka', 'Hermantown', 'Burnsville', 'Afton', 'Fridley', 'Bloomington', 'Clearwater', 'Cottage Grove', 'Prior Lake', 'Chaska', 'Minnetrista', 'Elk River', 'Shoreview', 'Mahtomedi', 'Saint Anthony', 'Waconia', 'Lake Elmo', 'Hopkins', 'Maplewood', 'Chanhassen', 'Delano', 'Inver Grove Heights', 'North Oaks', 'Lino Lakes', 'Watkins', 'Kasson', 'Oakdale', 'Gem Lake', 'Oak Park Heights']\n",
      "Simulation29 for Year2021:['Minneapolis', 'Saint Paul', 'Burnsville', 'Roseville', 'Forest Lake', 'Oak Grove', 'Andover', 'Maple Grove', 'Savage', 'Rosemount', 'Ham Lake', 'Mankato', 'Minnetonka', 'Woodbury', 'Blaine', 'Brooklyn Park', 'Bloomington', 'Chanhassen', 'Plymouth', 'Newport', 'Saint Paul Park', 'Shakopee', 'Orono', 'Corcoran', 'Farmington', 'Eagle Lake', 'Cottage Grove', 'Ramsey', 'Elk River', 'Wayzata', 'Dayton', 'Falcon Heights', 'Medina', 'Rogers', 'Saint Louis Park', 'Otsego', 'Apple Valley', 'Lakeville', 'Credit River', 'North Mankato', 'Coon Rapids', 'Vadnais Heights', 'Fridley', 'Edina', 'Independence', 'Inver Grove Heights', 'Lino Lakes', 'Lake Elmo', 'Mound', 'Minnetrista', 'North Oaks', 'Saint Michael']\n",
      "Simulation30 for Year2021:['Minneapolis', 'Saint Paul', 'Brooklyn Park', 'Champlin', 'Maplewood', 'Eagan', 'Maple Grove', 'Shakopee', 'Stillwater', 'Woodbury', 'Inver Grove Heights', 'Minnetonka', 'Northfield', 'Minnetrista', 'Blaine', 'Eden Prairie', 'Carver', 'Oakdale', 'Le Sueur', 'Lindstrom', 'Vadnais Heights', 'Apple Valley', 'Saint Cloud', 'Chanhassen', 'Victoria', 'Elk River', 'Mound', 'Prior Lake', 'Redwood Falls', 'Andover', 'Chatfield', 'Clarkfield', 'Shoreview', 'Edina', 'Coon Rapids', 'New Brighton', 'Ramsey', 'Plymouth', 'Ham Lake', 'Bloomington', 'Cottage Grove', 'Savage', 'Newport', 'Chisago City', 'Saint Anthony', 'Granite Falls', 'Orono', 'North Saint Paul', 'Rosemount', 'Forest Lake', 'Lakeville', 'Rogers', 'Burnsville', 'Little Canada', 'Big Lake', 'Eagle Lake', 'Nowthen', 'Monticello', 'Brooklyn Center', 'North Mankato', 'Buffalo', 'North Oaks', 'Mendota Heights', 'South Saint Paul', 'Lino Lakes', 'Saint Francis', 'Corcoran', 'Zimmerman', 'Lester Prairie', 'Hugo']\n",
      "Simulation31 for Year2021:['Minneapolis', 'Saint Louis Park', 'Saint Paul', 'Eagan', 'Burnsville', 'West Saint Paul', 'Coon Rapids', 'Maple Grove', 'Apple Valley', 'Bloomington', 'Eden Prairie', 'Inver Grove Heights', 'Farmington', 'Lakeville', 'Victoria', 'Medina', 'Corcoran', 'Forest Lake', 'Shakopee', 'Chanhassen', 'Independence', 'Blaine', 'Wyoming', 'Ham Lake', 'Brooklyn Park', 'Duluth', 'Montrose', 'Plymouth', 'Lino Lakes', 'Oakdale', 'Andover', 'Saint Bonifacius', 'Savage', 'Saint Charles', 'Saint Michael', 'North Branch', 'Minnetonka', 'Shorewood', 'Ramsey', 'Saint Anthony', 'Woodbury', 'New Brighton', 'Credit River', 'Long Lake', 'Chaska', 'Canby']\n",
      "Simulation32 for Year2021:['Minneapolis', 'Eden Prairie', 'Independence', 'Hastings', 'Shoreview', 'Lino Lakes', 'Duluth', 'North Branch', 'Forest Lake', 'Lindstrom', 'Andover', 'Victoria', 'Lakeville', 'Farmington', 'Saint Francis', 'Lake Elmo', 'Minnetonka', 'Burnsville', 'Elk River', 'Rochester', 'Albertville', 'Cottage Grove', 'Medina', 'Maple Grove', 'Blaine', 'Rogers', 'Plymouth', 'Bloomington', 'South Saint Paul', 'Rosemount', 'Shakopee', 'Saint Michael', 'Otsego', 'Chisago City', 'Saint Paul', 'New Brighton', 'Montrose', 'Chaska', 'Saint Cloud', 'Maple Plain', 'Ramsey', 'Carver', 'Grant', 'Maplewood', 'Savage', 'Centerville', 'Bayport', 'Monticello', 'Woodbury', 'Brooklyn Park', 'Prior Lake', 'Saint Louis Park', 'Coon Rapids', 'Sauk Rapids', 'Orono', 'Delano', 'Mendota Heights', 'Rockville']\n",
      "Simulation33 for Year2021:['Minneapolis', 'Robbinsdale', 'Roseville', 'East Bethel', 'Rosemount', 'Farmington', 'Saint Paul', 'Edina', 'Cottage Grove', 'Burnsville', 'Eagan', 'Saint Michael', 'Elk River', 'Woodbury', 'Faribault', 'Plymouth', 'Maple Grove', 'Oak Grove', 'Medina', 'Bloomington', 'Lino Lakes', 'Orono', 'Center City', 'Vadnais Heights', 'Wyoming', 'Eden Prairie', 'Rochester', 'Lakeville', 'Savage', 'Chanhassen', 'Saint Louis Park', 'Buffalo', 'South Saint Paul', 'North Oaks', 'Brooklyn Center', 'Prior Lake', 'Richfield', 'Mayer', 'Newport', 'Apple Valley', 'Hugo', 'Blaine', 'Andover', 'Waconia', 'Lilydale', 'Shakopee', 'Falcon Heights', 'Isanti', 'Rockford', 'Saint Paul Park', 'Minnetonka', 'Ham Lake', 'Inver Grove Heights', 'Forest Lake', 'Brooklyn Park', 'Coon Rapids', 'Shorewood', 'Fridley', 'Corcoran', 'Stillwater', 'Champlin', 'Shoreview', 'Lake Elmo', 'Hastings', 'Oak Park Heights', 'Mendota Heights', 'Centerville', 'Chaska', 'Nisswa', 'Ramsey', 'Maplewood', 'New Germany', 'Albertville', 'Saint Cloud', 'White Bear Lake', 'Red Wing', 'Oakdale', 'Crystal', 'New Brighton', 'Rockville', 'Little Canada']\n",
      "Simulation34 for Year2021:['Minneapolis', 'Prior Lake', 'Saint Paul', 'Excelsior', 'Shorewood', 'Farmington', 'Plymouth', 'Hutchinson', 'Woodbury', 'Chanhassen', 'Victoria', 'Minnetonka', 'Roseville', 'Winona', 'Chaska', 'Rock Creek', 'Credit River', 'Alexandria', 'Burnsville', 'Mound', 'Champlin', 'Lakeland', 'Savage', 'Bloomington', 'Cambridge', 'Greenfield', 'Ramsey', 'Inver Grove Heights', 'Cottage Grove', 'Medina', 'Maplewood', 'Richfield', 'Cannon Falls', 'Andover', 'Hugo', 'Duluth', 'Long Lake', 'Blaine', 'Big Lake', 'Arden Hills', 'Shoreview', 'Coon Rapids', 'Cold Spring', 'East Bethel', 'Lino Lakes', 'Otsego', 'Mendota Heights', 'Litchfield', 'Lakeville', 'White Bear Lake', 'Columbus', 'Brooklyn Center', 'Edina', 'Oakdale', 'Saint Anthony', 'Forest Lake', 'Dayton', 'Delano', 'Saint Michael', 'Albertville', 'Rosemount', 'Tonka Bay', 'Elk River', 'North Oaks']\n",
      "Simulation35 for Year2021:['Minneapolis', 'Inver Grove Heights', 'Hugo', 'Cloquet', 'Bloomington', 'Saint Paul', 'Hanover', 'Harris', 'Shakopee', 'Lakeville', 'Prior Lake', 'Golden Valley', 'Apple Valley', 'Waconia', 'Odin', 'Big Lake', 'Saint Anthony', 'Farmington', 'Orono', 'Chanhassen', 'Sherburn', 'Maple Grove', 'Brooklyn Center']\n",
      "Simulation36 for Year2021:['Minneapolis', 'Eagan', 'Saint Paul Park', 'Chanhassen', 'Shakopee', 'Andover', 'Hugo', 'Zimmerman', 'La Crescent', 'North Branch', 'Cottage Grove', 'Hastings', 'Lakeville', 'Eden Prairie', 'South Saint Paul', 'Bloomington', 'New Prague', 'Eyota', 'Inver Grove Heights', 'Saint Paul', 'Oak Park Heights', 'Grove City', 'Mound', 'Maplewood', 'Burnsville', 'Shoreview', 'Rosemount', 'Apple Valley', 'Marble', 'Farmington', 'Oakdale', 'Medina', 'Chaska', 'Afton', 'Maple Grove', 'Lino Lakes', 'Vadnais Heights', 'Fairmont', 'Elk River', 'Plymouth', 'Woodbury', 'Little Canada', 'Ham Lake', 'Forest Lake', 'Prior Lake', 'Blaine', 'Rush City', 'Champlin', 'Rochester', 'Coon Rapids', 'Minnetonka', 'Dayton', 'Northfield', 'Nowthen', 'Waconia', 'Mendota Heights', 'Minnetrista', 'Bayport', 'Saint Francis', 'Spring Park']\n",
      "Simulation37 for Year2021:['Minneapolis', 'Eden Prairie', 'Woodbury', 'Dayton', 'Edina', 'Maple Grove', 'Lakeville', 'Burnsville', 'Hastings', 'Stockton', 'Saint Louis Park', 'Minnetonka', 'Otsego', 'Cottage Grove', 'Savage', 'Eagan', 'Saint Michael', 'Blaine', 'Saint Paul', 'Red Wing', 'Victoria', 'Champlin', 'Bloomington', 'Crystal', 'Rogers', 'Chanhassen', 'Shakopee', 'Plymouth', 'Winona', 'Dellwood', 'Circle Pines', 'Farmington', 'Brooklyn Center', 'Orono', 'Watertown', 'Hugo', 'Inver Grove Heights', 'Jordan', 'Buffalo', 'North Branch', 'Owatonna', 'Maplewood', 'Richfield', 'Andover', 'Rosemount', 'Spring Lake Park', 'Lino Lakes', 'Medford', 'West Saint Paul', 'Apple Valley', 'Shorewood', 'Vadnais Heights', 'Elko New Market', 'Independence', 'Brooklyn Park', 'Chaska', 'Minnetrista', 'Shoreview', 'Prior Lake', 'Ramsey', 'New Hope', 'Fridley', 'Elk River', 'Ham Lake', 'Medina', 'Little Canada', 'Corcoran', 'Arden Hills', 'Coon Rapids', 'Monticello', 'Cambridge', 'Isle', 'Forest Lake', 'Mayer']\n",
      "Simulation38 for Year2021:['Minneapolis', 'Bloomington', 'Lakeville', 'Faribault', 'Savage', 'Maplewood', 'Farmington', 'Eagan', 'Hugo', 'Carver', 'Saint Paul', 'Victoria', 'Columbus', 'Inver Grove Heights', 'Ham Lake', 'Waconia', 'Buffalo', 'Chaska', 'Shorewood', 'Delano', 'Anoka', 'Breezy Point', 'Champlin', 'Oakdale', 'Hastings', 'Eden Prairie', 'Winona', 'Vadnais Heights', 'Mendota Heights', 'Shakopee', 'Orono', 'Lake Elmo', 'Wayzata', 'Pequot Lakes', 'Rosemount', 'Otsego', 'Wyoming', 'Rockford', 'Chanhassen', 'Apple Valley', 'Edina', 'Cambridge', 'Cottage Grove', 'Brooklyn Center', 'Burnsville', 'East Bethel', 'Newport', 'New Brighton', 'Shoreview', 'Woodbury', 'Brainerd', 'Nisswa', 'Mound', 'Duluth', 'Andover', 'Saint Francis', 'Ramsey', 'Elk River']\n",
      "Simulation39 for Year2021:['Minneapolis', 'Falcon Heights', 'Saint Louis Park', 'Saint Paul', 'Vadnais Heights', 'Maple Grove', 'Rogers', 'Albertville', 'Lakeville', 'Plymouth', 'Burnsville', 'Hugo', 'Wanamingo', 'Becker', 'Apple Valley', 'Bloomington']\n"
     ]
    },
    {
     "name": "stdout",
     "output_type": "stream",
     "text": [
      "Simulation40 for Year2021:['Minneapolis', 'Robbinsdale', 'Chanhassen', 'Dayton', 'Shorewood', 'Rogers', 'Ramsey', 'Otsego', 'Victoria', 'Credit River', 'Albertville', 'Maple Grove', 'Big Lake', 'Austin', 'Waite Park', 'Chaska', 'Shakopee', 'Blaine', 'Champlin', 'Mayer', 'Bloomington', 'Eagan', 'Mendota Heights', 'Lakeville', 'Eden Prairie', 'Ham Lake', 'Elk River', 'Saint Michael', 'Minnetrista', 'Cottage Grove', 'Lakeland', 'Red Wing', 'Brooklyn Park', 'Burnsville', 'Hastings', 'Hugo', 'Chisago City', 'Centerville', 'Lakeland Shores', 'Maplewood', 'Cambridge', 'Mahtomedi', 'Woodbury', 'Lindstrom', 'Saint Paul', 'Plymouth', 'Saint Cloud', 'North Saint Paul', 'Savage', 'Minnetonka', 'Prior Lake', 'Elko New Market', 'Lino Lakes', 'Coon Rapids', 'Faribault', 'Anoka', 'Inver Grove Heights', 'Apple Valley', 'Saint Louis Park', 'Orono', 'Buffalo', 'Mankato']\n",
      "Simulation41 for Year2021:['Minneapolis', 'Saint Paul', 'Falcon Heights', 'Newport', 'Victoria', 'Carver', 'Lino Lakes', 'Roseville', 'Savage', 'Brooklyn Center', 'Eagan', 'Zumbrota', 'Stillwater', 'Bloomington', 'Hugo', 'Oak Park Heights', 'Chaska', 'Inver Grove Heights', 'Woodbury', 'Maple Grove', 'Brooklyn Park', 'Winona', 'Rogers', 'Shoreview', 'Lakeville', 'Hastings', 'Lake Elmo', 'Rock Creek', 'Dayton', 'Cottage Grove', 'Rosemount', 'Vadnais Heights', 'Blaine', 'White Bear Lake', 'Wyoming', 'Plymouth', 'Chisago City', 'Cold Spring', 'Eden Prairie', 'Elk River', 'Red Wing', 'Medina', 'Otsego', 'Nowthen', 'Little Canada', 'Corcoran', 'Andover', 'Saint Anthony', 'Minnetonka', 'Northfield', 'Afton', 'Fridley', 'Chanhassen', 'Champlin', 'Forest Lake', 'Oakdale', 'Ham Lake', 'Wanamingo', 'Apple Valley', 'Robbinsdale', 'Saint Michael', 'Mendota Heights', 'Saint Joseph', 'Prior Lake', 'North Branch', 'Norwood Young America', 'Shakopee', 'Scandia', 'Big Lake', 'Faribault', 'Ramsey', 'Rochester', 'Marine on Saint Croix', 'East Bethel', 'Saint Francis']\n",
      "Simulation42 for Year2021:['Minneapolis', 'Little Canada', 'Saint Paul', 'New Brighton', 'Coon Rapids', 'Vadnais Heights', 'Plymouth', 'Inver Grove Heights', 'Brooklyn Center', 'Shakopee', 'Shoreview', 'Anoka', 'Brooklyn Park', 'Mendota Heights', 'Lakeville', 'Red Wing', 'Forest Lake', 'Roseville', 'Savage', 'Lilydale', 'Chaska', 'Saint Michael', 'Faribault', 'Greenfield', 'Eden Prairie', 'Chanhassen', 'East Bethel', 'Blaine', 'Maple Grove', 'Norwood Young America', 'Melrose', 'Mountain Iron', 'Champlin', 'North Branch', 'Farmington', 'Credit River', 'Elko New Market', 'Albertville', 'Grant', 'Ramsey', 'Prior Lake', 'Waconia', 'Edina', 'Northfield', 'Otsego', 'Maple Lake', 'Mounds View', 'Morristown', 'Minnetonka', 'Lino Lakes', 'Rosemount', 'Victoria', 'South Saint Paul', 'Fairmont', 'Newport', 'Rochester', 'Eagan', 'Woodbury', 'Carver', 'Saint Peter', 'Burnsville', 'Ortonville', 'Bloomington', 'Monticello', 'Scandia', 'Rockville', 'Maplewood', 'Ham Lake', 'Elk River', 'Dayton', 'Andover', 'Rogers', 'Medina', 'Golden Valley', 'Arden Hills', 'Hugo', 'Cottage Grove', 'Shorewood', 'Howard Lake', 'Crystal', 'Tonka Bay', 'Stillwater', 'Mayer', 'Oakdale']\n",
      "Simulation43 for Year2021:['Minneapolis', 'Eden Prairie', 'Lakeville', 'Credit River', 'Lonsdale', 'Maplewood', 'Lake Elmo', 'Saint Paul', 'Saint Cloud', 'Shakopee', 'Cottage Grove', 'White Bear Lake', 'Oakdale', 'Rosemount', 'Forest Lake', 'Minnetrista', 'Mahtomedi', 'Waite Park', 'Red Wing', 'Inver Grove Heights', 'Shorewood', 'North Branch', 'Richfield', 'Mayer', 'Maple Grove', 'Orono', 'Shoreview', 'Plymouth', 'Rogers', 'Blaine', 'Brooklyn Park', 'Mora', 'Ramsey', 'Chanhassen', 'Minnetonka', 'Dellwood', 'Hugo', 'Burnsville', 'Farmington', 'Victoria', 'Mendota Heights', 'Hastings', 'Big Lake', 'Woodbury', 'Savage', 'Medina', 'Eagan', 'Corcoran', 'Wyoming', 'Bloomington', 'Dayton', 'Belle Plaine', 'Monticello', 'Rockville', 'Arden Hills', 'Rochester', 'Champlin', 'Grant', 'Andover', 'Litchfield', 'Chisago City', 'Saint Anthony', 'Isanti', 'Detroit Lakes', 'Roseville', 'Cambridge', 'Coon Rapids', 'Saint Michael', 'Waseca', 'Bock', 'Prior Lake', 'Fridley', 'Lino Lakes']\n",
      "Simulation44 for Year2021:['Minneapolis', 'Inver Grove Heights', 'Saint Paul Park', 'Bloomington', 'Minnetrista', 'Cottage Grove', 'Plymouth', 'Minnetonka', 'Maple Grove', 'Eagan', 'Apple Valley', 'Farmington', 'Little Canada', 'Rosemount', 'Mankato', 'Woodbury', 'Andover', 'White Bear Lake', 'Richfield', 'Arden Hills', 'Lakeville', 'Otsego', 'Elko New Market', 'Victoria', 'Blaine', 'Brooklyn Center', 'Burnsville', 'Saint Paul', 'Newport', 'Champlin']\n",
      "Simulation45 for Year2021:['Minneapolis', 'Bloomington', 'Minnetonka', 'Eden Prairie', 'Vadnais Heights', 'Rosemount', 'Burnsville', 'Greenfield', 'Prior Lake', 'Corcoran', 'Lino Lakes', 'Hugo', 'Arden Hills', 'New Brighton', 'Saint Paul', 'Lakeville', 'Elk River', 'Farmington', 'New Prague', 'Rogers', 'White Bear Lake', 'Ham Lake', 'Centerville', 'Chisago City', 'Shakopee', 'Waconia', 'Newport', 'Inver Grove Heights', 'Shoreview', 'Forest Lake', 'Cottage Grove', 'Chaska', 'Maple Grove', 'Coon Rapids', 'Mendota Heights', 'Worthington', 'Northfield', 'Woodbury', 'Afton', 'Litchfield', 'Andover', 'Oakdale', 'Saint Cloud', 'Mahtomedi', 'Savage', 'Chanhassen', 'Victoria', 'Blaine', 'Dayton', 'Oak Grove', 'Wyoming', 'Maplewood', 'Monticello', 'Ramsey', 'North Oaks', 'Mankato', 'Credit River', 'Spring Park', 'Fridley', 'Shorewood', 'Eagan', 'Saint Paul Park', 'Stacy', 'Dellwood', 'Stillwater', 'Crystal', 'Otsego', 'Brooklyn Center', 'Medina', 'Elysian', 'Orono', 'Cambridge']\n",
      "Simulation46 for Year2021:['Minneapolis', 'Brooklyn Park', 'Dayton', 'Hugo', 'Stillwater', 'Farmington', 'New Hope', 'Bloomington', 'Shoreview', 'Woodbury', 'Chanhassen', 'Rosemount', 'Jordan', 'Minnetonka', 'Champlin', 'Shorewood', 'Shakopee', 'Otsego', 'Ramsey', 'Maple Grove', 'Wyoming', 'Lakeville', 'Apple Valley', 'Eden Prairie', 'Lino Lakes', 'Maplewood', 'Chisago City', 'Edina', 'New Prague', 'Burnsville', 'Inver Grove Heights', 'Centerville', 'Blaine', 'Red Wing', 'Saint Cloud', 'Saint Michael', 'Lake Elmo', 'Plymouth', 'Duluth', 'Saint Paul', 'Saint Joseph', 'Norwood Young America', 'Ellendale', 'Richmond', 'Eagan', 'Afton']\n",
      "Simulation47 for Year2021:['Minneapolis', 'Plymouth', 'Ramsey', 'Arden Hills', 'Mankato', 'Elk River', 'Shoreview', 'Vadnais Heights', 'Eden Prairie', 'North Oaks', 'Savage', 'Saint Paul Park', 'Farmington', 'Saint Cloud', 'Eagan', 'Cottage Grove', 'Mound', 'Faribault', 'Shakopee', 'Red Wing', 'Columbus', 'Hastings', 'Hampton', 'Northfield', 'Bloomington', 'Apple Valley', 'Belle Plaine', 'Rosemount', 'Coon Rapids', 'Minnetrista', 'Blaine', 'Maple Grove', 'Minnetonka', 'Oak Grove', 'Elko New Market', 'Moorhead', 'Inver Grove Heights']\n",
      "Simulation48 for Year2021:['Minneapolis', 'Saint Paul', 'Mendota Heights', 'Roseville', 'Rosemount', 'Burnsville', 'Victoria', 'Inver Grove Heights', 'Lino Lakes', 'West Saint Paul', 'Edina', 'Cottage Grove', 'Millville', 'Lakeville', 'Vadnais Heights', 'Hugo', 'New Brighton', 'Shorewood', 'Oak Grove', 'Falcon Heights', 'Brooklyn Center', 'Orono', 'Farmington', 'Prior Lake', 'Northfield', 'Savage', 'Stacy', 'Eden Prairie', 'Staples', 'Blaine', 'Brooklyn Park', 'Woodbury', 'North Oaks', 'Arden Hills', 'Tonka Bay', 'Crystal', 'Mound', 'Shoreview', 'Shakopee', 'Chanhassen', 'Fridley', 'Maple Grove', 'Cologne', 'White Bear Lake', 'Maplewood', 'Forest Lake', 'Elk River', 'Waconia', 'Minnetrista', 'Hanover', 'Hastings', 'Chaska', 'Hopkins', 'Independence', 'New Hope', 'Bloomington', 'Eagan', 'Le Sueur', 'Stillwater', 'Otsego', 'Ramsey', 'Albertville', 'Rogers', 'Oakdale', 'Melrose', 'Brainerd', 'Excelsior', 'Corcoran', 'Red Wing', 'Long Lake', 'Princeton', 'Paynesville', 'Saint Cloud', 'Coon Rapids', 'Minnetonka', 'Lake City', 'Champlin', 'Saint Louis Park']\n",
      "Simulation49 for Year2021:['Minneapolis', 'Saint Paul', 'Woodbury', 'Lakeville', 'Cottage Grove', 'Farmington', 'Oakdale', 'Vadnais Heights', 'Hastings', 'Prior Lake', 'Rosemount', 'Bloomington', 'Maple Grove', 'Burnsville', 'Maplewood', 'Hermantown', 'Savage', 'Duluth', 'Monticello', 'Oak Park Heights', 'Stillwater', 'Lakeland Shores', 'Plymouth', 'Delano', 'Bayport', 'Mahtomedi', 'Coates', 'Coon Rapids', 'Shorewood', 'Andover', 'Ramsey', 'Hugo', 'Inver Grove Heights', 'Lino Lakes', 'Eagan', 'Apple Valley', 'Shakopee', 'New Brighton', 'Shoreview', 'Chisago City', 'Brooklyn Park', 'Minnetonka', 'Anoka', 'Cloquet', 'Chaska', 'Eden Prairie', 'Arden Hills', 'Red Wing', 'Excelsior', 'Lake Elmo', 'Le Sueur']\n"
     ]
    }
   ],
   "source": [
    "#run 50 simulations\n",
    "for i in range(0,50):\n",
    "    \n",
    "    PresenceCity = simulation(\"City_FromToTable_Final\",\"City_Sim\",method = 'H',\n",
    "                              seed = 'Minneapolis',num_year = 6,G = 250,i = i)\n",
    "    \n",
    "    PresenceCity = prediction(\"City_FromToTable_Final\",\"City_Pred2022\",method = 'H',PresenceCity = PresenceCity, G = 250,i = i)\n",
    "    PresenceCity = prediction(\"City_FromToTable_Final\",\"City_Pred2023\",method = 'H',PresenceCity = PresenceCity, G = 250,i = i)\n",
    "    PresenceCity = prediction(\"City_FromToTable_Final\",\"City_Pred2024\",method = 'H',PresenceCity = PresenceCity, G = 250,i = i)"
   ]
  },
  {
   "cell_type": "code",
   "execution_count": 45,
   "metadata": {},
   "outputs": [
    {
     "data": {
      "text/html": [
       "<div class='gpresult'><h2>Messages</h2><div id='messages' data-messages='[\"Start Time: Sunday, April 30, 2023 8:17:18 PM\",\"Succeeded at Sunday, April 30, 2023 8:17:22 PM (Elapsed Time: 3.72 seconds)\"]' data-show='true'><div id = 'default' /></div></div>"
      ],
      "text/plain": [
       "<Result 'City_Pred2024'>"
      ]
     },
     "execution_count": 45,
     "metadata": {},
     "output_type": "execute_result"
    }
   ],
   "source": [
    "#get the simulation final prediction\n",
    "arcpy.management.AddField(\"City_Sim\", f\"Sim_H\", \"SHORT\")\n",
    "arcpy.management.AddField(\"City_Pred2022\", f\"Pred_H\", \"SHORT\")\n",
    "arcpy.management.AddField(\"City_Pred2023\", f\"Pred_H\", \"SHORT\")\n",
    "arcpy.management.AddField(\"City_Pred2024\", f\"Pred_H\", \"SHORT\")\n",
    "\n",
    "final_result(\"City_Sim\",method = 'H')        \n",
    "#delete unnecessary columns\n",
    "arcpy.management.DeleteField(\"City_Sim\", \"CITY_NAME;POPULATION;Sim_MC;Sim_G;Sim_H\", \"KEEP_FIELDS\")\n",
    "\n",
    "final_result(\"City_Pred2022\",method = 'H')\n",
    "#delete unnecessary columns\n",
    "arcpy.management.DeleteField(\"City_Pred2022\", \"CITY_NAME;POPULATION;Pred_MC;Pred_G;Pred_H\", \"KEEP_FIELDS\")\n",
    "\n",
    "final_result(\"City_Pred2023\",method = 'H')\n",
    "#delete unnecessary columns\n",
    "arcpy.management.DeleteField(\"City_Pred2023\", \"CITY_NAME;POPULATION;Pred_MC;Pred_G;Pred_H\", \"KEEP_FIELDS\")\n",
    "\n",
    "final_result(\"City_Pred2024\",method = 'H')\n",
    "#delete unnecessary columns\n",
    "arcpy.management.DeleteField(\"City_Pred2024\", \"CITY_NAME;POPULATION;Pred_MC;Pred_G;Pred_H\", \"KEEP_FIELDS\")"
   ]
  },
  {
   "cell_type": "markdown",
   "metadata": {},
   "source": [
    "### Assessment comparision for three models"
   ]
  },
  {
   "cell_type": "code",
   "execution_count": 2,
   "metadata": {},
   "outputs": [],
   "source": [
    "#Spatial Join BMSB with CITYNAME AND POPULATION for further assessment\n",
    "#arcpy.SpatialJoin_analysis('bmsb', \"City_qaqc_done\", 'bmsb_SpatialJoin',join_operation=\"JOIN_ONE_TO_ONE\", match_option = \"CLOSEST_GEODESIC\")\n",
    "\n",
    "# get true presence cities\n",
    "bmsb_city = []\n",
    "with arcpy.da.SearchCursor(\"bmsb_SpatialJoin\", [\"CITY_NAME\"]) as cursor:\n",
    "    for row in cursor:\n",
    "        if row[0] is not None:\n",
    "            bmsb_city.append(row[0])\n",
    "            \n",
    "bmsb_city = list(set(bmsb_city))"
   ]
  },
  {
   "cell_type": "code",
   "execution_count": 3,
   "metadata": {},
   "outputs": [],
   "source": [
    "#confusion matrix\n",
    "def get_ConfusionMatrix(pred,name,truth,TP,TN,FP,FN):\n",
    "    if (pred == 1) and (name in truth):\n",
    "        TP +=1\n",
    "    elif (pred == 0) and (name not in truth):\n",
    "        TN +=1\n",
    "    elif (pred == 1) and (name not in truth):\n",
    "        FP +=1\n",
    "    elif (pred == 0) and (name in truth):\n",
    "        FN +=1\n",
    "    return TP,TN,FP,FN\n",
    "\n",
    "TP_G,TN_G,FP_G,FN_G = 0,0,0,0\n",
    "TP_MC,TN_MC,FP_MC,FN_MC = 0,0,0,0\n",
    "TP_H,TN_H,FP_H,FN_H = 0,0,0,0\n",
    "\n",
    "with arcpy.da.SearchCursor(\"City_Sim\", [\"CITY_NAME\",\"Sim_G\",'Sim_MC','Sim_H']) as cursor:\n",
    "    for row in cursor:\n",
    "        TP_G,TN_G,FP_G,FN_G = get_ConfusionMatrix(row[1],row[0],bmsb_city,TP_G,TN_G,FP_G,FN_G)\n",
    "        TP_MC,TN_MC,FP_MC,FN_MC = get_ConfusionMatrix(row[2],row[0],bmsb_city,TP_MC,TN_MC,FP_MC,FN_MC)\n",
    "        TP_H,TN_H,FP_H,FN_H = get_ConfusionMatrix(row[3],row[0],bmsb_city,TP_H,TN_H,FP_H,FN_H)"
   ]
  },
  {
   "cell_type": "code",
   "execution_count": 4,
   "metadata": {},
   "outputs": [
    {
     "name": "stdout",
     "output_type": "stream",
     "text": [
      "The accuracy for monte carlo model is:0.9297423887587822\n",
      "The accuracy for gravity model is:0.9437939110070258\n",
      "The accuracy for huff model is:0.9508196721311475\n",
      "The precision for monte carlo model is:0.1951219512195122\n",
      "The precision for gravity model is:0.3142857142857143\n",
      "The precision for huff model is:0.40540540540540543\n",
      "The recall for monte carlo model is:0.22857142857142856\n",
      "The recall for gravity model is:0.3142857142857143\n",
      "The recall for huff model is:0.42857142857142855\n"
     ]
    }
   ],
   "source": [
    "#accuracy\n",
    "accuracy_MC =  (TP_MC + TN_MC) / (TP_MC + TN_MC + FP_MC + FN_MC)\n",
    "accuracy_G =  (TP_G + TN_G) / (TP_G + TN_G + FP_G + FN_G)\n",
    "accuracy_H =  (TP_H + TN_H) / (TP_H + TN_H + FP_H + FN_H)\n",
    "print(f\"The accuracy for monte carlo model is:{accuracy_MC}\")\n",
    "print(f\"The accuracy for gravity model is:{accuracy_G}\")\n",
    "print(f\"The accuracy for huff model is:{accuracy_H}\")\n",
    "\n",
    "#precision\n",
    "precision_MC = TP_MC / (TP_MC + FP_MC)\n",
    "precision_G = TP_G / (TP_G + FP_G)\n",
    "precision_H = TP_H / (TP_H + FP_H)\n",
    "print(f\"The precision for monte carlo model is:{precision_MC}\")\n",
    "print(f\"The precision for gravity model is:{precision_G}\")\n",
    "print(f\"The precision for huff model is:{precision_H}\")\n",
    "\n",
    "#recall\n",
    "recall_MC = TP_MC / (TP_MC + FN_MC)\n",
    "recall_G = TP_G / (TP_G + FN_G)\n",
    "recall_H = TP_H / (TP_H + FN_H)\n",
    "print(f\"The recall for monte carlo model is:{recall_MC}\")\n",
    "print(f\"The recall for gravity model is:{recall_G}\")\n",
    "print(f\"The recall for huff model is:{recall_H}\")"
   ]
  },
  {
   "cell_type": "markdown",
   "metadata": {},
   "source": [
    "### Get the priority monitoring city"
   ]
  },
  {
   "cell_type": "code",
   "execution_count": 10,
   "metadata": {},
   "outputs": [],
   "source": [
    "#first priority cities (FP in 2021)\n",
    "# get true presence cities\n",
    "city2021 = []\n",
    "with arcpy.da.SearchCursor(\"City_Sim\", [\"CITY_NAME\",'Sim_H']) as cursor:\n",
    "    for row in cursor:\n",
    "        if row[1] == 1 and row[0] not in bmsb_city:\n",
    "            city2021.append(row[0])\n",
    "\n",
    "#second priority cities (will spread in 2022)\n",
    "city2022 = []\n",
    "with arcpy.da.SearchCursor(\"City_Pred2022\", [\"CITY_NAME\",'Pred_H']) as cursor:\n",
    "    for row in cursor:\n",
    "        if row[1] == 1 and row[0] not in bmsb_city and row[0] not in city2021:\n",
    "            city2022.append(row[0])\n",
    "\n",
    "#third priority cities (will spread in 2023)\n",
    "city2023 = []\n",
    "with arcpy.da.SearchCursor(\"City_Pred2023\", [\"CITY_NAME\",'Pred_H']) as cursor:\n",
    "    for row in cursor:\n",
    "        if row[1] == 1 and row[0] not in bmsb_city and row[0] not in city2021 and row[0] not in city2022:\n",
    "            city2023.append(row[0])\n",
    "            \n",
    "#forth priority cities (will spread in 2024)\n",
    "city2024 = []\n",
    "with arcpy.da.SearchCursor(\"City_Pred2024\", [\"CITY_NAME\",'Pred_H']) as cursor:\n",
    "    for row in cursor:\n",
    "        if row[1] == 1 and row[0] not in bmsb_city and row[0] not in city2021 and row[0] not in city2022 and row[0] not in city2023:\n",
    "            city2024.append(row[0])"
   ]
  },
  {
   "cell_type": "code",
   "execution_count": 18,
   "metadata": {},
   "outputs": [],
   "source": [
    "arcpy.management.AddField(\"City_Point\", f\"Priority\", \"SHORT\")\n",
    "with arcpy.da.UpdateCursor(\"City_Point\", [\"CITY_NAME\",'Priority']) as cursor:\n",
    "    for row in cursor:\n",
    "        if row[0] in city2021:\n",
    "            row[1] = 5\n",
    "        elif row[0] in city2022:\n",
    "            row[1] = 4\n",
    "        elif row[0] in city2023:\n",
    "            row[1] = 3\n",
    "        elif row[0] in city2024:\n",
    "            row[1] = 2\n",
    "        else:\n",
    "            row[1] = 1\n",
    "        cursor.updateRow(row)"
   ]
  },
  {
   "cell_type": "code",
   "execution_count": 19,
   "metadata": {},
   "outputs": [],
   "source": [
    "arcpy.management.AddField(\"City_qaqc_done\", f\"Priority\", \"SHORT\")\n",
    "with arcpy.da.UpdateCursor(\"City_qaqc_done\", [\"CITY_NAME\",'Priority']) as cursor:\n",
    "    for row in cursor:\n",
    "        if row[0] in city2021:\n",
    "            row[1] = 5\n",
    "        elif row[0] in city2022:\n",
    "            row[1] = 4\n",
    "        elif row[0] in city2023:\n",
    "            row[1] = 3\n",
    "        elif row[0] in city2024:\n",
    "            row[1] = 2\n",
    "        else:\n",
    "            row[1] = 1\n",
    "        cursor.updateRow(row)"
   ]
  },
  {
   "cell_type": "code",
   "execution_count": null,
   "metadata": {},
   "outputs": [],
   "source": []
  }
 ],
 "metadata": {
  "kernelspec": {
   "display_name": "ArcGISPro",
   "language": "Python",
   "name": "python3"
  },
  "language_info": {
   "file_extension": ".py",
   "name": "python",
   "version": "3"
  }
 },
 "nbformat": 4,
 "nbformat_minor": 2
}
