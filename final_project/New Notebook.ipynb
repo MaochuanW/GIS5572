{
 "cells": [
  {
   "cell_type": "markdown",
   "metadata": {},
   "source": [
    "#  Outline"
   ]
  },
  {
   "cell_type": "markdown",
   "metadata": {},
   "source": [
    "This notebook grab the city data and brown stink bug survey data from Minnesota. It then processes the data to conduct QAQC steps, which is to check the coordinate system and convert it to 4326 for POSTGIS, and identify duplicate cities. In the end, it creates a table that calculate distance between cities"
   ]
  },
  {
   "cell_type": "code",
   "execution_count": 1,
   "metadata": {},
   "outputs": [],
   "source": [
    "import arcpy\n",
    "import json\n",
    "import zipfile\n",
    "import pprint\n",
    "import requests\n",
    "from arcpy import env\n",
    "import os\n",
    "from zipfile import ZipFile\n",
    "import random\n",
    "import time"
   ]
  },
  {
   "cell_type": "code",
   "execution_count": 7,
   "metadata": {},
   "outputs": [
    {
     "name": "stdout",
     "output_type": "stream",
     "text": [
      "Download and extraction completed!\n"
     ]
    }
   ],
   "source": [
    "# Define the URL and local directory\n",
    "url = \"https://resources.gisdata.mn.gov/pub/gdrs/data/pub/us_mn_state_dot/bdry_mn_city_township_unorg/shp_bdry_mn_city_township_unorg.zip\"\n",
    "local_directory = r\"C:\\final_project\"\n",
    "\n",
    "# Function to download a file from a URL\n",
    "def download_file(url, local_directory):\n",
    "    response = requests.get(url)\n",
    "    file_name = os.path.join(local_directory, url.split(\"/\")[-1])\n",
    "\n",
    "    with open(file_name, \"wb\") as f:\n",
    "        f.write(response.content)\n",
    "    return file_name\n",
    "\n",
    "# Function to unzip a file\n",
    "def unzip_file(file_path, destination):\n",
    "    with ZipFile(file_path, \"r\") as zip_ref:\n",
    "        zip_ref.extractall(destination)\n",
    "\n",
    "# Create the local directory if it doesn't exist\n",
    "if not os.path.exists(local_directory):\n",
    "    os.makedirs(local_directory)\n",
    "\n",
    "# Download the file and unzip it\n",
    "zip_file_path = download_file(url, local_directory)\n",
    "unzip_file(zip_file_path, local_directory)\n",
    "\n",
    "print(\"Download and extraction completed for city_township_unorg shapefile\")\n"
   ]
  },
  {
   "cell_type": "code",
   "execution_count": 8,
   "metadata": {},
   "outputs": [
    {
     "name": "stdout",
     "output_type": "stream",
     "text": [
      "Download and extraction completed for stinkbug shapefile\n"
     ]
    }
   ],
   "source": [
    "# Define the URL and local directory\n",
    "url = \"https://resources.gisdata.mn.gov/pub/gdrs/data/pub/us_mn_state_mda/biota_bmsb/shp_biota_bmsb.zip\"\n",
    "local_directory = r\"C:\\final_project\"\n",
    "\n",
    "# Function to download a file from a URL\n",
    "def download_file(url, local_directory):\n",
    "    response = requests.get(url)\n",
    "    file_name = os.path.join(local_directory, url.split(\"/\")[-1])\n",
    "\n",
    "    with open(file_name, \"wb\") as f:\n",
    "        f.write(response.content)\n",
    "    return file_name\n",
    "\n",
    "# Function to unzip a file\n",
    "def unzip_file(file_path, destination):\n",
    "    with ZipFile(file_path, \"r\") as zip_ref:\n",
    "        zip_ref.extractall(destination)\n",
    "\n",
    "# Create the local directory if it doesn't exist\n",
    "if not os.path.exists(local_directory):\n",
    "    os.makedirs(local_directory)\n",
    "\n",
    "# Download the file and unzip it\n",
    "zip_file_path = download_file(url, local_directory)\n",
    "unzip_file(zip_file_path, local_directory)\n",
    "\n",
    "print(\"Download and extraction completed for stinkbug shapefile\")\n"
   ]
  },
  {
   "cell_type": "markdown",
   "metadata": {},
   "source": [
    "# QAQC "
   ]
  },
  {
   "cell_type": "markdown",
   "metadata": {},
   "source": [
    "first step of the qaqc is to create a new column \"All\" that sums the \"Adults\" and \"Nymphs\" column together, and then create a \"ground trugh\" column based on \"All\" column\n",
    "\n",
    "Second step is to convert the city shapefile to 4326, select only cities and remove unnecesary fields and identify duplicate cities by sum their populatino and merge the duplicate cities polygons.\n",
    "\n",
    "Third step is to join the BMSB table to MN_Cities data and find the closest city to BMSB."
   ]
  },
  {
   "cell_type": "markdown",
   "metadata": {},
   "source": [
    "\n",
    "# BMSB data"
   ]
  },
  {
   "cell_type": "code",
   "execution_count": 9,
   "metadata": {},
   "outputs": [
    {
     "data": {
      "text/html": [
       "<div class='gpresult'><h2>Messages</h2><div id='messages' data-messages='[\"Start Time: Wednesday, April 26, 2023 4:37:30 PM\",\"Adding ALL to BMSBSurveyDataTable_XYTableToPoint...\",\"Succeeded at Wednesday, April 26, 2023 4:37:32 PM (Elapsed Time: 1.43 seconds)\"]' data-show='true'><div id = 'default' /></div></div>"
      ],
      "text/plain": [
       "<Result 'BMSBSurveyDataTable_XYTableToPoint'>"
      ]
     },
     "execution_count": 9,
     "metadata": {},
     "output_type": "execute_result"
    }
   ],
   "source": [
    "# Convert BMSB table to point\n",
    "arcpy.management.XYTableToPoint(\"BMSBSurveyDataTable\", r\"C:\\Users\\Maochuan\\OneDrive\\文档\\ArcGIS\\Projects\\arc2_final_project\\arc2_final_project.gdb\\BMSBSurveyDataTable_XYTableToPoint\", \"Longitude\", \"Latitude\", None, 'GEOGCS[\"GCS_WGS_1984\",DATUM[\"D_WGS_1984\",SPHEROID[\"WGS_1984\",6378137.0,298.257223563]],PRIMEM[\"Greenwich\",0.0],UNIT[\"Degree\",0.0174532925199433]];-400 -400 1000000000;-100000 10000;-100000 10000;8.98315284119521E-09;0.001;0.001;IsHighPrecision')\n",
    "\n",
    "# creating a new column that sums the \"Adults\" and \"Nymphs\"\n",
    "arcpy.management.CalculateField(\"BMSBSurveyDataTable_XYTableToPoint\", \"ALL\", \"!Adults! + !Nymphs!\", \"PYTHON3\", '', \"SHORT\", \"NO_ENFORCE_DOMAINS\")\n"
   ]
  },
  {
   "cell_type": "code",
   "execution_count": 10,
   "metadata": {},
   "outputs": [
    {
     "data": {
      "text/html": [
       "<div class='gpresult'><h2>Messages</h2><div id='messages' data-messages='[\"Start Time: Wednesday, April 26, 2023 4:43:55 PM\",\"Succeeded at Wednesday, April 26, 2023 4:43:58 PM (Elapsed Time: 2.94 seconds)\"]' data-show='true'><div id = 'default' /></div></div>"
      ],
      "text/plain": [
       "<Result 'BMSBSurveyDataTable_XYTableToPoint'>"
      ]
     },
     "execution_count": 10,
     "metadata": {},
     "output_type": "execute_result"
    }
   ],
   "source": [
    "#creating a ground truth column based on the \"ALL\" and uses the following 'codeblock' to populate \"G_Truth\"\n",
    "codeblock = \"\"\"\n",
    "def getClass(column):\n",
    "    if int(column) == 0:\n",
    "        return 0\n",
    "    elif int(column) >= 1:\n",
    "        return 1\"\"\"    \n",
    "\n",
    "arcpy.management.CalculateField(\"BMSBSurveyDataTable_XYTableToPoint\", \"G_Truth\", \"getClass(!ALL!)\", \"PYTHON3\", codeblock, \"SHORT\", \"NO_ENFORCE_DOMAINS\")\n",
    "#delete unneeded columns within BMSB data \n",
    "arcpy.management.DeleteField(\"BMSBSurveyDataTable_XYTableToPoint\", \"City;Year;CheckDate;Adults;Nymphs;ALL;G_Truth\", \"KEEP_FIELDS\")"
   ]
  },
  {
   "cell_type": "code",
   "execution_count": 18,
   "metadata": {},
   "outputs": [
    {
     "data": {
      "text/html": [
       "<div class='gpresult'><h2>Messages</h2><div id='messages' data-messages='[\"Start Time: Wednesday, April 26, 2023 5:02:55 PM\",\"Succeeded at Wednesday, April 26, 2023 5:02:56 PM (Elapsed Time: 0.16 seconds)\"]' data-show='true'><div id = 'default' /></div></div>"
      ],
      "text/plain": [
       "<Result 'MN_Cities_dissolve_Project'>"
      ]
     },
     "execution_count": 18,
     "metadata": {},
     "output_type": "execute_result"
    }
   ],
   "source": [
    "#saves just the polygons for cities within MN\n",
    "arcpy.conversion.FeatureClassToFeatureClass(\"city_township_unorg\", r\"C:\\final_project\", \"MN_Cities.shp\", \"CTU_CLASS = 'CITY'\", 'GNIS_FEATU \"GNIS_FEATU\" true true false 10 Long 0 10,First,#,city_township_unorg,GNIS_FEATU,-1,-1;FEATURE_NA \"FEATURE_NA\" true true false 254 Text 0 0,First,#,city_township_unorg,FEATURE_NA,0,254;CTU_CLASS \"CTU_CLASS\" true true false 25 Text 0 0,First,#,city_township_unorg,CTU_CLASS,0,25;COUNTY_GNI \"COUNTY_GNI\" true true false 10 Long 0 10,First,#,city_township_unorg,COUNTY_GNI,-1,-1;COUNTY_COD \"COUNTY_COD\" true true false 2 Text 0 0,First,#,city_township_unorg,COUNTY_COD,0,2;COUNTY_NAM \"COUNTY_NAM\" true true false 100 Text 0 0,First,#,city_township_unorg,COUNTY_NAM,0,100;POPULATION \"POPULATION\" true true false 10 Long 0 10,First,#,city_township_unorg,POPULATION,-1,-1;SHAPE_Leng \"SHAPE_Leng\" true true false 19 Double 0 0,First,#,city_township_unorg,SHAPE_Leng,-1,-1;SHAPE_Area \"SHAPE_Area\" true true false 19 Double 0 0,First,#,city_township_unorg,SHAPE_Area,-1,-1', '')\n",
    "\n",
    "#converts \"MN_Cities\" spatial reference system to 4326\n",
    "arcpy.management.Project(\"MN_Cities\", r\"C:\\Users\\Maochuan\\OneDrive\\文档\\ArcGIS\\Projects\\arc2_final_project\\arc2_final_project.gdb\\MN_Cities_Project\", 'GEOGCS[\"GCS_WGS_1984\",DATUM[\"D_WGS_1984\",SPHEROID[\"WGS_1984\",6378137.0,298.257223563]],PRIMEM[\"Greenwich\",0.0],UNIT[\"Degree\",0.0174532925199433]]', \"WGS_1984_(ITRF00)_To_NAD_1983\", 'PROJCS[\"NAD_1983_UTM_Zone_15N\",GEOGCS[\"GCS_North_American_1983\",DATUM[\"D_North_American_1983\",SPHEROID[\"GRS_1980\",6378137.0,298.257222101]],PRIMEM[\"Greenwich\",0.0],UNIT[\"Degree\",0.0174532925199433]],PROJECTION[\"Transverse_Mercator\"],PARAMETER[\"False_Easting\",500000.0],PARAMETER[\"False_Northing\",0.0],PARAMETER[\"Central_Meridian\",-93.0],PARAMETER[\"Scale_Factor\",0.9996],PARAMETER[\"Latitude_Of_Origin\",0.0],UNIT[\"Meter\",1.0]]', \"NO_PRESERVE_SHAPE\", None, \"NO_VERTICAL\")\n",
    "\n",
    "# make a new field then copy the old field values into the new one (enables me to rename 'Feature_NA' to 'City_SJ')\n",
    "arcpy.management.CalculateField(\"MN_Cities_Project\", \"CITY_SJ\", \"!FEATURE_NA!\", \"PYTHON3\", '', \"TEXT\", \"NO_ENFORCE_DOMAINS\")\n",
    "\n",
    "#delete unnecessary columns\n",
    "arcpy.management.DeleteField(\"MN_Cities_Project\", \"CITY_SJ;POPULATION\", \"KEEP_FIELDS\")\n",
    "\n",
    "#removing duplicates cities by disolving the polygons that have the same 'CITY_SJ' \n",
    "arcpy.management.Dissolve(\"MN_Cities_Project\", \"MN_Cities_dissolve_Project\", \"CITY_SJ\", [[\"POPULATION\", 'SUM']],\"MULTI_PART\", \"DISSOLVE_LINES\")\n",
    "\n",
    "# make a new field then copy the old field values into the new one (enables me to rename 'Sum_Population' to 'POPULATION')\n",
    "arcpy.management.CalculateField(\"MN_Cities_dissolve_Project\", \"POPULATION\", \"!SUM_POPULATION!\", \"PYTHON3\", '', \"LONG\", \"NO_ENFORCE_DOMAINS\")\n",
    "\n",
    "#delete unnecessary columns ('SUM_POPULA')\n",
    "arcpy.management.DeleteField(\"MN_Cities_dissolve_Project\", \"CITY_SJ;POPULATION\", \"KEEP_FIELDS\")\n",
    "\n"
   ]
  },
  {
   "cell_type": "markdown",
   "metadata": {},
   "source": [
    "# Spatial Join"
   ]
  },
  {
   "cell_type": "code",
   "execution_count": 20,
   "metadata": {},
   "outputs": [
    {
     "data": {
      "text/html": [
       "<div class='gpresult'><h2>Messages</h2><div id='messages' data-messages='[\"Start Time: Wednesday, April 26, 2023 5:11:44 PM\",\"Succeeded at Wednesday, April 26, 2023 5:11:54 PM (Elapsed Time: 9.36 seconds)\"]' data-show='true'><div id = 'default' /></div></div>"
      ],
      "text/plain": [
       "<Result 'C:\\\\Users\\\\Maochuan\\\\OneDrive\\\\文档\\\\ArcGIS\\\\Projects\\\\arc2_final_project\\\\arc2_final_project.gdb\\\\BMSBSurveyDataTa_SpatialJoin1'>"
      ]
     },
     "execution_count": 20,
     "metadata": {},
     "output_type": "execute_result"
    }
   ],
   "source": [
    "#outputs a layer with MN_CITIES_dis_WGS columns (CITY_SJ, and Population) append to BMSB data\n",
    "targetFeatures = \"BMSBSurveyDataTable_XYTableToPoint\"\n",
    "joinFeatures = \"MN_Cities_dissolve_Project\"\n",
    "outfc =  r\"C:\\Users\\Maochuan\\OneDrive\\文档\\ArcGIS\\Projects\\arc2_final_project\\arc2_final_project.gdb\\BMSBSurveyDataTa_SpatialJoin1\"\n",
    "\n",
    "# Create a new fieldmappings and add the two input feature classes. (this appends the columns from joinFeatures)\n",
    "fieldmappings = arcpy.FieldMappings()\n",
    "fieldmappings.addTable(targetFeatures)\n",
    "fieldmappings.addTable(joinFeatures)\n",
    " \n",
    "#Run the Spatial Join tool, using the defaults for the join operation and join type\n",
    "arcpy.SpatialJoin_analysis(targetFeatures, joinFeatures, outfc, \"#\", \"#\", fieldmappings, \"CLOSEST_GEODESIC\")\n"
   ]
  },
  {
   "cell_type": "code",
   "execution_count": 21,
   "metadata": {},
   "outputs": [
    {
     "data": {
      "text/html": [
       "<div class='gpresult'><h2>Messages</h2><div id='messages' data-messages='[\"Start Time: Wednesday, April 26, 2023 5:21:23 PM\",\"Adding Rank to MN_Cities_Pts_Project...\",\"Succeeded at Wednesday, April 26, 2023 5:21:23 PM (Elapsed Time: 0.11 seconds)\"]' data-show='true'><div id = 'default' /></div></div>"
      ],
      "text/plain": [
       "<Result 'MN_Cities_Pts_Project'>"
      ]
     },
     "execution_count": 21,
     "metadata": {},
     "output_type": "execute_result"
    }
   ],
   "source": [
    "#convert each City to points (has been poylgons until now):\n",
    "arcpy.management.FeatureToPoint(\"MN_Cities_dissolve_Project\", \"MN_Cities_Pts_Project.shp\", \"CENTROID\")\n",
    "\n",
    "#Note: error:  The length of Field Name must not be larger than 10 --an issue only for \"BMSB_Sim100\"\n",
    "for i in range(0,50):\n",
    "    fieldname = \"BMSB_Sim\"+str(i)\n",
    "    arcpy.management.AddField(\"MN_Cities_Pts_Project\", fieldname, \"SHORT\", 1, None, None, '', \"NULLABLE\", \"NON_REQUIRED\", '')\n",
    "\n",
    "#adding accuracy/confusion matrix columns to sum for each cities 100 simulations\n",
    "col_list = ['overall_TP', 'overall_FP', 'overall_FN', 'overall_TN']\n",
    "for name in col_list:\n",
    "    arcpy.management.AddField(\"MN_Cities_Pts_Project\", name, \"SHORT\", 3, None, None, '', \"NULLABLE\", \"NON_REQUIRED\", '')\n",
    "    \n",
    "#creating a new column that calculates ranking each city based on its FP, and \n",
    "arcpy.management.AddField(\"MN_Cities_Pts_Project\", \"Presence\", \"DOUBLE\", None, None, None, '', \"NULLABLE\", \"NON_REQUIRED\", '')\n",
    "    \n",
    "#creating a new column that calculates the Accuracy for each cities' predictions\n",
    "arcpy.management.AddField(\"MN_Cities_Pts_Project\", \"Accuracy\", \"DOUBLE\", None, None, None, '', \"NULLABLE\", \"NON_REQUIRED\", '')\n",
    "\n",
    "#creating a new column that calculates ranking each city based on its FP, and \n",
    "arcpy.management.AddField(\"MN_Cities_Pts_Project\", \"Rank\", \"SHORT\", 3, None, None, '', \"NULLABLE\", \"NON_REQUIRED\", '')\n"
   ]
  },
  {
   "cell_type": "markdown",
   "metadata": {},
   "source": [
    "# Generate Near City Table"
   ]
  },
  {
   "cell_type": "code",
   "execution_count": 26,
   "metadata": {},
   "outputs": [
    {
     "data": {
      "text/html": [
       "<div class='gpresult'><h2>Messages</h2><div id='messages' data-messages='[\"Start Time: Wednesday, April 26, 2023 5:32:02 PM\",\"WARNING 000728: Field NEAR_RANK does not exist within table\",\"Succeeded at Wednesday, April 26, 2023 5:32:02 PM (Elapsed Time: 0.11 seconds)\"]' data-show='true'><div id = 'default' /></div></div>"
      ],
      "text/plain": [
       "<Result 'MN_Cities_Pts_NearTable'>"
      ]
     },
     "execution_count": 26,
     "metadata": {},
     "output_type": "execute_result"
    }
   ],
   "source": [
    "#code makes a table for every city pair\n",
    "arcpy.analysis.GenerateNearTable(\"MN_Cities_Pts_Project\", \"MN_Cities_Pts_Project\", \"MN_Cities_Pts_NearTable\", None, \"NO_LOCATION\", \"NO_ANGLE\", \"ALL\", 1000, \"GEODESIC\")\n",
    "\n",
    "#delete column \"NEAR_RANK\"\n",
    "arcpy.management.DeleteField(\"MN_Cities_Pts_NearTable\", \"NEAR_RANK\", \"DELETE_FIELDS\")"
   ]
  },
  {
   "cell_type": "code",
   "execution_count": 23,
   "metadata": {},
   "outputs": [
    {
     "name": "stdout",
     "output_type": "stream",
     "text": [
      "Duplicates removed\n",
      "364231\n"
     ]
    }
   ],
   "source": [
    "# Delete duplicate pairs of cities\n",
    "\n",
    "#set fields and feature class\n",
    "fields = ('IN_FID', 'NEAR_FID', 'NEAR_DIST')\n",
    "fc = \"MN_Cities_Pts_NearTable\"\n",
    "\n",
    "rowcount = 1\n",
    "with arcpy.da.UpdateCursor(fc, fields, sql_clause=(None, 'ORDER BY NEAR_DIST ASC')) as cursor:\n",
    "    for row in cursor:\n",
    "        if (rowcount % 2) == 0:\n",
    "            cursor.deleteRow()\n",
    "        rowcount += 1\n",
    "            \n",
    "print(\"Duplicates removed\")\n",
    "print(arcpy.management.GetCount(\"MN_Cities_Pts_NearTable\"))"
   ]
  },
  {
   "cell_type": "code",
   "execution_count": 28,
   "metadata": {},
   "outputs": [
    {
     "data": {
      "text/html": [
       "<div class='gpresult'><h2>Messages</h2><div id='messages' data-messages='[\"Start Time: Wednesday, April 26, 2023 5:39:09 PM\",\"Succeeded at Wednesday, April 26, 2023 5:39:09 PM (Elapsed Time: 0.22 seconds)\"]' data-show='true'><div id = 'default' /></div></div>"
      ],
      "text/plain": [
       "<Result 'MN_Cities_Pts_NearTable'>"
      ]
     },
     "execution_count": 28,
     "metadata": {},
     "output_type": "execute_result"
    }
   ],
   "source": [
    "#city 1: adding the city name fields (easier to read the name of the city istead of its FID)\n",
    "arcpy.management.JoinField(\"MN_Cities_Pts_NearTable\", \"IN_FID\", \"MN_Cities_Pts_Project\", \"FID\", \"CITY_SJ\")\n",
    "arcpy.management.AlterField(\"MN_Cities_Pts_NearTable\", \"CITY_SJ\", \"CITY_1\", \"CITY_1\", \"TEXT\", 512, \"NULLABLE\", \"DO_NOT_CLEAR\")\n",
    "#city2\n",
    "arcpy.management.JoinField(\"MN_Cities_Pts_NearTable\", \"NEAR_FID\", \"MN_Cities_Pts_Project\", \"FID\", \"CITY_SJ\")\n",
    "arcpy.management.AlterField(\"MN_Cities_Pts_NearTable\", \"CITY_SJ\", \"CITY_2\", \"CITY_2\", \"TEXT\", 512, \"NULLABLE\", \"DO_NOT_CLEAR\")"
   ]
  },
  {
   "cell_type": "code",
   "execution_count": 29,
   "metadata": {},
   "outputs": [
    {
     "data": {
      "text/html": [
       "<div class='gpresult'><h2>Messages</h2><div id='messages' data-messages='[\"Start Time: Wednesday, April 26, 2023 5:40:05 PM\",\"Adding TransProb to MN_Cities_Pts_NearTable...\",\"Succeeded at Wednesday, April 26, 2023 5:40:05 PM (Elapsed Time: 0.14 seconds)\"]' data-show='true'><div id = 'default' /></div></div>"
      ],
      "text/plain": [
       "<Result 'MN_Cities_Pts_NearTable'>"
      ]
     },
     "execution_count": 29,
     "metadata": {},
     "output_type": "execute_result"
    }
   ],
   "source": [
    "# adds probability column to near table\n",
    "# ONLY RUN ONCE\n",
    "fc = 'MN_Cities_Pts_NearTable'\n",
    "arcpy.management.AddField(fc, \"TransProb\", \"DOUBLE\", None, None, None, \"TransProb\", \"NULLABLE\", \"NON_REQUIRED\", '')"
   ]
  },
  {
   "cell_type": "code",
   "execution_count": 30,
   "metadata": {},
   "outputs": [
    {
     "data": {
      "text/html": [
       "<div class='gpresult'><h2>Messages</h2><div id='messages' data-messages='[\"Start Time: Wednesday, April 26, 2023 5:42:18 PM\",\"Succeeded at Wednesday, April 26, 2023 5:42:19 PM (Elapsed Time: 0.20 seconds)\"]' data-show='true'><div id = 'default' /></div></div>"
      ],
      "text/plain": [
       "<Result 'MN_Cities_Pts_NearTable'>"
      ]
     },
     "execution_count": 30,
     "metadata": {},
     "output_type": "execute_result"
    }
   ],
   "source": [
    "#JOIN CITY_1 population to near table\n",
    "arcpy.management.JoinField(\"MN_Cities_Pts_NearTable\", \"CITY_1\", \"MN_Cities_Pts_Project\", \"CITY_SJ\", \"POPULATION\")\n",
    "arcpy.management.AlterField(\"MN_Cities_Pts_NearTable\", \"POPULATION\", \"CITY_1_POP\", \"CITY_1_POP\", \"LONG\", 4, \"NULLABLE\", \"DO_NOT_CLEAR\")\n",
    "\n",
    "#JOIN CITY_2 population to near table\n",
    "arcpy.management.JoinField(\"MN_Cities_Pts_NearTable\", \"CITY_2\", \"MN_Cities_Pts_Project\", \"CITY_SJ\", \"POPULATION\")\n",
    "arcpy.management.AlterField(\"MN_Cities_Pts_NearTable\", \"POPULATION\", \"CITY_2_POP\", 'CITY_2_POP', \"LONG\", 4, \"NULLABLE\", \"DO_NOT_CLEAR\")"
   ]
  },
  {
   "cell_type": "markdown",
   "metadata": {},
   "source": [
    "# Huff Model"
   ]
  },
  {
   "cell_type": "code",
   "execution_count": 2,
   "metadata": {},
   "outputs": [],
   "source": [
    "def getPresence(fc, fields, SimCol):\n",
    "    '''\n",
    "    looking through current simulation layer and organizes cities into Absence or Presence lists\n",
    "    '''\n",
    "    presenceList = []\n",
    "    absenceList = []\n",
    "\n",
    "    with arcpy.da.SearchCursor(fc, fields) as cursor:\n",
    "        for row in cursor:\n",
    "            if row[2] == 1:\n",
    "                presenceList.append(row[0])\n",
    "            else:\n",
    "                absenceList.append(row[0])\n",
    "    return presenceList, absenceList\n"
   ]
  },
  {
   "cell_type": "code",
   "execution_count": 3,
   "metadata": {},
   "outputs": [],
   "source": [
    "def runModel(fc, fields, presenceList, absenceList):\n",
    "    '''\n",
    "    Uses presence and absence list, to check the relationship between each pair of cities (we only care to check \n",
    "    cities with 0-1 or 1-0). If we find Cities pairs that meet this requirement, then we test its Huff probability against a \n",
    "    random number to determine if the destCity will now be presence.\n",
    "    \n",
    "    returns a list of Cities that BMSB spreads to\n",
    "    '''\n",
    "    \n",
    "    spreadList = [] #initialize spreadList\n",
    "    \n",
    "    \n",
    "    with arcpy.da.SearchCursor(fc, fields) as cursor:\n",
    "\n",
    "        for row in cursor:\n",
    "            if row[0] in presenceList:\n",
    "                destCity = row[1]\n",
    "\n",
    "            elif row[1] in presenceList:\n",
    "                destCity = row[0]\n",
    "\n",
    "            else:\n",
    "                continue\n",
    "\n",
    "            TransProb = row[2]\n",
    "\n",
    "            if destCity in absenceList:\n",
    "#                 print('destCity TransProb is being tested')\n",
    "                if TransProb >= random.random():\n",
    "                    spreadList.append(destCity)         \n",
    "    \n",
    "    return spreadList"
   ]
  },
  {
   "cell_type": "code",
   "execution_count": 4,
   "metadata": {},
   "outputs": [],
   "source": [
    "def updateSim(fc, fields, spreadList):\n",
    "    '''\n",
    "    using the returned 'Spreadlist' to update MN_CIties_Pts_WGS\n",
    "    '''\n",
    "    \n",
    "    with arcpy.da.UpdateCursor(fc, fields) as cursor:\n",
    "        for row in cursor:\n",
    "            if row[0] in spreadList:\n",
    "                row[1] = 1\n",
    "                cursor.updateRow(row)"
   ]
  },
  {
   "cell_type": "code",
   "execution_count": 5,
   "metadata": {},
   "outputs": [],
   "source": [
    "def calculateHuff(fc, fields, alpha):\n",
    "    '''\n",
    "    calculates the transfer probabilities (updates the \"TransProb\" column in 'MN_Cities_Pts_NearTable')\n",
    "    '''\n",
    "    HuffDenominator = 0\n",
    "    \n",
    "    #first calculate HuffDenominator from sum of HuffNumerators in city pairs\n",
    "    # looking through Neartable\n",
    "    with arcpy.da.SearchCursor(fc, fields) as cursor:\n",
    "        \n",
    "        for row in cursor:\n",
    "            \n",
    "            #assign values\n",
    "            city1Pop = row[3]\n",
    "            city2Pop = row[4]\n",
    "            distance = row[0]\n",
    "            \n",
    "            #calculate HuffNumerator and add to HuffDenominator\n",
    "            HuffNumerator = ((city1Pop * city2Pop) / (distance ** alpha))\n",
    "            HuffDenominator += HuffNumerator\n",
    "    \n",
    "    #use UpdateCursor to calculate and assign probability of transfer for city pairs\n",
    "    with arcpy.da.UpdateCursor(fc, fields) as cursor:\n",
    "        \n",
    "        for row in cursor:\n",
    "            \n",
    "            #assign values\n",
    "            city1Pop = row[3]\n",
    "            city2Pop = row[4]\n",
    "            distance = row[0]\n",
    "            \n",
    "            #calculate transProb and update row\n",
    "            HuffNumerator = ((city1Pop * city2Pop) / (distance ** alpha))\n",
    "            \n",
    "            #emulates the idea of running daily timesteps (without having to run 1800 timesteps for true daily outputs)\n",
    "            scalar = 30 # SET SCALAR MANUALLY\n",
    "            \n",
    "            row[5] = scalar * (HuffNumerator / HuffDenominator)\n",
    "            cursor.updateRow(row)"
   ]
  },
  {
   "cell_type": "code",
   "execution_count": 6,
   "metadata": {},
   "outputs": [
    {
     "name": "stdout",
     "output_type": "stream",
     "text": [
      "Running...\n",
      "Complete\n"
     ]
    }
   ],
   "source": [
    "#Calculates and Stores 'Transfer Probabilities' for all city pairs\n",
    "\n",
    "fc = 'MN_Cities_Pts_NearTable'\n",
    "fields = ['NEAR_DIST', 'CITY_1', 'CITY_2','CITY_1_POP', 'CITY_2_POP', 'TransProb']\n",
    "alpha = 2\n",
    "\n",
    "print('Running...')\n",
    "calculateHuff(fc, fields, alpha)\n",
    "print('Complete')"
   ]
  },
  {
   "cell_type": "code",
   "execution_count": 7,
   "metadata": {},
   "outputs": [
    {
     "name": "stdout",
     "output_type": "stream",
     "text": [
      "Sim 0 | Step 0: ['Fridley', 'Maple Grove', 'Golden Valley', 'Saint Louis Park', 'Edina', 'Crystal', 'Saint Paul', 'New Brighton', 'Newport', 'Nowthen', 'Richfield']\n",
      "Sim 0 | Step 1: ['Eagan', 'Inver Grove Heights', 'Lake Elmo', 'Maplewood', 'Arden Hills', 'Rochester', 'Minnetonka', 'Plymouth', 'Plymouth', 'Robbinsdale', 'West Saint Paul', 'Roseville', 'North Saint Paul', 'Woodbury']\n",
      "Sim 0 | Step 2: ['Blaine', 'Coon Rapids', 'South Saint Paul', 'Mahtomedi', 'Brooklyn Park', 'Bloomington', 'Shoreview', 'Northfield', 'Little Canada']\n",
      "Sim 0 | Step 3: ['Eden Prairie', 'Brooklyn Center', 'Brooklyn Center', 'Centerville', 'Forest Lake', 'Grant', 'Hopkins', 'Lino Lakes', 'Saint Anthony', 'Savage', 'Mounds View', 'Oakdale', 'Andover', 'Mendota Heights']\n",
      "Sim 0 | Step 4: ['Buffalo', 'Rosemount', 'Shakopee']\n",
      "Sim 0 | Step 5: ['Apple Valley', 'Prior Lake', 'Champlin', 'Columbia Heights', 'Columbia Heights', 'Falcon Heights', 'Lilydale', 'White Bear Lake', 'Falcon Heights', 'Prior Lake', 'New Hope', 'Oak Grove', 'Saint Paul Park']\n",
      "Sim 0 | Step 6: ['Austin', 'Burnsville', 'Burnsville', 'Cottage Grove', 'Hibbing', 'Elk River', 'Hugo', 'Otsego', 'Wayzata']\n",
      "Sim 0 | Step 7: ['Albertville', 'Hilltop', 'Lexington', 'Shorewood', 'Vadnais Heights', 'Saint Augusta', 'Spring Lake Park', 'Landfall']\n",
      "Sim 0 | Step 8: ['Le Sueur', 'Chaska', 'Lakeville', 'Lakeville', 'Ramsey', 'Gem Lake', 'Ham Lake']\n",
      "Sim 0 | Step 9: ['Anoka']\n",
      "Sim 0 | Step 10: ['Chanhassen']\n",
      "Sim 0 | Step 11: ['Farmington', 'Hanover', 'Farmington', 'Greenfield', 'Spring Park']\n",
      "Simulation Complete\n",
      "All Simulations Complete\n",
      "--- 43.1188268661499 seconds ---\n"
     ]
    }
   ],
   "source": [
    "start_time = time.time()\n",
    "\n",
    "#run 100 simulations\n",
    "for i in range(0,1):\n",
    "    \n",
    "    SimCol = 'BMSB_Sim'+str(i)\n",
    "\n",
    "\n",
    "    #populate Sim column with seed city\n",
    "    fc = 'MN_Cities_Pts_Project'\n",
    "    seed = \"Minneapolis\" #SEED CITY DEFINED MANUALLY\n",
    "    fields = ['CITY_SJ', 'POPULATION', SimCol]\n",
    "\n",
    "    with arcpy.da.UpdateCursor(fc, fields) as cursor:\n",
    "        for row in cursor:\n",
    "            if row[0] == seed:\n",
    "                row[2] = 1\n",
    "            else:\n",
    "                row[2] = 0\n",
    "            cursor.updateRow(row)\n",
    "\n",
    "    timestep = 12 #SET NUMBER OF TIMESTEPS\n",
    "                    # 5 years = 60months = 260 weeks = 1825 days\n",
    "\n",
    "    for k in range(0, timestep):\n",
    "\n",
    "        fc = 'MN_Cities_Pts_Project'\n",
    "        fields = ['CITY_SJ', 'POPULATION', SimCol]\n",
    "\n",
    "        presenceList, absenceList = getPresence(fc, fields, SimCol)\n",
    "\n",
    "        # simulate spread in a single timestep\n",
    "        fc = 'MN_Cities_Pts_NearTable'\n",
    "        fields = ['CITY_1', 'CITY_2','TransProb']\n",
    "\n",
    "        spreadList = runModel(fc, fields, presenceList, absenceList)\n",
    "        print(\"Sim \" +str(i) +\" | Step \" + str(k) + \": \" + str(spreadList))\n",
    "\n",
    "        # update spread in a single timestep\n",
    "        fc = 'MN_Cities_Pts_Project'\n",
    "        fields = ['CITY_SJ', SimCol]\n",
    "\n",
    "        updateSim(fc, fields, spreadList)\n",
    "\n",
    "    print('Simulation Complete')\n",
    "print(\"All Simulations Complete\")\n",
    "print(\"--- %s seconds ---\" % (time.time() - start_time))"
   ]
  },
  {
   "cell_type": "code",
   "execution_count": null,
   "metadata": {},
   "outputs": [],
   "source": []
  },
  {
   "cell_type": "code",
   "execution_count": null,
   "metadata": {},
   "outputs": [],
   "source": []
  },
  {
   "cell_type": "code",
   "execution_count": null,
   "metadata": {},
   "outputs": [],
   "source": []
  },
  {
   "cell_type": "code",
   "execution_count": null,
   "metadata": {},
   "outputs": [],
   "source": []
  }
 ],
 "metadata": {
  "kernelspec": {
   "display_name": "ArcGISPro",
   "language": "Python",
   "name": "python3"
  },
  "language_info": {
   "file_extension": ".py",
   "name": "python",
   "version": "3"
  }
 },
 "nbformat": 4,
 "nbformat_minor": 2
}
