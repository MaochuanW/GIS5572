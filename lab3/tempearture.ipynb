{
 "cells": [
  {
   "cell_type": "code",
   "execution_count": 7,
   "metadata": {},
   "outputs": [],
   "source": [
    "import psycopg2\n",
    "import arcpy\n",
    "import arcgis\n",
    "import pandas as pd\n",
    "import numpy as np\n",
    "import datetime\n",
    "import requests\n",
    "import matplotlib.pyplot as plt\n",
    "import pyodbc\n",
    "import os\n",
    "import warnings\n",
    "import subprocess\n",
    "import sys\n",
    "import psycopg2"
   ]
  },
  {
   "cell_type": "markdown",
   "metadata": {},
   "source": [
    "GET DATA FROM POSTGIS"
   ]
  },
  {
   "cell_type": "code",
   "execution_count": 71,
   "metadata": {},
   "outputs": [],
   "source": [
    "# Set up the PostgreSQL connection\n",
    "connection = psycopg2.connect(host = '35.223.186.20',\n",
    "                             database = 'postgres',\n",
    "                             user = 'postgres',\n",
    "                             password = '139571wang')\n",
    "\n",
    "cur = connection.cursor()\n",
    "cur.execute(\"SELECT * FROM temperature_df\")\n",
    "rows = cur.fetchall()\n",
    "\n",
    "#transform to pd dataframe and aggregate data\n",
    "rows = pd.DataFrame(rows)\n",
    "rows.columns = ['id','date','name','max_tmpf','min_tmpf','x','y','month']\n",
    "rows = rows[rows['month']==3].reset_index(drop=True)\n",
    "\n",
    "rows_agg = rows.groupby('id')[['max_tmpf','min_tmpf']].mean().reset_index()\n",
    "\n",
    "rows = pd.merge(left = rows_agg, right=rows[['id','name','x','y']].drop_duplicates(), how='left',left_on=['id'], right_on=['id'])"
   ]
  },
  {
   "cell_type": "code",
   "execution_count": 80,
   "metadata": {},
   "outputs": [],
   "source": [
    "arcpy.env.workspace = r\"C:\\Users\\Maochuan\\OneDrive\\文档\\ArcGIS\\Projects\\arc2_lab3\\arc2_lab3.gdb\"\n",
    "\n",
    "sr = arcpy.SpatialReference(4326) # WGS 1984\n",
    "\n",
    "# create a new feature class\n",
    "arcpy.CreateFeatureclass_management(arcpy.env.workspace, \"temperature\", \"POINT\",spatial_reference=sr)\n",
    "\n",
    "# add fields to the feature class\n",
    "arcpy.AddField_management(r\"C:\\Users\\Maochuan\\OneDrive\\桌面\\lab3\\temperature.shp\", \"station_id\", \"Text\")\n",
    "arcpy.AddField_management(r\"C:\\Users\\Maochuan\\OneDrive\\桌面\\lab3\\temperature.shp\", \"name\", \"Text\")\n",
    "arcpy.AddField_management(r\"C:\\Users\\Maochuan\\OneDrive\\桌面\\lab3\\temperature.shp\", \"max_tmpf\", \"Double\")\n",
    "arcpy.AddField_management(r\"C:\\Users\\Maochuan\\OneDrive\\桌面\\lab3\\temperature.shpp\", \"min_tmpf\", 'Double')\n",
    "\n",
    "# insert data into the feature class\n",
    "cursor = arcpy.da.InsertCursor(r\"C:\\Users\\Maochuan\\OneDrive\\桌面\\lab3\\temperature.shp\", [\"SHAPE@\", \"station_id\", \"name\",\"max_tmpf\",'min_tmpf'])\n",
    "for index,row in rows.iterrows():\n",
    "    point = arcpy.Point(row[4], row[5])\n",
    "    cursor.insertRow([point, row[0], row[3],row[1], row[2]])\n",
    "del cursor\n",
    "\n",
    "\n",
    "cur.close()\n",
    "connection.close()"
   ]
  },
  {
   "cell_type": "markdown",
   "metadata": {},
   "source": [
    "IDW INTERPORLATION"
   ]
  },
  {
   "cell_type": "code",
   "execution_count": 17,
   "metadata": {},
   "outputs": [
    {
     "data": {
      "text/html": [
       "<div class='gpresult'><h2>Messages</h2><div id='messages' data-messages='[\"Start Time: Wednesday, April 12, 2023 8:09:16 PM\",\"Succeeded at Wednesday, April 12, 2023 8:09:17 PM (Elapsed Time: 1.39 seconds)\"]' data-show='true'><div id = 'default' /></div></div>"
      ],
      "text/plain": [
       "<Result 'C:\\\\test\\\\temperature_idw.lyr'>"
      ]
     },
     "execution_count": 17,
     "metadata": {},
     "output_type": "execute_result"
    }
   ],
   "source": [
    "arcpy.ga.IDW(\"temperature\", \"max_tmpf\", r\"C:\\test\\temperature_idw.lyr\", r\"C:\\test\\temperature_idw.tif\", 0.0218500823976, 2, \"NBRTYPE=Standard S_MAJOR=2.32298811026612 S_MINOR=2.32298811026612 ANGLE=0 NBR_MAX=15 NBR_MIN=10 SECTOR_TYPE=ONE_SECTOR\", None)"
   ]
  },
  {
   "cell_type": "markdown",
   "metadata": {},
   "source": [
    "KRIGING"
   ]
  },
  {
   "cell_type": "code",
   "execution_count": 18,
   "metadata": {},
   "outputs": [
    {
     "data": {
      "text/html": [
       "<div class='gpresult'><h2>Messages</h2><div id='messages' data-messages='[\"Start Time: Wednesday, April 12, 2023 8:11:11 PM\",\"\\r\\nWarning(s) for dataset: Length of the radius of the search circle = 2.5858e+05 meters.\",\"Succeeded at Wednesday, April 12, 2023 8:11:39 PM (Elapsed Time: 27.24 seconds)\"]' data-show='true'><div id = 'default' /></div></div>"
      ],
      "text/plain": [
       "<Result 'C:\\\\test\\\\kriging_geo.lyr'>"
      ]
     },
     "execution_count": 18,
     "metadata": {},
     "output_type": "execute_result"
    }
   ],
   "source": [
    "arcpy.ga.EmpiricalBayesianKriging(\"temperature\", \"max_tmpf\", r\"C:\\test\\kriging_geo.lyr\", r\"C:\\test\\kriging.tif\", 0.0218500823976, \"NONE\", 100, 1, 100, \"NBRTYPE=StandardCircular RADIUS=2.32298811026612 ANGLE=0 NBR_MAX=15 NBR_MIN=10 SECTOR_TYPE=ONE_SECTOR\", \"PREDICTION\", 0.5, \"EXCEED\", None, \"POWER\")"
   ]
  },
  {
   "cell_type": "markdown",
   "metadata": {},
   "source": [
    "RADIAL BASIS FUNCTIONS"
   ]
  },
  {
   "cell_type": "code",
   "execution_count": 84,
   "metadata": {},
   "outputs": [
    {
     "data": {
      "text/html": [
       "<div class='gpresult'><h2>Messages</h2><div id='messages' data-messages='[\"Start Time: Wednesday, April 12, 2023 1:20:12 PM\",\"Succeeded at Wednesday, April 12, 2023 1:20:15 PM (Elapsed Time: 3.55 seconds)\"]' data-show='true'><div id = 'default' /></div></div>"
      ],
      "text/plain": [
       "<Result 'temperature_RBF_geo.lyr'>"
      ]
     },
     "execution_count": 84,
     "metadata": {},
     "output_type": "execute_result"
    }
   ],
   "source": [
    "arcpy.ga.RadialBasisFunctions(\"temperature\", \"max_tmpf\", r\"C:\\test\\RBF_geo.lyr\", r\"C:\\test\\RBF.tif\", 0.0218500823976, \"NBRTYPE=Standard S_MAJOR=2.32298811026612 S_MINOR=2.32298811026612 ANGLE=0 NBR_MAX=15 NBR_MIN=10 SECTOR_TYPE=ONE_SECTOR\", \"COMPLETELY_REGULARIZED_SPLINE\", None)"
   ]
  },
  {
   "cell_type": "markdown",
   "metadata": {},
   "source": [
    "ASSESMENT (CROSS VALIDATION)"
   ]
  },
  {
   "cell_type": "code",
   "execution_count": 20,
   "metadata": {},
   "outputs": [
    {
     "data": {
      "text/html": [
       "<div class='gpresult'><h2>Messages</h2><div id='messages' data-messages='[\"Start Time: Wednesday, April 12, 2023 8:15:07 PM\",\"Count = 153\",\"Mean error = 0.0625345218701091\",\"Root mean square = 1.4526274613315233\",\"Average standard = NaN\",\"Mean standardized = NaN\",\"Root mean square standardized = NaN\",\"Percent in 90% Interval = NaN\",\"Percent in 95% Interval = NaN\",\"Average CRPS = NaN\",\"Succeeded at Wednesday, April 12, 2023 8:15:07 PM (Elapsed Time: 0.10 seconds)\"]' data-show='true'><div id = 'default' /></div></div>"
      ],
      "text/plain": [
       "<Result 'C:\\\\test\\\\RBF_CV.shp'>"
      ]
     },
     "execution_count": 20,
     "metadata": {},
     "output_type": "execute_result"
    }
   ],
   "source": [
    "arcpy.ga.CrossValidation(r\"C:\\test\\temperature_idw.lyr\", r\"C:\\test\\IDW_CV.shp\")\n",
    "arcpy.ga.CrossValidation(r\"C:\\test\\kriging_geo.lyr\", r\"C:\\test\\Kriging_CV.shp\")\n",
    "arcpy.ga.CrossValidation(r\"C:\\test\\RBF_geo.lyr\", r\"C:\\test\\RBF_CV.shp\")"
   ]
  },
  {
   "cell_type": "markdown",
   "metadata": {},
   "source": [
    "CALCULATE RMSE AND COMPARE"
   ]
  },
  {
   "cell_type": "code",
   "execution_count": 13,
   "metadata": {},
   "outputs": [
    {
     "name": "stdout",
     "output_type": "stream",
     "text": [
      "The RMSE for IDW is: 1.5042421137517141\n",
      "The RMSE for Kriging is: 1.4072889938385105\n",
      "The RMSE for RBF is: 1.4526274613313865\n"
     ]
    }
   ],
   "source": [
    "# Convert attribute table to a NumPy array and pd DataFrame\n",
    "idw_cv_array = arcpy.da.FeatureClassToNumPyArray(r\"C:\\test\\IDW_CV.shp\", [\"FID\", \"Error\"])\n",
    "idw_cv_pd = pd.DataFrame(idw_cv_array, columns=[\"FID\", \"Error\"])\n",
    "\n",
    "Kriging_cv_array = arcpy.da.FeatureClassToNumPyArray(r\"C:\\test\\Kriging_cv.shp\", [\"FID\", \"Error\"])\n",
    "Kriging_cv_pd = pd.DataFrame(Kriging_cv_array, columns=[\"FID\", \"Error\"])\n",
    "\n",
    "RBF_cv_array = arcpy.da.FeatureClassToNumPyArray(r\"C:\\test\\RBF_cv.shp\", [\"FID\", \"Error\"])\n",
    "RBF_cv_pd = pd.DataFrame(RBF_cv_array, columns=[\"FID\", \"Error\"])\n",
    "\n",
    "# Calculate squared error\n",
    "idw_cv_pd['squared_error'] = idw_cv_pd['Error'] ** 2\n",
    "Kriging_cv_pd['squared_error'] = Kriging_cv_pd['Error'] ** 2\n",
    "RBF_cv_pd['squared_error'] = RBF_cv_pd['Error'] ** 2\n",
    "\n",
    "# Calculate RMSE\n",
    "idw_rmse = numpy.sqrt(idw_cv_pd['squared_error'].mean())\n",
    "Kriging_rmse = numpy.sqrt(Kriging_cv_pd['squared_error'].mean())\n",
    "RBF_rmse = numpy.sqrt(RBF_cv_pd['squared_error'].mean())\n",
    "\n",
    "#Print and compare results\n",
    "print(f'The RMSE for IDW is: {idw_rmse}')\n",
    "print(f'The RMSE for Kriging is: {Kriging_rmse}')\n",
    "print(f'The RMSE for RBF is: {RBF_rmse}')"
   ]
  },
  {
   "cell_type": "code",
   "execution_count": null,
   "metadata": {},
   "outputs": [],
   "source": [
    "# Set up the PostgreSQL connection\n",
    "connection = psycopg2.connect(host = '35.223.186.20',\n",
    "                             database = 'postgres',\n",
    "                             user = 'postgres',\n",
    "                             password = '139571wang')\n",
    "\n",
    "# Set the name of the new table in the PostgreSQL database\n",
    "output_table = \"temperature_assesment_table\"\n",
    "\n",
    "# Use psycopg2 to create the table in the PostgreSQL database\n",
    "cursor = connection.cursor()\n",
    "cursor.execute(f\"CREATE TABLE {output_table} (method text, rmse double precision)\")\n",
    "\n",
    "# Use psycopg2 to copy the data from the Geodatabase table to the PostgreSQL table\n",
    "cursor.execute(f\"INSERT INTO {output_table} (method, rmse) VALUES (%s, %s)\", ('IDW',idw_rmse))\n",
    "cursor.execute(f\"INSERT INTO {output_table} (method, rmse) VALUES (%s, %s)\", ('Kriging',Kriging_rmse))\n",
    "cursor.execute(f\"INSERT INTO {output_table} (method, rmse) VALUES (%s, %s)\", ('RBF',RBF_rmse))\n",
    "\n",
    "\n",
    "# Commit the changes to the PostgreSQL database\n",
    "connection.commit()\n",
    "\n",
    "# Close the PostgreSQL connection and cursor\n",
    "cursor.close()\n",
    "connection.close()"
   ]
  },
  {
   "cell_type": "code",
   "execution_count": 34,
   "metadata": {},
   "outputs": [],
   "source": [
    "import arcpy\n",
    "from arcpy.sa import *\n",
    "\n",
    "# Define input temperature data shapefile\n",
    "input_shapefile = r\"C:\\test\\temperature.shp\"\n",
    "\n",
    "# Define the max temperature field\n",
    "max_temperature_field = \"max_tmpf\"\n",
    "\n",
    "# Define Kriging interpolation raster\n",
    "kriging_output = r\"C:\\test\\kriging.tif\"\n",
    "\n",
    "# Define output difference point layer\n",
    "output_shapefile = r\"C:\\test\\tmp_krig_difference_point_layer.shp\"\n",
    "\n",
    "# Copy the original point data to the new point layer\n",
    "arcpy.CopyFeatures_management(input_shapefile, output_shapefile)\n",
    "\n",
    "# Extract Kriging values at point locations\n",
    "kriging_diff_temp = r\"C:\\test\\temp_krig_diff.shp\"\n",
    "ExtractValuesToPoints(output_shapefile, kriging_output, kriging_diff_temp)\n",
    "\n",
    "# Add a new field called \"difference\" to store the difference between max_tmpf and RASTERVALU\n",
    "arcpy.AddField_management(kriging_diff_temp, \"difference\", \"DOUBLE\")\n",
    "\n",
    "# Update the \"difference\" field with the value of max_tmpf - RASTERVALU for each row\n",
    "with arcpy.da.UpdateCursor(kriging_diff_temp, [\"max_tmpf\", \"RASTERVALU\", \"difference\"]) as cursor:\n",
    "    for row in cursor:\n",
    "        row[2] = row[0] - row[1]\n",
    "        cursor.updateRow(row)\n"
   ]
  },
  {
   "cell_type": "markdown",
   "metadata": {},
   "source": [
    "# Upload kriging to postgis database"
   ]
  },
  {
   "cell_type": "code",
   "execution_count": 21,
   "metadata": {},
   "outputs": [],
   "source": [
    "arcpy.ddd.Int(r\"C:\\test\\kriging.tif\", r\"C:\\test\\kriging_temperature_int.tif\")"
   ]
  },
  {
   "cell_type": "code",
   "execution_count": null,
   "metadata": {},
   "outputs": [],
   "source": [
    "arcpy.conversion.RasterToPolygon(r\"C:\\test\\kriging_temperature_int.tif\", r\"C:\\test\\kriging_polygon.shp\", \"SIMPLIFY\", \"Value\", \"SINGLE_OUTER_PART\", None)"
   ]
  },
  {
   "cell_type": "code",
   "execution_count": null,
   "metadata": {},
   "outputs": [],
   "source": [
    "arcpy.analysis.Clip(\"kriging_polygon\", r\"BOUNDARIES OF MINNESOTA\\STATE\", r\"C:\\test\\minnesota_kriging.shp\", None)"
   ]
  },
  {
   "cell_type": "code",
   "execution_count": null,
   "metadata": {},
   "outputs": [],
   "source": [
    "arcpy.management.Project(\"minnesota_kriging\", r\"C:\\test\\Kriging_Projected.shp\", 'GEOGCS[\"GCS_WGS_1984\",DATUM[\"D_WGS_1984\",SPHEROID[\"WGS_1984\",6378137.0,298.257223563]],PRIMEM[\"Greenwich\",0.0],UNIT[\"Degree\",0.0174532925199433]]', None, 'GEOGCS[\"GCS_WGS_1984\",DATUM[\"D_WGS_1984\",SPHEROID[\"WGS_1984\",6378137.0,298.257223563]],PRIMEM[\"Greenwich\",0.0],UNIT[\"Degree\",0.0174532925199433]]', \"NO_PRESERVE_SHAPE\", None, \"NO_VERTICAL\")"
   ]
  },
  {
   "cell_type": "code",
   "execution_count": 22,
   "metadata": {},
   "outputs": [
    {
     "name": "stdout",
     "output_type": "stream",
     "text": [
      "Return code: 0\n",
      "Error message: could not print result table: Invalid argument\n",
      "Field id is an FTDouble with width 10 and precision 0\n",
      "Field gridcode is an FTDouble with width 10 and precision 0\n",
      "Shapefile type: Polygon\n",
      "Postgis type: MULTIPOLYGON[2]\n",
      "\n"
     ]
    }
   ],
   "source": [
    "import subprocess\n",
    "import os\n",
    "\n",
    "# Set the necessary parameters\n",
    "shp2pgsql_path = r\"C:\\Program Files\\PostgreSQL\\15\\bin\\shp2pgsql.exe\"\n",
    "psql_path = r\"C:\\Program Files\\PostgreSQL\\15\\bin\\psql.exe\"\n",
    "shapefile_path = r\"C:\\test\\Kriging_Projected.shp\"\n",
    "srid = 4326\n",
    "schema_table = \"public.kriging_temperature\"\n",
    "host = \"35.223.186.20\"\n",
    "port = 5432\n",
    "user = \"postgres\"\n",
    "db_name = \"postgres\"\n",
    "password = \"139571wang\"\n",
    "\n",
    "# Build the shp2pgsql command\n",
    "shp2pgsql_command = f\"\\\"{shp2pgsql_path}\\\" -s {srid} {shapefile_path} {schema_table}\"\n",
    "\n",
    "# Build the psql command\n",
    "psql_command = f\"\\\"{psql_path}\\\" -h {host} -p {port} -U {user} -d {db_name} -w\"\n",
    "\n",
    "# Combine the commands using a pipe\n",
    "full_command = f\"{shp2pgsql_command} | {psql_command}\"\n",
    "\n",
    "# Set up the environment with the password\n",
    "env = os.environ.copy()\n",
    "env[\"PGPASSWORD\"] = password\n",
    "\n",
    "# Run the command using the subprocess module and capture stderr\n",
    "process = subprocess.Popen(full_command, shell=True, env=env, stderr=subprocess.PIPE)\n",
    "\n",
    "# Wait for the process to finish and capture the return code and stderr\n",
    "return_code = process.wait()\n",
    "stderr_output = process.stderr.read().decode()\n",
    "\n",
    "# Print the return code and error message\n",
    "print(f\"Return code: {return_code}\")\n",
    "print(f\"Error message: {stderr_output}\")\n"
   ]
  },
  {
   "cell_type": "code",
   "execution_count": null,
   "metadata": {},
   "outputs": [],
   "source": [
    "import psycopg2\n",
    "from flask import Flask, jsonify\n",
    "from psycopg2 import sql\n",
    "from psycopg2.extras import RealDictCursor\n",
    "\n",
    "app = Flask(__name__)\n",
    "\n",
    "@app.route('/temperature_kriging', methods=['GET'])\n",
    "def get_polygon():\n",
    "    conn = psycopg2.connect(host='35.223.186.20',\n",
    "                            database='postgres',\n",
    "                            user='postgres',\n",
    "                            password='139571wang')\n",
    "\n",
    "    cur = conn.cursor(cursor_factory=RealDictCursor)\n",
    "    cur.execute(sql.SQL(\"SELECT gridcode, ST_AsGeoJSON(geom)::json AS geometry FROM kriging_temperature\"))\n",
    "    result = cur.fetchall()\n",
    "    cur.close()\n",
    "    conn.close()\n",
    "    return jsonify(result)\n",
    "\n",
    "if __name__ == '__main__':\n",
    "    app.run(debug=True)\n"
   ]
  },
  {
   "cell_type": "code",
   "execution_count": 36,
   "metadata": {},
   "outputs": [
    {
     "name": "stdout",
     "output_type": "stream",
     "text": [
      "Output file path: C:\\Users\\Maochuan\\OneDrive\\桌面\\lab3\\temperature_kriging.geojson\n",
      "GeoJSON file saved as C:\\Users\\Maochuan\\OneDrive\\桌面\\lab3\\temperature_kriging.geojson\n"
     ]
    }
   ],
   "source": [
    "import requests\n",
    "import json\n",
    "import os\n",
    "\n",
    "# Replace this URL with the address of your Flask application\n",
    "url = \"http://34.27.164.176:5000/temperature_kriging\"\n",
    "response = requests.get(url)\n",
    "\n",
    "# Check if the request was successful\n",
    "if response.status_code == 200:\n",
    "    geojson_data = response.json()\n",
    "\n",
    "    # Save the GeoJSON to the specified folder and name it \"lab3_test.geojson\"\n",
    "    output_folder = r\"C:\\Users\\Maochuan\\OneDrive\\桌面\\lab3\"\n",
    "    output_file_path = os.path.join(output_folder, \"temperature_kriging.geojson\")\n",
    "    print(f\"Output file path: {output_file_path}\")\n",
    "\n",
    "    with open(output_file_path, \"w\") as f:\n",
    "        json.dump(geojson_data, f)\n",
    "    print(f\"GeoJSON file saved as {output_file_path}\")\n",
    "else:\n",
    "    print(\"Error fetching GeoJSON data\")\n"
   ]
  },
  {
   "cell_type": "code",
   "execution_count": 39,
   "metadata": {},
   "outputs": [],
   "source": [
    "import json\n",
    "\n",
    "# Read input JSON data from file\n",
    "with open(r'C:\\Users\\Maochuan\\OneDrive\\桌面\\lab3\\temperature_kriging.geojson', 'r') as input_file:\n",
    "    input_data = json.load(input_file)\n",
    "\n",
    "# Process input data and create output data\n",
    "output_data = {\n",
    "    \"type\": \"FeatureCollection\",\n",
    "    \"features\": [\n",
    "        {\n",
    "            \"type\": \"Feature\",\n",
    "            \"geometry\": {\n",
    "                \"type\": \"MultiPolygon\",\n",
    "                \"coordinates\": polygon_data[\"geometry\"][\"coordinates\"]\n",
    "            },\n",
    "            \"properties\": {\n",
    "                \"temperature\": polygon_data[\"gridcode\"]\n",
    "            }\n",
    "        }\n",
    "        for polygon_data in input_data\n",
    "    ]\n",
    "}\n",
    "\n",
    "# Write output JSON data to file\n",
    "with open(r'C:\\Users\\Maochuan\\OneDrive\\桌面\\lab3\\temperature_kriging_s.json', 'w') as output_file:\n",
    "    json.dump(output_data, output_file, indent=2)\n"
   ]
  },
  {
   "cell_type": "code",
   "execution_count": 40,
   "metadata": {},
   "outputs": [
    {
     "data": {
      "text/html": [
       "<div class='gpresult'><h2>Messages</h2><div id='messages' data-messages='[\"Start Time: Thursday, April 13, 2023 1:06:17 PM\",\"Succeeded at Thursday, April 13, 2023 1:06:17 PM (Elapsed Time: 0.24 seconds)\"]' data-show='true'><div id = 'default' /></div></div>"
      ],
      "text/plain": [
       "<Result 'C:\\\\test\\\\temperature_kriging_final.shp'>"
      ]
     },
     "execution_count": 40,
     "metadata": {},
     "output_type": "execute_result"
    }
   ],
   "source": [
    "arcpy.conversion.JSONToFeatures(r\"C:\\Users\\Maochuan\\OneDrive\\桌面\\lab3\\temperature_kriging_s.json\", r\"C:\\test\\temperature_kriging_final.shp\", \"POLYGON\")"
   ]
  },
  {
   "cell_type": "code",
   "execution_count": null,
   "metadata": {},
   "outputs": [],
   "source": [
    "import os\n",
    "import zipfile\n",
    "from arcgis.gis import GIS\n",
    "from arcgis.features import FeatureLayerCollection\n",
    "\n",
    "# Function to zip shapefile\n",
    "def zip_shapefile(shapefile_path):\n",
    "    with zipfile.ZipFile(shapefile_path + '.zip', 'w', zipfile.ZIP_DEFLATED) as zf:\n",
    "        for file_name in os.listdir(os.path.dirname(shapefile_path)):\n",
    "            if file_name.startswith(os.path.basename(shapefile_path).split('.')[0]) and not file_name.endswith('.zip'):\n",
    "                zf.write(os.path.join(os.path.dirname(shapefile_path), file_name), arcname=file_name)\n",
    "\n",
    "# Connect to your ArcGIS Online organization\n",
    "gis = GIS(\"home\")\n",
    "\n",
    "# Set the input shapefile path\n",
    "input_shapefile = r\"C:\\test\\temperature_kriging_final.shp\"\n",
    "\n",
    "# Zip the shapefile\n",
    "zip_shapefile(input_shapefile)\n",
    "\n",
    "# Upload the zipped shapefile as a new item\n",
    "item = gis.content.add({'type': 'Shapefile'}, input_shapefile + '.zip')\n",
    "\n",
    "# Publish the new item as a feature layer\n",
    "feature_layer_item = item.publish()\n",
    "\n",
    "# Get the feature layer URL and print it\n",
    "feature_layer_url = feature_layer_item.url\n",
    "print(feature_layer_url)\n"
   ]
  },
  {
   "cell_type": "markdown",
   "metadata": {},
   "source": [
    "# upload kriging accuracy assessment layer to postgis and upload to arconline"
   ]
  },
  {
   "cell_type": "code",
   "execution_count": 35,
   "metadata": {},
   "outputs": [
    {
     "name": "stdout",
     "output_type": "stream",
     "text": [
      "Return code: 0\n",
      "Error message: could not print result table: Invalid argument\n",
      "Field max_tmpf is an FTDouble with width 19 and precision 11\n",
      "Field min_tmpf is an FTDouble with width 19 and precision 11\n",
      "Field rastervalu is an FTDouble with width 13 and precision 11\n",
      "Field difference is an FTDouble with width 19 and precision 11\n",
      "Shapefile type: Point\n",
      "Postgis type: POINT[2]\n",
      "\n"
     ]
    }
   ],
   "source": [
    "import subprocess\n",
    "import os\n",
    "\n",
    "# Set the necessary parameters\n",
    "shp2pgsql_path = r\"C:\\Program Files\\PostgreSQL\\15\\bin\\shp2pgsql.exe\"\n",
    "psql_path = r\"C:\\Program Files\\PostgreSQL\\15\\bin\\psql.exe\"\n",
    "shapefile_path = r\"C:\\test\\tmp_krig_difference.shp\"\n",
    "srid = 4326\n",
    "schema_table = \"public.kriging_temperature_difference\"\n",
    "host = \"35.223.186.20\"\n",
    "port = 5432\n",
    "user = \"postgres\"\n",
    "db_name = \"postgres\"\n",
    "password = \"139571wang\"\n",
    "\n",
    "# Build the shp2pgsql command\n",
    "shp2pgsql_command = f\"\\\"{shp2pgsql_path}\\\" -s {srid} {shapefile_path} {schema_table}\"\n",
    "\n",
    "# Build the psql command\n",
    "psql_command = f\"\\\"{psql_path}\\\" -h {host} -p {port} -U {user} -d {db_name} -w\"\n",
    "\n",
    "# Combine the commands using a pipe\n",
    "full_command = f\"{shp2pgsql_command} | {psql_command}\"\n",
    "\n",
    "# Set up the environment with the password\n",
    "env = os.environ.copy()\n",
    "env[\"PGPASSWORD\"] = password\n",
    "\n",
    "# Run the command using the subprocess module and capture stderr\n",
    "process = subprocess.Popen(full_command, shell=True, env=env, stderr=subprocess.PIPE)\n",
    "\n",
    "# Wait for the process to finish and capture the return code and stderr\n",
    "return_code = process.wait()\n",
    "stderr_output = process.stderr.read().decode()\n",
    "\n",
    "# Print the return code and error message\n",
    "print(f\"Return code: {return_code}\")\n",
    "print(f\"Error message: {stderr_output}\")\n"
   ]
  },
  {
   "cell_type": "code",
   "execution_count": null,
   "metadata": {},
   "outputs": [],
   "source": [
    "import psycopg2\n",
    "from flask import Flask, jsonify\n",
    "from psycopg2 import sql\n",
    "from psycopg2.extras import RealDictCursor\n",
    "\n",
    "app = Flask(__name__)\n",
    "\n",
    "@app.route('/temperature_kriging_difference', methods=['GET'])\n",
    "def get_polygon():\n",
    "    conn = psycopg2.connect(host='35.223.186.20',\n",
    "                            database='postgres',\n",
    "                            user='postgres',\n",
    "                            password='139571wang')\n",
    "\n",
    "    cur = conn.cursor(cursor_factory=RealDictCursor)\n",
    "    cur.execute(sql.SQL(\"SELECT difference, ST_AsGeoJSON(geom)::json AS geometry FROM kriging_temperature_difference\"))\n",
    "    result = cur.fetchall()\n",
    "    cur.close()\n",
    "    conn.close()\n",
    "    return jsonify(result)\n",
    "\n",
    "if __name__ == '__main__':\n",
    "    app.run(debug=True)\n"
   ]
  },
  {
   "cell_type": "code",
   "execution_count": 31,
   "metadata": {},
   "outputs": [
    {
     "name": "stdout",
     "output_type": "stream",
     "text": [
      "Output file path: C:\\Users\\Maochuan\\OneDrive\\桌面\\lab3\\temperature_kriging_difference.geojson\n",
      "GeoJSON file saved as C:\\Users\\Maochuan\\OneDrive\\桌面\\lab3\\temperature_kriging_difference.geojson\n"
     ]
    }
   ],
   "source": [
    "import requests\n",
    "import json\n",
    "import os\n",
    "\n",
    "# Replace this URL with the address of your Flask application\n",
    "url = \"http://34.27.164.176:5000/temperature_kriging_difference\"\n",
    "response = requests.get(url)\n",
    "\n",
    "# Check if the request was successful\n",
    "if response.status_code == 200:\n",
    "    geojson_data = response.json()\n",
    "\n",
    "    # Save the GeoJSON to the specified folder and name it \"lab3_test.geojson\"\n",
    "    output_folder = r\"C:\\Users\\Maochuan\\OneDrive\\桌面\\lab3\"\n",
    "    output_file_path = os.path.join(output_folder, \"temperature_kriging_difference.geojson\")\n",
    "    print(f\"Output file path: {output_file_path}\")\n",
    "\n",
    "    with open(output_file_path, \"w\") as f:\n",
    "        json.dump(geojson_data, f)\n",
    "    print(f\"GeoJSON file saved as {output_file_path}\")\n",
    "else:\n",
    "    print(\"Error fetching GeoJSON data\")\n"
   ]
  },
  {
   "cell_type": "code",
   "execution_count": 33,
   "metadata": {},
   "outputs": [],
   "source": [
    "import json\n",
    "\n",
    "# Read input JSON data from file\n",
    "with open(r'C:\\Users\\Maochuan\\OneDrive\\桌面\\lab3\\temperature_kriging_difference.geojson', 'r') as input_file:\n",
    "    input_data = json.load(input_file)\n",
    "\n",
    "# Process input data and create output data\n",
    "output_data = {\n",
    "    \"type\": \"FeatureCollection\",\n",
    "    \"features\": [\n",
    "        {\n",
    "            \"type\": \"Feature\",\n",
    "            \"geometry\": {\n",
    "                \"type\": \"Point\",\n",
    "                \"coordinates\": point_data[\"geometry\"][\"coordinates\"]\n",
    "            },\n",
    "            \"properties\": {\n",
    "                \"Error\": point_data[\"error\"]\n",
    "            }\n",
    "        }\n",
    "        for point_data in input_data\n",
    "    ]\n",
    "}\n",
    "\n",
    "# Write output JSON data to file\n",
    "with open(r'C:\\Users\\Maochuan\\OneDrive\\桌面\\lab3\\temperature_kriging_difference_final.json', 'w') as output_file:\n",
    "    json.dump(output_data, output_file, indent=2)\n"
   ]
  },
  {
   "cell_type": "code",
   "execution_count": null,
   "metadata": {},
   "outputs": [],
   "source": [
    "arcpy.conversion.JSONToFeatures(r\"C:\\Users\\Maochuan\\OneDrive\\桌面\\lab3\\temperature_kriging_difference_final.json\", r\"C:\\test\\temperature_kriging_difference_final.shp\", \"POLYGON\")"
   ]
  },
  {
   "cell_type": "code",
   "execution_count": null,
   "metadata": {},
   "outputs": [],
   "source": [
    "import os\n",
    "import zipfile\n",
    "from arcgis.gis import GIS\n",
    "from arcgis.features import FeatureLayerCollection\n",
    "\n",
    "# Function to zip shapefile\n",
    "def zip_shapefile(shapefile_path):\n",
    "    with zipfile.ZipFile(shapefile_path + '.zip', 'w', zipfile.ZIP_DEFLATED) as zf:\n",
    "        for file_name in os.listdir(os.path.dirname(shapefile_path)):\n",
    "            if file_name.startswith(os.path.basename(shapefile_path).split('.')[0]) and not file_name.endswith('.zip'):\n",
    "                zf.write(os.path.join(os.path.dirname(shapefile_path), file_name), arcname=file_name)\n",
    "\n",
    "# Connect to your ArcGIS Online organization\n",
    "gis = GIS(\"home\")\n",
    "\n",
    "# Set the input shapefile path\n",
    "input_shapefile = r\"C:\\test\\temperature_kriging_difference_final.shp\"\n",
    "\n",
    "# Zip the shapefile\n",
    "zip_shapefile(input_shapefile)\n",
    "\n",
    "# Upload the zipped shapefile as a new item\n",
    "item = gis.content.add({'type': 'Shapefile'}, input_shapefile + '.zip')\n",
    "\n",
    "# Publish the new item as a feature layer\n",
    "feature_layer_item = item.publish()\n",
    "\n",
    "# Get the feature layer URL and print it\n",
    "feature_layer_url = feature_layer_item.url\n",
    "print(feature_layer_url)\n"
   ]
  },
  {
   "cell_type": "code",
   "execution_count": 14,
   "metadata": {},
   "outputs": [],
   "source": []
  },
  {
   "cell_type": "code",
   "execution_count": null,
   "metadata": {},
   "outputs": [],
   "source": []
  },
  {
   "cell_type": "code",
   "execution_count": null,
   "metadata": {},
   "outputs": [],
   "source": []
  }
 ],
 "metadata": {
  "kernelspec": {
   "display_name": "ArcGISPro",
   "language": "Python",
   "name": "python3"
  },
  "language_info": {
   "file_extension": ".py",
   "name": "python",
   "version": "3"
  }
 },
 "nbformat": 4,
 "nbformat_minor": 2
}
